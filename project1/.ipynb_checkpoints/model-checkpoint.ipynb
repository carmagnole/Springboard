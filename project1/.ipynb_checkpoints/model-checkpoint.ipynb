{
 "cells": [
  {
   "cell_type": "markdown",
   "metadata": {},
   "source": [
    "# Data Story"
   ]
  },
  {
   "cell_type": "code",
   "execution_count": 1,
   "metadata": {},
   "outputs": [],
   "source": [
    "import numpy as np\n",
    "from numpy.random import normal\n",
    "import pandas as pd\n",
    "import copy\n",
    "import matplotlib.pyplot as plt\n",
    "from scipy.stats import norm\n",
    "from itertools import repeat"
   ]
  },
  {
   "cell_type": "code",
   "execution_count": 2,
   "metadata": {},
   "outputs": [],
   "source": [
    "import warnings\n",
    "warnings.filterwarnings('ignore')"
   ]
  },
  {
   "cell_type": "markdown",
   "metadata": {},
   "source": [
    "# Load and clean data"
   ]
  },
  {
   "cell_type": "markdown",
   "metadata": {},
   "source": [
    "## State names and abbreviation"
   ]
  },
  {
   "cell_type": "markdown",
   "metadata": {},
   "source": [
    "Names of U.S. jurisdictions (states) and their abbreviation are organized into a DataFrame. The abbreviation will be used as geological labels for visualize data in the form of a map. District of Columbia is deleted and FED is added as abbreviation for Federal because DC is underneath the Federal jurisdiction."
   ]
  },
  {
   "cell_type": "code",
   "execution_count": 3,
   "metadata": {},
   "outputs": [],
   "source": [
    "states = pd.read_excel(\"./messy_data/states.xlsx\")\n",
    "states.drop(states.index[states.Abbreviation == \"DC\"], inplace=True)\n",
    "states.columns = [\"Jurisdiction\", \"Jurisdiction Abbreviation\"]\n",
    "states = states.append({\"Jurisdiction\" : \"Federal\", \"Jurisdiction Abbreviation\" : \"FED\"}, ignore_index=True)"
   ]
  },
  {
   "cell_type": "code",
   "execution_count": 4,
   "metadata": {},
   "outputs": [
    {
     "data": {
      "text/html": [
       "<div>\n",
       "<style scoped>\n",
       "    .dataframe tbody tr th:only-of-type {\n",
       "        vertical-align: middle;\n",
       "    }\n",
       "\n",
       "    .dataframe tbody tr th {\n",
       "        vertical-align: top;\n",
       "    }\n",
       "\n",
       "    .dataframe thead th {\n",
       "        text-align: right;\n",
       "    }\n",
       "</style>\n",
       "<table border=\"1\" class=\"dataframe\">\n",
       "  <thead>\n",
       "    <tr style=\"text-align: right;\">\n",
       "      <th></th>\n",
       "      <th>Jurisdiction</th>\n",
       "      <th>Jurisdiction Abbreviation</th>\n",
       "    </tr>\n",
       "  </thead>\n",
       "  <tbody>\n",
       "    <tr>\n",
       "      <th>0</th>\n",
       "      <td>Alabama</td>\n",
       "      <td>AL</td>\n",
       "    </tr>\n",
       "    <tr>\n",
       "      <th>1</th>\n",
       "      <td>Alaska</td>\n",
       "      <td>AK</td>\n",
       "    </tr>\n",
       "    <tr>\n",
       "      <th>2</th>\n",
       "      <td>Arizona</td>\n",
       "      <td>AZ</td>\n",
       "    </tr>\n",
       "    <tr>\n",
       "      <th>3</th>\n",
       "      <td>Arkansas</td>\n",
       "      <td>AR</td>\n",
       "    </tr>\n",
       "    <tr>\n",
       "      <th>4</th>\n",
       "      <td>California</td>\n",
       "      <td>CA</td>\n",
       "    </tr>\n",
       "  </tbody>\n",
       "</table>\n",
       "</div>"
      ],
      "text/plain": [
       "  Jurisdiction Jurisdiction Abbreviation\n",
       "0      Alabama                        AL\n",
       "1       Alaska                        AK\n",
       "2      Arizona                        AZ\n",
       "3     Arkansas                        AR\n",
       "4   California                        CA"
      ]
     },
     "execution_count": 4,
     "metadata": {},
     "output_type": "execute_result"
    }
   ],
   "source": [
    "states.head()"
   ]
  },
  {
   "cell_type": "markdown",
   "metadata": {},
   "source": [
    "## Prisoner population data"
   ]
  },
  {
   "cell_type": "markdown",
   "metadata": {},
   "source": [
    "The U.S. Bureau of Justice Statistics surveys the inmates annually and publishes the _Prisoners In XXXX_ series, reporting the demographics of the U.S. prisoner population. They congregate the data in both federal and states’ male and female prison system. The data table is then melted to an analysis-ready and clean format with rows representing observation while columns indicates variables."
   ]
  },
  {
   "cell_type": "code",
   "execution_count": 5,
   "metadata": {},
   "outputs": [
    {
     "data": {
      "text/html": [
       "<div>\n",
       "<style scoped>\n",
       "    .dataframe tbody tr th:only-of-type {\n",
       "        vertical-align: middle;\n",
       "    }\n",
       "\n",
       "    .dataframe tbody tr th {\n",
       "        vertical-align: top;\n",
       "    }\n",
       "\n",
       "    .dataframe thead th {\n",
       "        text-align: right;\n",
       "    }\n",
       "</style>\n",
       "<table border=\"1\" class=\"dataframe\">\n",
       "  <thead>\n",
       "    <tr style=\"text-align: right;\">\n",
       "      <th></th>\n",
       "      <th>Jurisdiction</th>\n",
       "      <th>1978</th>\n",
       "      <th>1979</th>\n",
       "      <th>1980</th>\n",
       "      <th>1981</th>\n",
       "      <th>1982</th>\n",
       "      <th>1983</th>\n",
       "      <th>1984</th>\n",
       "      <th>1985</th>\n",
       "      <th>1986</th>\n",
       "      <th>...</th>\n",
       "      <th>2007</th>\n",
       "      <th>2008</th>\n",
       "      <th>2009</th>\n",
       "      <th>2010</th>\n",
       "      <th>2011</th>\n",
       "      <th>2012</th>\n",
       "      <th>2013</th>\n",
       "      <th>2014</th>\n",
       "      <th>2015</th>\n",
       "      <th>2016</th>\n",
       "    </tr>\n",
       "  </thead>\n",
       "  <tbody>\n",
       "    <tr>\n",
       "      <th>1</th>\n",
       "      <td>Federal</td>\n",
       "      <td>27975.0</td>\n",
       "      <td>24835.0</td>\n",
       "      <td>22964.0</td>\n",
       "      <td>26574.0</td>\n",
       "      <td>28046.0</td>\n",
       "      <td>30172.0</td>\n",
       "      <td>32267.0</td>\n",
       "      <td>37819.0</td>\n",
       "      <td>41575.0</td>\n",
       "      <td>...</td>\n",
       "      <td>186280</td>\n",
       "      <td>188007</td>\n",
       "      <td>194493</td>\n",
       "      <td>196222</td>\n",
       "      <td>202462</td>\n",
       "      <td>203766</td>\n",
       "      <td>201697</td>\n",
       "      <td>196568</td>\n",
       "      <td>183502</td>\n",
       "      <td>176495</td>\n",
       "    </tr>\n",
       "    <tr>\n",
       "      <th>3</th>\n",
       "      <td>Alabama</td>\n",
       "      <td>5368.0</td>\n",
       "      <td>5221.0</td>\n",
       "      <td>6278.0</td>\n",
       "      <td>7339.0</td>\n",
       "      <td>8757.0</td>\n",
       "      <td>9375.0</td>\n",
       "      <td>9961.0</td>\n",
       "      <td>10453.0</td>\n",
       "      <td>11094.0</td>\n",
       "      <td>...</td>\n",
       "      <td>27254</td>\n",
       "      <td>28277</td>\n",
       "      <td>29419</td>\n",
       "      <td>29261</td>\n",
       "      <td>29696</td>\n",
       "      <td>29782</td>\n",
       "      <td>29660</td>\n",
       "      <td>29182</td>\n",
       "      <td>28220</td>\n",
       "      <td>26506</td>\n",
       "    </tr>\n",
       "    <tr>\n",
       "      <th>4</th>\n",
       "      <td>Alaska</td>\n",
       "      <td>678.0</td>\n",
       "      <td>729.0</td>\n",
       "      <td>801.0</td>\n",
       "      <td>977.0</td>\n",
       "      <td>1276.0</td>\n",
       "      <td>1557.0</td>\n",
       "      <td>1888.0</td>\n",
       "      <td>2207.0</td>\n",
       "      <td>2344.0</td>\n",
       "      <td>...</td>\n",
       "      <td>4603</td>\n",
       "      <td>4511</td>\n",
       "      <td>4696</td>\n",
       "      <td>4782</td>\n",
       "      <td>4932</td>\n",
       "      <td>4934</td>\n",
       "      <td>4450</td>\n",
       "      <td>5091</td>\n",
       "      <td>4761</td>\n",
       "      <td>4024</td>\n",
       "    </tr>\n",
       "    <tr>\n",
       "      <th>5</th>\n",
       "      <td>Arizona</td>\n",
       "      <td>3275.0</td>\n",
       "      <td>3573.0</td>\n",
       "      <td>4153.0</td>\n",
       "      <td>4986.0</td>\n",
       "      <td>5788.0</td>\n",
       "      <td>6566.0</td>\n",
       "      <td>7482.0</td>\n",
       "      <td>8134.0</td>\n",
       "      <td>8948.0</td>\n",
       "      <td>...</td>\n",
       "      <td>34286</td>\n",
       "      <td>35739</td>\n",
       "      <td>36768</td>\n",
       "      <td>36521</td>\n",
       "      <td>36470</td>\n",
       "      <td>36447</td>\n",
       "      <td>37402</td>\n",
       "      <td>38295</td>\n",
       "      <td>38738</td>\n",
       "      <td>38323</td>\n",
       "    </tr>\n",
       "    <tr>\n",
       "      <th>6</th>\n",
       "      <td>Arkansas</td>\n",
       "      <td>2553.0</td>\n",
       "      <td>2927.0</td>\n",
       "      <td>2805.0</td>\n",
       "      <td>3197.0</td>\n",
       "      <td>3755.0</td>\n",
       "      <td>4050.0</td>\n",
       "      <td>4286.0</td>\n",
       "      <td>4394.0</td>\n",
       "      <td>4477.0</td>\n",
       "      <td>...</td>\n",
       "      <td>13248</td>\n",
       "      <td>13656</td>\n",
       "      <td>14147</td>\n",
       "      <td>15040</td>\n",
       "      <td>14995</td>\n",
       "      <td>13594</td>\n",
       "      <td>15904</td>\n",
       "      <td>16476</td>\n",
       "      <td>16305</td>\n",
       "      <td>16161</td>\n",
       "    </tr>\n",
       "  </tbody>\n",
       "</table>\n",
       "<p>5 rows × 40 columns</p>\n",
       "</div>"
      ],
      "text/plain": [
       "  Jurisdiction     1978     1979     1980     1981     1982     1983     1984  \\\n",
       "1      Federal  27975.0  24835.0  22964.0  26574.0  28046.0  30172.0  32267.0   \n",
       "3      Alabama   5368.0   5221.0   6278.0   7339.0   8757.0   9375.0   9961.0   \n",
       "4       Alaska    678.0    729.0    801.0    977.0   1276.0   1557.0   1888.0   \n",
       "5      Arizona   3275.0   3573.0   4153.0   4986.0   5788.0   6566.0   7482.0   \n",
       "6     Arkansas   2553.0   2927.0   2805.0   3197.0   3755.0   4050.0   4286.0   \n",
       "\n",
       "      1985     1986  ...    2007    2008    2009    2010    2011    2012  \\\n",
       "1  37819.0  41575.0  ...  186280  188007  194493  196222  202462  203766   \n",
       "3  10453.0  11094.0  ...   27254   28277   29419   29261   29696   29782   \n",
       "4   2207.0   2344.0  ...    4603    4511    4696    4782    4932    4934   \n",
       "5   8134.0   8948.0  ...   34286   35739   36768   36521   36470   36447   \n",
       "6   4394.0   4477.0  ...   13248   13656   14147   15040   14995   13594   \n",
       "\n",
       "     2013    2014    2015    2016  \n",
       "1  201697  196568  183502  176495  \n",
       "3   29660   29182   28220   26506  \n",
       "4    4450    5091    4761    4024  \n",
       "5   37402   38295   38738   38323  \n",
       "6   15904   16476   16305   16161  \n",
       "\n",
       "[5 rows x 40 columns]"
      ]
     },
     "execution_count": 5,
     "metadata": {},
     "output_type": "execute_result"
    }
   ],
   "source": [
    "malePrisonerPopulation = pd.read_excel(\"./messy_data/Prisoners under the jurisdiction of state or federal correctional authorities 1978-2016.xlsx\", sheet_name=\"Male\", header=9, nrows=54).dropna(1, \"all\").dropna(0)\n",
    "malePrisonerPopulation.head()"
   ]
  },
  {
   "cell_type": "code",
   "execution_count": 6,
   "metadata": {},
   "outputs": [],
   "source": [
    "def cleanPopulationTable(table, states):\n",
    "    \n",
    "    # add DC data to Federal, and delete it\n",
    "    table.loc[table.Jurisdiction == \"Federal\"].iloc[:, 1:] = table.loc[table.Jurisdiction == \"Federal\"].iloc[:, 1:] + table.loc[table.Jurisdiction == \"District of Columbia\"].iloc[:, 1:].replace(\"--\", 0)\n",
    "    table.drop(table.index[table.Jurisdiction == \"District of Columbia\"], inplace=True)\n",
    "    \n",
    "    table = states.merge(table, on=\"Jurisdiction\")\n",
    "    \n",
    "    return table"
   ]
  },
  {
   "cell_type": "markdown",
   "metadata": {},
   "source": [
    "Originally, District of Columbia was treated as an independent jurisdiction in Bureau of Justice Statistics's survey. However, as of 2001, it is being considered as part of the federal jurisdiction. This created some missing values for the District of Columbia data and the federal data starting in 2001. To correct for the inconsistency, the District of Comubia data prior to 2001 is added into the federal prisoner population during data cleaning."
   ]
  },
  {
   "cell_type": "code",
   "execution_count": 7,
   "metadata": {},
   "outputs": [
    {
     "data": {
      "text/html": [
       "<div>\n",
       "<style scoped>\n",
       "    .dataframe tbody tr th:only-of-type {\n",
       "        vertical-align: middle;\n",
       "    }\n",
       "\n",
       "    .dataframe tbody tr th {\n",
       "        vertical-align: top;\n",
       "    }\n",
       "\n",
       "    .dataframe thead th {\n",
       "        text-align: right;\n",
       "    }\n",
       "</style>\n",
       "<table border=\"1\" class=\"dataframe\">\n",
       "  <thead>\n",
       "    <tr style=\"text-align: right;\">\n",
       "      <th></th>\n",
       "      <th>Jurisdiction</th>\n",
       "      <th>Jurisdiction Abbreviation</th>\n",
       "      <th>1978</th>\n",
       "      <th>1979</th>\n",
       "      <th>1980</th>\n",
       "      <th>1981</th>\n",
       "      <th>1982</th>\n",
       "      <th>1983</th>\n",
       "      <th>1984</th>\n",
       "      <th>1985</th>\n",
       "      <th>...</th>\n",
       "      <th>2007</th>\n",
       "      <th>2008</th>\n",
       "      <th>2009</th>\n",
       "      <th>2010</th>\n",
       "      <th>2011</th>\n",
       "      <th>2012</th>\n",
       "      <th>2013</th>\n",
       "      <th>2014</th>\n",
       "      <th>2015</th>\n",
       "      <th>2016</th>\n",
       "    </tr>\n",
       "  </thead>\n",
       "  <tbody>\n",
       "    <tr>\n",
       "      <th>0</th>\n",
       "      <td>Alabama</td>\n",
       "      <td>AL</td>\n",
       "      <td>5368.0</td>\n",
       "      <td>5221.0</td>\n",
       "      <td>6278.0</td>\n",
       "      <td>7339.0</td>\n",
       "      <td>8757.0</td>\n",
       "      <td>9375.0</td>\n",
       "      <td>9961.0</td>\n",
       "      <td>10453.0</td>\n",
       "      <td>...</td>\n",
       "      <td>27254</td>\n",
       "      <td>28277</td>\n",
       "      <td>29419</td>\n",
       "      <td>29261</td>\n",
       "      <td>29696</td>\n",
       "      <td>29782</td>\n",
       "      <td>29660</td>\n",
       "      <td>29182</td>\n",
       "      <td>28220</td>\n",
       "      <td>26506</td>\n",
       "    </tr>\n",
       "    <tr>\n",
       "      <th>1</th>\n",
       "      <td>Alaska</td>\n",
       "      <td>AK</td>\n",
       "      <td>678.0</td>\n",
       "      <td>729.0</td>\n",
       "      <td>801.0</td>\n",
       "      <td>977.0</td>\n",
       "      <td>1276.0</td>\n",
       "      <td>1557.0</td>\n",
       "      <td>1888.0</td>\n",
       "      <td>2207.0</td>\n",
       "      <td>...</td>\n",
       "      <td>4603</td>\n",
       "      <td>4511</td>\n",
       "      <td>4696</td>\n",
       "      <td>4782</td>\n",
       "      <td>4932</td>\n",
       "      <td>4934</td>\n",
       "      <td>4450</td>\n",
       "      <td>5091</td>\n",
       "      <td>4761</td>\n",
       "      <td>4024</td>\n",
       "    </tr>\n",
       "    <tr>\n",
       "      <th>2</th>\n",
       "      <td>Arizona</td>\n",
       "      <td>AZ</td>\n",
       "      <td>3275.0</td>\n",
       "      <td>3573.0</td>\n",
       "      <td>4153.0</td>\n",
       "      <td>4986.0</td>\n",
       "      <td>5788.0</td>\n",
       "      <td>6566.0</td>\n",
       "      <td>7482.0</td>\n",
       "      <td>8134.0</td>\n",
       "      <td>...</td>\n",
       "      <td>34286</td>\n",
       "      <td>35739</td>\n",
       "      <td>36768</td>\n",
       "      <td>36521</td>\n",
       "      <td>36470</td>\n",
       "      <td>36447</td>\n",
       "      <td>37402</td>\n",
       "      <td>38295</td>\n",
       "      <td>38738</td>\n",
       "      <td>38323</td>\n",
       "    </tr>\n",
       "    <tr>\n",
       "      <th>3</th>\n",
       "      <td>Arkansas</td>\n",
       "      <td>AR</td>\n",
       "      <td>2553.0</td>\n",
       "      <td>2927.0</td>\n",
       "      <td>2805.0</td>\n",
       "      <td>3197.0</td>\n",
       "      <td>3755.0</td>\n",
       "      <td>4050.0</td>\n",
       "      <td>4286.0</td>\n",
       "      <td>4394.0</td>\n",
       "      <td>...</td>\n",
       "      <td>13248</td>\n",
       "      <td>13656</td>\n",
       "      <td>14147</td>\n",
       "      <td>15040</td>\n",
       "      <td>14995</td>\n",
       "      <td>13594</td>\n",
       "      <td>15904</td>\n",
       "      <td>16476</td>\n",
       "      <td>16305</td>\n",
       "      <td>16161</td>\n",
       "    </tr>\n",
       "    <tr>\n",
       "      <th>4</th>\n",
       "      <td>California</td>\n",
       "      <td>CA</td>\n",
       "      <td>20178.0</td>\n",
       "      <td>21400.0</td>\n",
       "      <td>23253.0</td>\n",
       "      <td>27775.0</td>\n",
       "      <td>32987.0</td>\n",
       "      <td>37353.0</td>\n",
       "      <td>40892.0</td>\n",
       "      <td>47248.0</td>\n",
       "      <td>...</td>\n",
       "      <td>162654</td>\n",
       "      <td>162050</td>\n",
       "      <td>160286</td>\n",
       "      <td>155104</td>\n",
       "      <td>141382</td>\n",
       "      <td>128436</td>\n",
       "      <td>129684</td>\n",
       "      <td>129703</td>\n",
       "      <td>123808</td>\n",
       "      <td>124487</td>\n",
       "    </tr>\n",
       "  </tbody>\n",
       "</table>\n",
       "<p>5 rows × 41 columns</p>\n",
       "</div>"
      ],
      "text/plain": [
       "  Jurisdiction Jurisdiction Abbreviation     1978     1979     1980     1981  \\\n",
       "0      Alabama                        AL   5368.0   5221.0   6278.0   7339.0   \n",
       "1       Alaska                        AK    678.0    729.0    801.0    977.0   \n",
       "2      Arizona                        AZ   3275.0   3573.0   4153.0   4986.0   \n",
       "3     Arkansas                        AR   2553.0   2927.0   2805.0   3197.0   \n",
       "4   California                        CA  20178.0  21400.0  23253.0  27775.0   \n",
       "\n",
       "      1982     1983     1984     1985  ...    2007    2008    2009    2010  \\\n",
       "0   8757.0   9375.0   9961.0  10453.0  ...   27254   28277   29419   29261   \n",
       "1   1276.0   1557.0   1888.0   2207.0  ...    4603    4511    4696    4782   \n",
       "2   5788.0   6566.0   7482.0   8134.0  ...   34286   35739   36768   36521   \n",
       "3   3755.0   4050.0   4286.0   4394.0  ...   13248   13656   14147   15040   \n",
       "4  32987.0  37353.0  40892.0  47248.0  ...  162654  162050  160286  155104   \n",
       "\n",
       "     2011    2012    2013    2014    2015    2016  \n",
       "0   29696   29782   29660   29182   28220   26506  \n",
       "1    4932    4934    4450    5091    4761    4024  \n",
       "2   36470   36447   37402   38295   38738   38323  \n",
       "3   14995   13594   15904   16476   16305   16161  \n",
       "4  141382  128436  129684  129703  123808  124487  \n",
       "\n",
       "[5 rows x 41 columns]"
      ]
     },
     "execution_count": 7,
     "metadata": {},
     "output_type": "execute_result"
    }
   ],
   "source": [
    "malePrisonerPopulation = cleanPopulationTable(malePrisonerPopulation, states)\n",
    "malePrisonerPopulation.head()"
   ]
  },
  {
   "cell_type": "markdown",
   "metadata": {},
   "source": [
    "## Admission and release data"
   ]
  },
  {
   "cell_type": "markdown",
   "metadata": {},
   "source": [
    "The U.S. Bureau of Justice Statistics also surveys the statistics about annual admission and release in each jurisdiction. These data are very important in terms of building a model that accounts for the temporal dynamics of the prisoner population."
   ]
  },
  {
   "cell_type": "code",
   "execution_count": 8,
   "metadata": {},
   "outputs": [],
   "source": [
    "maleAdmission = pd.read_excel(\"./messy_data/admissions.xlsx\", sheet_name=\"Male\").dropna().replace(\"/\", np.nan)\n",
    "maleRelease = pd.read_excel(\"./messy_data/releases.xlsx\", sheet_name=\"Male\").dropna().replace(\"/\", np.nan)"
   ]
  },
  {
   "cell_type": "code",
   "execution_count": 9,
   "metadata": {},
   "outputs": [],
   "source": [
    "def cleanCountTable(table, states):\n",
    "    \n",
    "    # add DC data to Federal, and delete it\n",
    "    table.loc[table.Jurisdiction == \"Federal\"].iloc[:, 1:] = table.loc[table.Jurisdiction == \"Federal\"].iloc[:, 1:] + table.loc[table.Jurisdiction == \"District of Columbia\"].iloc[:, 1:].replace(\"--\", 0)\n",
    "    table.drop(table.index[table.Jurisdiction == \"District of Columbia\"], inplace=True)\n",
    "    \n",
    "    table = states.merge(table, on=\"Jurisdiction\")\n",
    "    \n",
    "    return table"
   ]
  },
  {
   "cell_type": "markdown",
   "metadata": {},
   "source": [
    "The inconsistency that involves the District of Columbia and federal numbers, as pointed out for the population data above, also exists for the annual admission and release data. It is corrected in the same fashion as mentioned before."
   ]
  },
  {
   "cell_type": "code",
   "execution_count": 10,
   "metadata": {},
   "outputs": [],
   "source": [
    "maleAdmission = cleanCountTable(maleAdmission, states)\n",
    "maleRelease = cleanCountTable(maleRelease, states)"
   ]
  },
  {
   "cell_type": "code",
   "execution_count": 11,
   "metadata": {},
   "outputs": [
    {
     "data": {
      "text/html": [
       "<div>\n",
       "<style scoped>\n",
       "    .dataframe tbody tr th:only-of-type {\n",
       "        vertical-align: middle;\n",
       "    }\n",
       "\n",
       "    .dataframe tbody tr th {\n",
       "        vertical-align: top;\n",
       "    }\n",
       "\n",
       "    .dataframe thead th {\n",
       "        text-align: right;\n",
       "    }\n",
       "</style>\n",
       "<table border=\"1\" class=\"dataframe\">\n",
       "  <thead>\n",
       "    <tr style=\"text-align: right;\">\n",
       "      <th></th>\n",
       "      <th>Jurisdiction</th>\n",
       "      <th>Jurisdiction Abbreviation</th>\n",
       "      <th>1978</th>\n",
       "      <th>1979</th>\n",
       "      <th>1980</th>\n",
       "      <th>1981</th>\n",
       "      <th>1982</th>\n",
       "      <th>1983</th>\n",
       "      <th>1984</th>\n",
       "      <th>1985</th>\n",
       "      <th>...</th>\n",
       "      <th>2007</th>\n",
       "      <th>2008</th>\n",
       "      <th>2009</th>\n",
       "      <th>2010</th>\n",
       "      <th>2011</th>\n",
       "      <th>2012</th>\n",
       "      <th>2013</th>\n",
       "      <th>2014</th>\n",
       "      <th>2015</th>\n",
       "      <th>2016</th>\n",
       "    </tr>\n",
       "  </thead>\n",
       "  <tbody>\n",
       "    <tr>\n",
       "      <th>0</th>\n",
       "      <td>Alabama</td>\n",
       "      <td>AL</td>\n",
       "      <td>2404.0</td>\n",
       "      <td>2382.0</td>\n",
       "      <td>3576.0</td>\n",
       "      <td>3773.0</td>\n",
       "      <td>4121.0</td>\n",
       "      <td>4283.0</td>\n",
       "      <td>4342.0</td>\n",
       "      <td>4013.0</td>\n",
       "      <td>...</td>\n",
       "      <td>9384</td>\n",
       "      <td>9683</td>\n",
       "      <td>11429</td>\n",
       "      <td>10341</td>\n",
       "      <td>9919</td>\n",
       "      <td>9683</td>\n",
       "      <td>9683</td>\n",
       "      <td>9391</td>\n",
       "      <td>8888</td>\n",
       "      <td>9155</td>\n",
       "    </tr>\n",
       "    <tr>\n",
       "      <th>1</th>\n",
       "      <td>Alaska</td>\n",
       "      <td>AK</td>\n",
       "      <td>250.0</td>\n",
       "      <td>303.0</td>\n",
       "      <td>449.0</td>\n",
       "      <td>430.0</td>\n",
       "      <td>502.0</td>\n",
       "      <td>681.0</td>\n",
       "      <td>697.0</td>\n",
       "      <td>840.0</td>\n",
       "      <td>...</td>\n",
       "      <td>NaN</td>\n",
       "      <td>NaN</td>\n",
       "      <td>NaN</td>\n",
       "      <td>2287</td>\n",
       "      <td>3090</td>\n",
       "      <td>3199</td>\n",
       "      <td>3199</td>\n",
       "      <td>3145</td>\n",
       "      <td>3131</td>\n",
       "      <td>1502</td>\n",
       "    </tr>\n",
       "    <tr>\n",
       "      <th>2</th>\n",
       "      <td>Arizona</td>\n",
       "      <td>AZ</td>\n",
       "      <td>1504.0</td>\n",
       "      <td>1559.0</td>\n",
       "      <td>1935.0</td>\n",
       "      <td>2594.0</td>\n",
       "      <td>2730.0</td>\n",
       "      <td>3088.0</td>\n",
       "      <td>3193.0</td>\n",
       "      <td>3755.0</td>\n",
       "      <td>...</td>\n",
       "      <td>12369</td>\n",
       "      <td>13129</td>\n",
       "      <td>12883</td>\n",
       "      <td>11708</td>\n",
       "      <td>11576</td>\n",
       "      <td>11486</td>\n",
       "      <td>12069</td>\n",
       "      <td>12747</td>\n",
       "      <td>12994</td>\n",
       "      <td>11933</td>\n",
       "    </tr>\n",
       "    <tr>\n",
       "      <th>3</th>\n",
       "      <td>Arkansas</td>\n",
       "      <td>AR</td>\n",
       "      <td>1851.0</td>\n",
       "      <td>2079.0</td>\n",
       "      <td>2192.0</td>\n",
       "      <td>2305.0</td>\n",
       "      <td>2182.0</td>\n",
       "      <td>2027.0</td>\n",
       "      <td>2034.0</td>\n",
       "      <td>2110.0</td>\n",
       "      <td>...</td>\n",
       "      <td>5938</td>\n",
       "      <td>6267</td>\n",
       "      <td>6596</td>\n",
       "      <td>6797</td>\n",
       "      <td>6346</td>\n",
       "      <td>5181</td>\n",
       "      <td>7939</td>\n",
       "      <td>8314</td>\n",
       "      <td>8112</td>\n",
       "      <td>8549</td>\n",
       "    </tr>\n",
       "    <tr>\n",
       "      <th>4</th>\n",
       "      <td>California</td>\n",
       "      <td>CA</td>\n",
       "      <td>11263.0</td>\n",
       "      <td>14245.0</td>\n",
       "      <td>13558.0</td>\n",
       "      <td>16835.0</td>\n",
       "      <td>20744.0</td>\n",
       "      <td>25195.0</td>\n",
       "      <td>26858.0</td>\n",
       "      <td>34620.0</td>\n",
       "      <td>...</td>\n",
       "      <td>125814</td>\n",
       "      <td>126768</td>\n",
       "      <td>117136</td>\n",
       "      <td>108157</td>\n",
       "      <td>88702</td>\n",
       "      <td>32103</td>\n",
       "      <td>35562</td>\n",
       "      <td>36025</td>\n",
       "      <td>32474</td>\n",
       "      <td>33232</td>\n",
       "    </tr>\n",
       "  </tbody>\n",
       "</table>\n",
       "<p>5 rows × 41 columns</p>\n",
       "</div>"
      ],
      "text/plain": [
       "  Jurisdiction Jurisdiction Abbreviation     1978     1979     1980     1981  \\\n",
       "0      Alabama                        AL   2404.0   2382.0   3576.0   3773.0   \n",
       "1       Alaska                        AK    250.0    303.0    449.0    430.0   \n",
       "2      Arizona                        AZ   1504.0   1559.0   1935.0   2594.0   \n",
       "3     Arkansas                        AR   1851.0   2079.0   2192.0   2305.0   \n",
       "4   California                        CA  11263.0  14245.0  13558.0  16835.0   \n",
       "\n",
       "      1982     1983     1984     1985  ...    2007    2008    2009    2010  \\\n",
       "0   4121.0   4283.0   4342.0   4013.0  ...    9384    9683   11429   10341   \n",
       "1    502.0    681.0    697.0    840.0  ...     NaN     NaN     NaN    2287   \n",
       "2   2730.0   3088.0   3193.0   3755.0  ...   12369   13129   12883   11708   \n",
       "3   2182.0   2027.0   2034.0   2110.0  ...    5938    6267    6596    6797   \n",
       "4  20744.0  25195.0  26858.0  34620.0  ...  125814  126768  117136  108157   \n",
       "\n",
       "    2011   2012   2013   2014   2015   2016  \n",
       "0   9919   9683   9683   9391   8888   9155  \n",
       "1   3090   3199   3199   3145   3131   1502  \n",
       "2  11576  11486  12069  12747  12994  11933  \n",
       "3   6346   5181   7939   8314   8112   8549  \n",
       "4  88702  32103  35562  36025  32474  33232  \n",
       "\n",
       "[5 rows x 41 columns]"
      ]
     },
     "execution_count": 11,
     "metadata": {},
     "output_type": "execute_result"
    }
   ],
   "source": [
    "maleAdmission.head()"
   ]
  },
  {
   "cell_type": "code",
   "execution_count": 12,
   "metadata": {},
   "outputs": [
    {
     "data": {
      "text/html": [
       "<div>\n",
       "<style scoped>\n",
       "    .dataframe tbody tr th:only-of-type {\n",
       "        vertical-align: middle;\n",
       "    }\n",
       "\n",
       "    .dataframe tbody tr th {\n",
       "        vertical-align: top;\n",
       "    }\n",
       "\n",
       "    .dataframe thead th {\n",
       "        text-align: right;\n",
       "    }\n",
       "</style>\n",
       "<table border=\"1\" class=\"dataframe\">\n",
       "  <thead>\n",
       "    <tr style=\"text-align: right;\">\n",
       "      <th></th>\n",
       "      <th>Jurisdiction</th>\n",
       "      <th>Jurisdiction Abbreviation</th>\n",
       "      <th>1978</th>\n",
       "      <th>1979</th>\n",
       "      <th>1980</th>\n",
       "      <th>1981</th>\n",
       "      <th>1982</th>\n",
       "      <th>1983</th>\n",
       "      <th>1984</th>\n",
       "      <th>1985</th>\n",
       "      <th>...</th>\n",
       "      <th>2007</th>\n",
       "      <th>2008</th>\n",
       "      <th>2009</th>\n",
       "      <th>2010</th>\n",
       "      <th>2011</th>\n",
       "      <th>2012</th>\n",
       "      <th>2013</th>\n",
       "      <th>2014</th>\n",
       "      <th>2015</th>\n",
       "      <th>2016</th>\n",
       "    </tr>\n",
       "  </thead>\n",
       "  <tbody>\n",
       "    <tr>\n",
       "      <th>0</th>\n",
       "      <td>Alabama</td>\n",
       "      <td>AL</td>\n",
       "      <td>2568.0</td>\n",
       "      <td>2519.0</td>\n",
       "      <td>3008.0</td>\n",
       "      <td>2677.0</td>\n",
       "      <td>2639.0</td>\n",
       "      <td>2923.0</td>\n",
       "      <td>3527.0</td>\n",
       "      <td>3377.0</td>\n",
       "      <td>...</td>\n",
       "      <td>9679</td>\n",
       "      <td>10128</td>\n",
       "      <td>10730</td>\n",
       "      <td>10572</td>\n",
       "      <td>9629</td>\n",
       "      <td>9794</td>\n",
       "      <td>9983</td>\n",
       "      <td>9928</td>\n",
       "      <td>9901</td>\n",
       "      <td>10895</td>\n",
       "    </tr>\n",
       "    <tr>\n",
       "      <th>1</th>\n",
       "      <td>Alaska</td>\n",
       "      <td>AK</td>\n",
       "      <td>229.0</td>\n",
       "      <td>208.0</td>\n",
       "      <td>248.0</td>\n",
       "      <td>258.0</td>\n",
       "      <td>324.0</td>\n",
       "      <td>484.0</td>\n",
       "      <td>473.0</td>\n",
       "      <td>593.0</td>\n",
       "      <td>...</td>\n",
       "      <td>2824</td>\n",
       "      <td>3183</td>\n",
       "      <td>2707</td>\n",
       "      <td>2645</td>\n",
       "      <td>2953</td>\n",
       "      <td>3080</td>\n",
       "      <td>3080</td>\n",
       "      <td>3080</td>\n",
       "      <td>2966</td>\n",
       "      <td>1826</td>\n",
       "    </tr>\n",
       "    <tr>\n",
       "      <th>2</th>\n",
       "      <td>Arizona</td>\n",
       "      <td>AZ</td>\n",
       "      <td>1220.0</td>\n",
       "      <td>1510.0</td>\n",
       "      <td>1353.0</td>\n",
       "      <td>1733.0</td>\n",
       "      <td>1879.0</td>\n",
       "      <td>2096.0</td>\n",
       "      <td>2344.0</td>\n",
       "      <td>3130.0</td>\n",
       "      <td>...</td>\n",
       "      <td>11202</td>\n",
       "      <td>11655</td>\n",
       "      <td>12279</td>\n",
       "      <td>11944</td>\n",
       "      <td>11589</td>\n",
       "      <td>11580</td>\n",
       "      <td>11507</td>\n",
       "      <td>11973</td>\n",
       "      <td>12497</td>\n",
       "      <td>12197</td>\n",
       "    </tr>\n",
       "    <tr>\n",
       "      <th>3</th>\n",
       "      <td>Arkansas</td>\n",
       "      <td>AR</td>\n",
       "      <td>1772.0</td>\n",
       "      <td>1771.0</td>\n",
       "      <td>2229.0</td>\n",
       "      <td>1946.0</td>\n",
       "      <td>1618.0</td>\n",
       "      <td>1765.0</td>\n",
       "      <td>1801.0</td>\n",
       "      <td>1987.0</td>\n",
       "      <td>...</td>\n",
       "      <td>5357</td>\n",
       "      <td>5854</td>\n",
       "      <td>6203</td>\n",
       "      <td>5952</td>\n",
       "      <td>6468</td>\n",
       "      <td>5646</td>\n",
       "      <td>5752</td>\n",
       "      <td>7759</td>\n",
       "      <td>8427</td>\n",
       "      <td>8943</td>\n",
       "    </tr>\n",
       "    <tr>\n",
       "      <th>4</th>\n",
       "      <td>California</td>\n",
       "      <td>CA</td>\n",
       "      <td>9194.0</td>\n",
       "      <td>12647.0</td>\n",
       "      <td>11574.0</td>\n",
       "      <td>12180.0</td>\n",
       "      <td>14998.0</td>\n",
       "      <td>20743.0</td>\n",
       "      <td>23279.0</td>\n",
       "      <td>27936.0</td>\n",
       "      <td>...</td>\n",
       "      <td>122328</td>\n",
       "      <td>123585</td>\n",
       "      <td>115944</td>\n",
       "      <td>110464</td>\n",
       "      <td>100001</td>\n",
       "      <td>43413</td>\n",
       "      <td>33996</td>\n",
       "      <td>35922</td>\n",
       "      <td>38322</td>\n",
       "      <td>32199</td>\n",
       "    </tr>\n",
       "  </tbody>\n",
       "</table>\n",
       "<p>5 rows × 41 columns</p>\n",
       "</div>"
      ],
      "text/plain": [
       "  Jurisdiction Jurisdiction Abbreviation    1978     1979     1980     1981  \\\n",
       "0      Alabama                        AL  2568.0   2519.0   3008.0   2677.0   \n",
       "1       Alaska                        AK   229.0    208.0    248.0    258.0   \n",
       "2      Arizona                        AZ  1220.0   1510.0   1353.0   1733.0   \n",
       "3     Arkansas                        AR  1772.0   1771.0   2229.0   1946.0   \n",
       "4   California                        CA  9194.0  12647.0  11574.0  12180.0   \n",
       "\n",
       "      1982     1983     1984     1985  ...    2007    2008    2009    2010  \\\n",
       "0   2639.0   2923.0   3527.0   3377.0  ...    9679   10128   10730   10572   \n",
       "1    324.0    484.0    473.0    593.0  ...    2824    3183    2707    2645   \n",
       "2   1879.0   2096.0   2344.0   3130.0  ...   11202   11655   12279   11944   \n",
       "3   1618.0   1765.0   1801.0   1987.0  ...    5357    5854    6203    5952   \n",
       "4  14998.0  20743.0  23279.0  27936.0  ...  122328  123585  115944  110464   \n",
       "\n",
       "     2011   2012   2013   2014   2015   2016  \n",
       "0    9629   9794   9983   9928   9901  10895  \n",
       "1    2953   3080   3080   3080   2966   1826  \n",
       "2   11589  11580  11507  11973  12497  12197  \n",
       "3    6468   5646   5752   7759   8427   8943  \n",
       "4  100001  43413  33996  35922  38322  32199  \n",
       "\n",
       "[5 rows x 41 columns]"
      ]
     },
     "execution_count": 12,
     "metadata": {},
     "output_type": "execute_result"
    }
   ],
   "source": [
    "maleRelease.head()"
   ]
  },
  {
   "cell_type": "markdown",
   "metadata": {},
   "source": [
    "## Annual sentencing data"
   ]
  },
  {
   "cell_type": "markdown",
   "metadata": {},
   "source": [
    "The U.S. Sentencing Commission is an independent agency of the judicial branch of the federal government. It composes the sentencing guidelines for the U.S. federal courts. It also publishes annual statistics pertaining to the criminal case sentencing. They survey the average national sentencing every year."
   ]
  },
  {
   "cell_type": "code",
   "execution_count": 13,
   "metadata": {},
   "outputs": [],
   "source": [
    "anualSentence = pd.read_excel(\"./messy_data/national sentencing.xlsx\").iloc[:, [0,1]]\n",
    "anualSentence.columns = [\"Year\", \"Sentence\"]\n",
    "anualSentence.set_index(\"Year\", inplace=True)\n",
    "anualSentence = anualSentence.iloc[:-1,0]"
   ]
  },
  {
   "cell_type": "code",
   "execution_count": 14,
   "metadata": {},
   "outputs": [
    {
     "data": {
      "text/plain": [
       "Text(0.5, 1.0, 'National Average Sentencing')"
      ]
     },
     "execution_count": 14,
     "metadata": {},
     "output_type": "execute_result"
    },
    {
     "data": {
      "image/png": "[encoded data removed]",
      "text/plain": [
       "<Figure size 432x288 with 1 Axes>"
      ]
     },
     "metadata": {
      "needs_background": "light"
     },
     "output_type": "display_data"
    }
   ],
   "source": [
    "anualSentence.plot()\n",
    "plt.xticks(np.array(range(1995, 2017, 3)))\n",
    "plt.ylabel(\"Sentence\")\n",
    "plt.title(\"National Average Sentencing\")"
   ]
  },
  {
   "cell_type": "markdown",
   "metadata": {},
   "source": [
    "It seems that at the national level, sentences are getting shorter. However, it is difficult to justify building a model that is centered around the idea of a more lenient justice system in the long run because only a limited number of data points are available, making it impossibe to distinguish whether this trend is merely a short-term adjustment or a sustained effect. Thus, a normal distribution is adopted to sample future sentences."
   ]
  },
  {
   "cell_type": "markdown",
   "metadata": {},
   "source": [
    "# Model"
   ]
  },
  {
   "cell_type": "markdown",
   "metadata": {},
   "source": [
    "Using federal data to demonstrate a model:"
   ]
  },
  {
   "cell_type": "code",
   "execution_count": 15,
   "metadata": {},
   "outputs": [],
   "source": [
    "def extractStatePopulationCount(table, jurisdiction, tableType, year_begin=1978,year_end=2016):\n",
    "    \n",
    "    jurisdictions = table.Jurisdiction\n",
    "    data = table.loc[jurisdictions==jurisdiction].iloc[0, 2:].astype(float)\n",
    "    data = data.interpolate() # linear interpolation to fill in missing data\n",
    "    data = data[np.logical_and(data.index <= year_end, data.index >= year_begin)]\n",
    "    data.name = tableType\n",
    "    data.index.name=\"Year\"\n",
    "    \n",
    "    return data"
   ]
  },
  {
   "cell_type": "markdown",
   "metadata": {},
   "source": [
    "(Note: some jurisdiction also failed to report their data during certain years. The corresponding missing values are interpolated linearly.)"
   ]
  },
  {
   "cell_type": "code",
   "execution_count": 16,
   "metadata": {},
   "outputs": [],
   "source": [
    "jurisdiction = \"Federal\"\n",
    "\n",
    "population = extractStatePopulationCount(malePrisonerPopulation, jurisdiction, \"Population\")\n",
    "admission = extractStatePopulationCount(maleAdmission, jurisdiction, \"Admission\")\n",
    "release = extractStatePopulationCount(maleRelease, jurisdiction, \"Release\")"
   ]
  },
  {
   "cell_type": "code",
   "execution_count": 17,
   "metadata": {},
   "outputs": [
    {
     "data": {
      "text/plain": [
       "Text(0.5, 1.0, 'Prisoner Population Dynamics, Federal')"
      ]
     },
     "execution_count": 17,
     "metadata": {},
     "output_type": "execute_result"
    },
    {
     "data": {
      "image/png": "[encoded data removed]",
      "text/plain": [
       "<Figure size 432x288 with 1 Axes>"
      ]
     },
     "metadata": {
      "needs_background": "light"
     },
     "output_type": "display_data"
    }
   ],
   "source": [
    "population.plot()\n",
    "admission.plot()\n",
    "release.plot()\n",
    "plt.axvline(1995, color=\"red\")\n",
    "plt.legend()\n",
    "plt.ylabel(\"Count\")\n",
    "plt.title(\"Prisoner Population Dynamics, Federal\")"
   ]
  },
  {
   "cell_type": "markdown",
   "metadata": {},
   "source": [
    "Given data of annual population $p[t]$, admission $a[t]$ and release $r[t]$, we can model the yearly dynamics of prisoner population with a first degree difference stochastic process\n",
    "$$p[t] - p[t - 1] = a[t] - r[t] + \\varepsilon p[t - 1], \\varepsilon  \\sim N(0,\\delta^2 )$$\n",
    "where $\\varepsilon p[t - 1]$ is the Gaussian error term and $\\varepsilon$ indicates the error is proportional to the previous population. $\\varepsilon$ should be zero-centered with a variance of $\\delta^2$. Given past anual survey of the prisoner population, admission and release, the equation above can be used to estimate the variance of $\\varepsilon$."
   ]
  },
  {
   "cell_type": "code",
   "execution_count": 18,
   "metadata": {},
   "outputs": [],
   "source": [
    "epsilon = (population.diff() - admission + release).values[1:] / population.values[:-1]"
   ]
  },
  {
   "cell_type": "code",
   "execution_count": 19,
   "metadata": {},
   "outputs": [
    {
     "data": {
      "text/plain": [
       "Text(0.5, 1.0, 'Proportional, Federal')"
      ]
     },
     "execution_count": 19,
     "metadata": {},
     "output_type": "execute_result"
    },
    {
     "data": {
      "image/png": "[encoded data removed]",
      "text/plain": [
       "<Figure size 432x288 with 1 Axes>"
      ]
     },
     "metadata": {
      "needs_background": "light"
     },
     "output_type": "display_data"
    }
   ],
   "source": [
    "plt.stem(np.array(range(1979, 2017)) - 0.5, epsilon)\n",
    "plt.xlabel(\"Year\")\n",
    "plt.ylabel(\"epsilon\")\n",
    "plt.title(\"Proportional, Federal\")"
   ]
  },
  {
   "cell_type": "code",
   "execution_count": 20,
   "metadata": {},
   "outputs": [
    {
     "data": {
      "text/plain": [
       "0.02460665543654828"
      ]
     },
     "execution_count": 20,
     "metadata": {},
     "output_type": "execute_result"
    }
   ],
   "source": [
    "epsilon_sd = epsilon.std()\n",
    "epsilon_sd"
   ]
  },
  {
   "cell_type": "markdown",
   "metadata": {},
   "source": [
    "Every year it is assumed that any prisoner's remaining sentence to serve is also a random variable $s[t]$ which is normally distributed. The center of that distribution is year-dependent and denoted $\\mu [t]$, while the variance $\\sigma^2$ is assumed to be invariate. The annual release can be approximated with such distribution's cumulative distribution function\n",
    "$$r[t] = F(1;\\mu [t - 1],{\\sigma ^2})p[t - 1]$$\n",
    "$F(1)$ represents the proportion of prisoners whose remaining sentence is less than 1 year."
   ]
  },
  {
   "cell_type": "markdown",
   "metadata": {},
   "source": [
    "A second degree difference equation is used to describe the temporal evolution of the combined remaining sentence  of the whole prisoner body\n",
    "$$p[t]\\mu [t] = p[t - 1](\\mu [t - 1] - 1) + 0.5r[t] + a[t]y[t] - 0.5a[t]$$\n",
    "$p[t - 1](\\mu [t - 1] - 1)$ represents the previous year's population's average number of remaining years to serve reduces by 1 year. However, because $r[t]$ prisoners are being released, 1 year of decrease is an over-estimation. On average, for each prisoner released, a half-year over-estimation is introduced. Thus, it is compensated by the $+0.5r[t]$ term given the prisoners are released evenly throughout the year. $y[t]$ is the average sentence of the admitted prisoner of that year. $a[t]y[t]$ represents the contribution of the newly admitted prisoners. Similarly, for each newly admitted prisoner, because the individual will have served some time by the end of the year, we introduced a half-year over-estimation, which is corrected by the $-0.5a[t]$ term."
   ]
  },
  {
   "cell_type": "markdown",
   "metadata": {},
   "source": [
    "Provided the annual average sentence of the newly admitted prisoners and the initial state of $\\mu [t]$ ($\\mu [1994]$ due to the lack of anual sentencing data prior to 1995), equation $p[t]\\mu [t] = p[t - 1](\\mu [t - 1] - 1) + 0.5r[t] + a[t]y[t] - 0.5a[t]$ can be used to propagate the state of the system and resolve $\\mu [t]$."
   ]
  },
  {
   "cell_type": "code",
   "execution_count": 21,
   "metadata": {},
   "outputs": [],
   "source": [
    "modernPopulation = extractStatePopulationCount(malePrisonerPopulation, jurisdiction, \"Population\", 1995,2016)\n",
    "modernAdmission = extractStatePopulationCount(maleAdmission, jurisdiction, \"Admission\", 1995,2016)\n",
    "modernRelease = extractStatePopulationCount(maleRelease, jurisdiction, \"Release\", 1995,2016)"
   ]
  },
  {
   "cell_type": "code",
   "execution_count": 22,
   "metadata": {},
   "outputs": [],
   "source": [
    "def extractInitialPopulation(table, jurisdiction):\n",
    "    \n",
    "    jurisdictions = table.Jurisdiction\n",
    "    population = table.loc[jurisdictions==jurisdiction].iloc[0, 2:].astype(float)\n",
    "    population = population.interpolate() # linear interpolation to fill in missing data\n",
    "    initialPopulation = population[population.index == 1994]\n",
    "    initialPopulation.name = \"Population\"\n",
    "    initialPopulation.index.name=\"Year\"\n",
    "    \n",
    "    return initialPopulation"
   ]
  },
  {
   "cell_type": "markdown",
   "metadata": {},
   "source": [
    "Here, an initial state of $\\mu[1994] = 20$ is used."
   ]
  },
  {
   "cell_type": "code",
   "execution_count": 23,
   "metadata": {},
   "outputs": [
    {
     "data": {
      "text/plain": [
       "Year\n",
       "1994    87894.0\n",
       "Name: Population, dtype: float64"
      ]
     },
     "execution_count": 23,
     "metadata": {},
     "output_type": "execute_result"
    }
   ],
   "source": [
    "initialPopulation = extractInitialPopulation(malePrisonerPopulation, jurisdiction)\n",
    "initialPopulation"
   ]
  },
  {
   "cell_type": "code",
   "execution_count": 24,
   "metadata": {},
   "outputs": [],
   "source": [
    "initialMu = 20"
   ]
  },
  {
   "cell_type": "code",
   "execution_count": 25,
   "metadata": {},
   "outputs": [],
   "source": [
    "def propagateMu(past_mu,past_p, current_p, current_a,current_r, current_y):\n",
    "    # State propagation function\n",
    "    return (past_p * (past_mu - 1) + 0.5 * current_r + current_a * current_y - 0.5 * current_a) / current_p\n"
   ]
  },
  {
   "cell_type": "code",
   "execution_count": 26,
   "metadata": {},
   "outputs": [],
   "source": [
    "def solveMu(initialMu,initialPopulation, population, admission,release, anualSentence):\n",
    "    # Given the initial state of mu and populatin,\n",
    "    # this function can calculate the evolution of mu\n",
    "    # according to the revolution of population, admission, release, and average sentence\n",
    "    \n",
    "    mu = population * 0\n",
    "    mu.name = \"Mu\"\n",
    "\n",
    "    \n",
    "    for i, p in enumerate(population):\n",
    "    \n",
    "        if i == 0:\n",
    "            past_p = initialPopulation.values\n",
    "            past_mu = initialMu\n",
    "\n",
    "        mu.iloc[i] = propagateMu(past_mu, past_p, population.iloc[i], admission.iloc[i],release.iloc[i], anualSentence.iloc[i])\n",
    "        \n",
    "        past_mu = mu.iloc[i]\n",
    "        past_p = population.iloc[i]\n",
    "        \n",
    "    mu[1994] = initialMu\n",
    "    mu.sort_index(inplace=True)\n",
    "    \n",
    "    return mu"
   ]
  },
  {
   "cell_type": "code",
   "execution_count": 27,
   "metadata": {},
   "outputs": [],
   "source": [
    "mu = solveMu(initialMu,initialPopulation, modernPopulation, modernAdmission,modernRelease, anualSentence)"
   ]
  },
  {
   "cell_type": "code",
   "execution_count": 28,
   "metadata": {},
   "outputs": [
    {
     "data": {
      "text/plain": [
       "Text(0.5, 1.0, 'Average Remaining Sentence, Federal')"
      ]
     },
     "execution_count": 28,
     "metadata": {},
     "output_type": "execute_result"
    },
    {
     "data": {
      "image/png": "[encoded data removed]",
      "text/plain": [
       "<Figure size 432x288 with 1 Axes>"
      ]
     },
     "metadata": {
      "needs_background": "light"
     },
     "output_type": "display_data"
    }
   ],
   "source": [
    "mu.plot()\n",
    "plt.xticks(np.array(range(1995, 2016, 4)))\n",
    "plt.ylabel(\"mu\")\n",
    "plt.title(\"Average Remaining Sentence, Federal\")"
   ]
  },
  {
   "cell_type": "markdown",
   "metadata": {},
   "source": [
    "Using the resolved $\\mu[t]$ and the relationship of $r[t] = F(1;\\mu [t - 1],{\\sigma ^2})p[t - 1]$, for each year, a $\\sigma$ is calculated. The average is taken for a point estimate."
   ]
  },
  {
   "cell_type": "code",
   "execution_count": 29,
   "metadata": {},
   "outputs": [],
   "source": [
    "modernPopulation = pd.concat((initialPopulation, modernPopulation))"
   ]
  },
  {
   "cell_type": "code",
   "execution_count": 30,
   "metadata": {},
   "outputs": [],
   "source": [
    "def estimateSigmaOfNormalCDF(x,F, mu):\n",
    "    # This function can take vetor input\n",
    "    \n",
    "    # we have function F(x) as the CDF of N(mu, sigma^2)\n",
    "    # given function Phi(x) as the CDF of N(0, 1)\n",
    "    # F(x) = Phi((x - mu) / sigma)\n",
    "    \n",
    "    # the reverse function of Phi is norm.ppf()\n",
    "    \n",
    "    return (x - mu) / norm.ppf(F) \n",
    "    "
   ]
  },
  {
   "cell_type": "code",
   "execution_count": 31,
   "metadata": {},
   "outputs": [],
   "source": [
    "def estimateSigma(population, release, mu):\n",
    "    \n",
    "    mu = mu.values[: -1]\n",
    "    p = population.values[: -1]\n",
    "    r = release.values\n",
    "\n",
    "    \n",
    "    F = r / p\n",
    "    sigma = estimateSigmaOfNormalCDF(1,F, mu)\n",
    "    sigma = sigma[sigma >= 0]\n",
    "    \n",
    "    return sigma.mean()"
   ]
  },
  {
   "cell_type": "code",
   "execution_count": 32,
   "metadata": {},
   "outputs": [
    {
     "name": "stdout",
     "output_type": "stream",
     "text": [
      "sigma: 20.738450343381512\n"
     ]
    }
   ],
   "source": [
    "sigma = estimateSigma(modernPopulation, modernRelease, mu)\n",
    "print(\"sigma: \" + str(sigma))"
   ]
  },
  {
   "cell_type": "markdown",
   "metadata": {},
   "source": [
    "# Forecast"
   ]
  },
  {
   "cell_type": "markdown",
   "metadata": {},
   "source": [
    "## Simulation of one future trajectory"
   ]
  },
  {
   "cell_type": "markdown",
   "metadata": {},
   "source": [
    "The annual admission and the average sentence can be sampled by building a normal distribution where the variance comes from estimation via past data, while the center is the last-reported data point (2016)."
   ]
  },
  {
   "cell_type": "code",
   "execution_count": 33,
   "metadata": {},
   "outputs": [],
   "source": [
    "admissionSD = modernAdmission.std()\n",
    "sentenceSD = anualSentence.std()"
   ]
  },
  {
   "cell_type": "markdown",
   "metadata": {},
   "source": [
    "First, simulate the anual admission and average sentence."
   ]
  },
  {
   "cell_type": "code",
   "execution_count": 34,
   "metadata": {},
   "outputs": [],
   "source": [
    "def sampleFutureAdmissionSentence(sampleMean,sampleSD, year_end, dataType):\n",
    "    \n",
    "    years = range(2017, year_end + 1)\n",
    "    simulated = normal(sampleMean,sampleSD, len(years))\n",
    "    simulated[simulated <= 0] = sampleMean\n",
    "    if dataType == \"Admission\":\n",
    "        simulated = np.round(simulated)\n",
    "    \n",
    "    simulated = pd.Series(simulated, index=years, name=dataType, dtype=int)\n",
    "    simulated.index.name = \"Year\"\n",
    "    \n",
    "    return simulated"
   ]
  },
  {
   "cell_type": "code",
   "execution_count": 35,
   "metadata": {},
   "outputs": [],
   "source": [
    "futureAdmission = sampleFutureAdmissionSentence(modernAdmission.iloc[-1],admissionSD, 2050, \"Admission\")\n",
    "futureSentence = sampleFutureAdmissionSentence(anualSentence.iloc[-1],sentenceSD, 2050, \"Sentence\")"
   ]
  },
  {
   "cell_type": "markdown",
   "metadata": {},
   "source": [
    "Second, given $\\mu[t-1]$ and $\\sigma$, we can determine the current year's release by the former year's population using $r[t] = F(1;\\mu [t - 1],{\\sigma ^2})p[t - 1]$. Equation $p[t] - p[t - 1] = a[t] - r[t] + \\varepsilon p[t - 1]$ can then be used to sample for the following year's prisoner population. Finally, equation $p[t]\\mu [t] = p[t - 1](\\mu [t - 1] - 1) + 0.5r[t] + a[t]y[t] - 0.5a[t]$ can determine current year's $\\mu$. In this fashion, one full iteration of state evolution is completed."
   ]
  },
  {
   "cell_type": "code",
   "execution_count": 36,
   "metadata": {},
   "outputs": [],
   "source": [
    "def propagateState(past_mu,past_p, current_a,current_y, epsilon_sd, sigma):\n",
    "    \n",
    "    if np.isnan(sigma):\n",
    "        current_r = (- past_p + current_a * (current_y - 0.5 + past_mu)) / (past_mu - 0.5)\n",
    "        # Such dynamic stablizes mu\n",
    "    else:\n",
    "        current_r = np.round(norm(past_mu, sigma).cdf(1) * past_p)\n",
    "    current_p = np.round(past_p + current_a - current_r + normal(scale=epsilon_sd) * past_p)\n",
    "    current_mu = propagateMu(past_mu,past_p, current_p, current_a,current_r, current_y)\n",
    "    \n",
    "    return current_mu, current_p, current_r\n",
    "    "
   ]
  },
  {
   "cell_type": "code",
   "execution_count": 37,
   "metadata": {},
   "outputs": [],
   "source": [
    "initialMu = mu.iloc[-1]\n",
    "initialPopulation = modernPopulation.iloc[-1]"
   ]
  },
  {
   "cell_type": "code",
   "execution_count": 38,
   "metadata": {},
   "outputs": [],
   "source": [
    "def solvePopulation(initialMu,initialPopulation, futureAdmission,futureSentence, epsilon_sd, sigma):\n",
    "    \n",
    "    futurePopulation = futureAdmission * 0\n",
    "    futurePopulation.name = \"Population\"\n",
    "    \n",
    "    futureRelease = futureAdmission * 0\n",
    "    futureRelease.name = \"Release\"\n",
    "    \n",
    "    futureMu = futureSentence *0\n",
    "    futureMu.name = \"Mu\"\n",
    "    \n",
    "    for i, p in enumerate(futurePopulation):\n",
    "        \n",
    "        if i == 0:\n",
    "            past_mu = initialMu\n",
    "            past_p = initialPopulation\n",
    "            \n",
    "        futureMu.iloc[i], futurePopulation.iloc[i], futureRelease.iloc[i] = propagateState(past_mu,past_p, futureAdmission.iloc[i],futureSentence.iloc[i], epsilon_sd, sigma)\n",
    "        \n",
    "        past_mu = futureMu.iloc[i]\n",
    "        past_p = futurePopulation.iloc[i]\n",
    "        \n",
    "    return futureMu, futurePopulation, futureRelease"
   ]
  },
  {
   "cell_type": "code",
   "execution_count": 39,
   "metadata": {},
   "outputs": [],
   "source": [
    "futureMu, futurePopulation, futureRelease = solvePopulation(initialMu,initialPopulation, futureAdmission,futureSentence, epsilon_sd, sigma)"
   ]
  },
  {
   "cell_type": "code",
   "execution_count": 40,
   "metadata": {},
   "outputs": [
    {
     "data": {
      "text/plain": [
       "Text(0.5, 1.0, 'Prisoner Population Projection, Federal')"
      ]
     },
     "execution_count": 40,
     "metadata": {},
     "output_type": "execute_result"
    },
    {
     "data": {
      "image/png": "[encoded data removed]",
      "text/plain": [
       "<Figure size 432x288 with 1 Axes>"
      ]
     },
     "metadata": {
      "needs_background": "light"
     },
     "output_type": "display_data"
    }
   ],
   "source": [
    "futurePopulation.plot()\n",
    "futureAdmission.plot()\n",
    "futureRelease.plot()\n",
    "plt.legend()\n",
    "plt.ylabel(\"Count\")\n",
    "plt.title(\"Prisoner Population Projection, Federal\")"
   ]
  },
  {
   "cell_type": "code",
   "execution_count": 41,
   "metadata": {},
   "outputs": [
    {
     "data": {
      "text/plain": [
       "Text(0.5, 1.0, 'Average Remaining Sentence Projection, Federal')"
      ]
     },
     "execution_count": 41,
     "metadata": {},
     "output_type": "execute_result"
    },
    {
     "data": {
      "image/png": "[encoded data removed]",
      "text/plain": [
       "<Figure size 432x288 with 1 Axes>"
      ]
     },
     "metadata": {
      "needs_background": "light"
     },
     "output_type": "display_data"
    }
   ],
   "source": [
    "futureMu.plot()\n",
    "plt.ylabel(\"mu\")\n",
    "plt.title(\"Average Remaining Sentence Projection, Federal\")"
   ]
  },
  {
   "cell_type": "markdown",
   "metadata": {},
   "source": [
    "## Simulate and average a group of trajectories"
   ]
  },
  {
   "cell_type": "markdown",
   "metadata": {},
   "source": [
    "1000 simulations generate the mean and standard deviation of the projectjion. Shaded area represents MEAN ± SD."
   ]
  },
  {
   "cell_type": "code",
   "execution_count": 42,
   "metadata": {},
   "outputs": [],
   "source": [
    "futureAdmissions = [sampleFutureAdmissionSentence(modernAdmission.iloc[-1],admissionSD, 2050, \"Admission\") for i in range(1000)]\n",
    "futureSentences = [sampleFutureAdmissionSentence(anualSentence.iloc[-1],sentenceSD, 2050, \"Sentence\") for i in range(1000)]\n",
    "\n",
    "futureMus, futurePopulations, futureReleases = zip(*map(solvePopulation, repeat(initialMu),repeat(initialPopulation), futureAdmissions,futureSentences, repeat(epsilon_sd), repeat(sigma)))"
   ]
  },
  {
   "cell_type": "code",
   "execution_count": 43,
   "metadata": {},
   "outputs": [
    {
     "data": {
      "text/plain": [
       "Text(0.5, 1.0, 'Average Remaining Sentence Projection, Federal')"
      ]
     },
     "execution_count": 43,
     "metadata": {},
     "output_type": "execute_result"
    },
    {
     "data": {
      "image/png": "[encoded data removed]",
      "text/plain": [
       "<Figure size 432x288 with 1 Axes>"
      ]
     },
     "metadata": {
      "needs_background": "light"
     },
     "output_type": "display_data"
    }
   ],
   "source": [
    "futureMu_mean = pd.concat(futureMus, axis=1).mean(axis=1)\n",
    "futureMu_sd = pd.concat(futureMus, axis=1).std(axis=1)\n",
    "\n",
    "pd.concat([mu, futureMu_mean]).plot()\n",
    "plt.fill_between(futureMu_mean.index, futureMu_mean-futureMu_sd, futureMu_mean+futureMu_sd, alpha=0.25)\n",
    "plt.ylabel(\"mu\")\n",
    "plt.title(\"Average Remaining Sentence Projection, Federal\")"
   ]
  },
  {
   "cell_type": "code",
   "execution_count": 44,
   "metadata": {},
   "outputs": [],
   "source": [
    "futurePopulation_mean = pd.concat(futurePopulations, axis=1).mean(axis=1)\n",
    "futurePopulation_mean.name = \"Population\"\n",
    "\n",
    "futurePopulation_sd = pd.concat(futurePopulations, axis=1).std(axis=1)"
   ]
  },
  {
   "cell_type": "code",
   "execution_count": 45,
   "metadata": {},
   "outputs": [],
   "source": [
    "futureAdmission_mean = pd.concat(futureAdmissions, axis=1).mean(axis=1)\n",
    "futureAdmission_mean.name = \"Admission\"\n",
    "\n",
    "futureAdmission_sd = pd.concat(futureAdmissions, axis=1).std(axis=1)"
   ]
  },
  {
   "cell_type": "code",
   "execution_count": 46,
   "metadata": {},
   "outputs": [],
   "source": [
    "futureRelease_mean = pd.concat(futureReleases, axis=1).mean(axis=1)\n",
    "futureRelease_mean.name = \"Release\"\n",
    "\n",
    "futureRelease_sd = pd.concat(futureReleases, axis=1).std(axis=1)"
   ]
  },
  {
   "cell_type": "code",
   "execution_count": 47,
   "metadata": {},
   "outputs": [
    {
     "data": {
      "text/plain": [
       "Text(0.5, 1.0, 'Prisoner Population Projection, Federal')"
      ]
     },
     "execution_count": 47,
     "metadata": {},
     "output_type": "execute_result"
    },
    {
     "data": {
      "image/png": "[encoded data removed]",
      "text/plain": [
       "<Figure size 432x288 with 1 Axes>"
      ]
     },
     "metadata": {
      "needs_background": "light"
     },
     "output_type": "display_data"
    }
   ],
   "source": [
    "pd.concat([population, futurePopulation_mean]).plot(color=\"dodgerblue\")\n",
    "plt.fill_between(futurePopulation_mean.index, futurePopulation_mean - futurePopulation_sd, futurePopulation_mean + futurePopulation_sd, color=\"dodgerblue\", alpha=0.25)\n",
    "\n",
    "pd.concat([admission, futureAdmission_mean]).plot(color=\"orange\")\n",
    "plt.fill_between(futureAdmission_mean.index, futureAdmission_mean - futurePopulation_sd, futureAdmission_mean + futureAdmission_sd, color=\"orange\", alpha=0.25)\n",
    "\n",
    "pd.concat([release, futureRelease_mean]).plot(color=\"seagreen\")\n",
    "plt.fill_between(futureRelease_mean.index, futureRelease_mean - futureRelease_sd, futureRelease_mean + futureRelease_sd, color=\"seagreen\", alpha=0.25)\n",
    "\n",
    "plt.legend()\n",
    "plt.ylabel(\"Count\")\n",
    "plt.title(\"Prisoner Population Projection, Federal\")"
   ]
  }
 ],
 "metadata": {
  "kernelspec": {
   "display_name": "Python 3",
   "language": "python",
   "name": "python3"
  },
  "language_info": {
   "codemirror_mode": {
    "name": "ipython",
    "version": 3
   },
   "file_extension": ".py",
   "mimetype": "text/x-python",
   "name": "python",
   "nbconvert_exporter": "python",
   "pygments_lexer": "ipython3",
   "version": "3.7.3"
  }
 },
 "nbformat": 4,
 "nbformat_minor": 2
}
