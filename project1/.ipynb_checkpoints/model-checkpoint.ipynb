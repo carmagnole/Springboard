{
 "cells": [
  {
   "cell_type": "code",
   "execution_count": 1,
   "metadata": {},
   "outputs": [],
   "source": [
    "import numpy as np\n",
    "from numpy.random import normal\n",
    "import pandas as pd\n",
    "import copy\n",
    "import matplotlib.pyplot as plt\n",
    "from scipy.stats import norm\n",
    "from itertools import repeat"
   ]
  },
  {
   "cell_type": "markdown",
   "metadata": {},
   "source": [
    "# Load and clean data"
   ]
  },
  {
   "cell_type": "code",
   "execution_count": 2,
   "metadata": {},
   "outputs": [],
   "source": [
    "states = pd.read_excel(\"./messy_data/states.xlsx\")\n",
    "states.drop(states.index[states.Abbreviation == \"DC\"], inplace=True)\n",
    "states.columns = [\"Jurisdiction\", \"Jurisdiction Abbreviation\"]\n",
    "states = states.append({\"Jurisdiction\" : \"Federal\", \"Jurisdiction Abbreviation\" : \"FED\"}, ignore_index=True)"
   ]
  },
  {
   "cell_type": "code",
   "execution_count": 3,
   "metadata": {},
   "outputs": [
    {
     "data": {
      "text/html": [
       "<div>\n",
       "<style scoped>\n",
       "    .dataframe tbody tr th:only-of-type {\n",
       "        vertical-align: middle;\n",
       "    }\n",
       "\n",
       "    .dataframe tbody tr th {\n",
       "        vertical-align: top;\n",
       "    }\n",
       "\n",
       "    .dataframe thead th {\n",
       "        text-align: right;\n",
       "    }\n",
       "</style>\n",
       "<table border=\"1\" class=\"dataframe\">\n",
       "  <thead>\n",
       "    <tr style=\"text-align: right;\">\n",
       "      <th></th>\n",
       "      <th>Jurisdiction</th>\n",
       "      <th>Jurisdiction Abbreviation</th>\n",
       "    </tr>\n",
       "  </thead>\n",
       "  <tbody>\n",
       "    <tr>\n",
       "      <th>0</th>\n",
       "      <td>Alabama</td>\n",
       "      <td>AL</td>\n",
       "    </tr>\n",
       "    <tr>\n",
       "      <th>1</th>\n",
       "      <td>Alaska</td>\n",
       "      <td>AK</td>\n",
       "    </tr>\n",
       "    <tr>\n",
       "      <th>2</th>\n",
       "      <td>Arizona</td>\n",
       "      <td>AZ</td>\n",
       "    </tr>\n",
       "    <tr>\n",
       "      <th>3</th>\n",
       "      <td>Arkansas</td>\n",
       "      <td>AR</td>\n",
       "    </tr>\n",
       "    <tr>\n",
       "      <th>4</th>\n",
       "      <td>California</td>\n",
       "      <td>CA</td>\n",
       "    </tr>\n",
       "    <tr>\n",
       "      <th>5</th>\n",
       "      <td>Colorado</td>\n",
       "      <td>CO</td>\n",
       "    </tr>\n",
       "    <tr>\n",
       "      <th>6</th>\n",
       "      <td>Connecticut</td>\n",
       "      <td>CT</td>\n",
       "    </tr>\n",
       "    <tr>\n",
       "      <th>7</th>\n",
       "      <td>Delaware</td>\n",
       "      <td>DE</td>\n",
       "    </tr>\n",
       "    <tr>\n",
       "      <th>8</th>\n",
       "      <td>Florida</td>\n",
       "      <td>FL</td>\n",
       "    </tr>\n",
       "    <tr>\n",
       "      <th>9</th>\n",
       "      <td>Georgia</td>\n",
       "      <td>GA</td>\n",
       "    </tr>\n",
       "    <tr>\n",
       "      <th>10</th>\n",
       "      <td>Hawaii</td>\n",
       "      <td>HI</td>\n",
       "    </tr>\n",
       "    <tr>\n",
       "      <th>11</th>\n",
       "      <td>Idaho</td>\n",
       "      <td>ID</td>\n",
       "    </tr>\n",
       "    <tr>\n",
       "      <th>12</th>\n",
       "      <td>Illinois</td>\n",
       "      <td>IL</td>\n",
       "    </tr>\n",
       "    <tr>\n",
       "      <th>13</th>\n",
       "      <td>Indiana</td>\n",
       "      <td>IN</td>\n",
       "    </tr>\n",
       "    <tr>\n",
       "      <th>14</th>\n",
       "      <td>Iowa</td>\n",
       "      <td>IA</td>\n",
       "    </tr>\n",
       "    <tr>\n",
       "      <th>15</th>\n",
       "      <td>Kansas</td>\n",
       "      <td>KS</td>\n",
       "    </tr>\n",
       "    <tr>\n",
       "      <th>16</th>\n",
       "      <td>Kentucky</td>\n",
       "      <td>KY</td>\n",
       "    </tr>\n",
       "    <tr>\n",
       "      <th>17</th>\n",
       "      <td>Louisiana</td>\n",
       "      <td>LA</td>\n",
       "    </tr>\n",
       "    <tr>\n",
       "      <th>18</th>\n",
       "      <td>Maine</td>\n",
       "      <td>ME</td>\n",
       "    </tr>\n",
       "    <tr>\n",
       "      <th>19</th>\n",
       "      <td>Maryland</td>\n",
       "      <td>MD</td>\n",
       "    </tr>\n",
       "    <tr>\n",
       "      <th>20</th>\n",
       "      <td>Massachusetts</td>\n",
       "      <td>MA</td>\n",
       "    </tr>\n",
       "    <tr>\n",
       "      <th>21</th>\n",
       "      <td>Michigan</td>\n",
       "      <td>MI</td>\n",
       "    </tr>\n",
       "    <tr>\n",
       "      <th>22</th>\n",
       "      <td>Minnesota</td>\n",
       "      <td>MN</td>\n",
       "    </tr>\n",
       "    <tr>\n",
       "      <th>23</th>\n",
       "      <td>Mississippi</td>\n",
       "      <td>MS</td>\n",
       "    </tr>\n",
       "    <tr>\n",
       "      <th>24</th>\n",
       "      <td>Missouri</td>\n",
       "      <td>MO</td>\n",
       "    </tr>\n",
       "    <tr>\n",
       "      <th>25</th>\n",
       "      <td>Montana</td>\n",
       "      <td>MT</td>\n",
       "    </tr>\n",
       "    <tr>\n",
       "      <th>26</th>\n",
       "      <td>Nebraska</td>\n",
       "      <td>NE</td>\n",
       "    </tr>\n",
       "    <tr>\n",
       "      <th>27</th>\n",
       "      <td>Nevada</td>\n",
       "      <td>NV</td>\n",
       "    </tr>\n",
       "    <tr>\n",
       "      <th>28</th>\n",
       "      <td>New Hampshire</td>\n",
       "      <td>NH</td>\n",
       "    </tr>\n",
       "    <tr>\n",
       "      <th>29</th>\n",
       "      <td>New Jersey</td>\n",
       "      <td>NJ</td>\n",
       "    </tr>\n",
       "    <tr>\n",
       "      <th>30</th>\n",
       "      <td>New Mexico</td>\n",
       "      <td>NM</td>\n",
       "    </tr>\n",
       "    <tr>\n",
       "      <th>31</th>\n",
       "      <td>New York</td>\n",
       "      <td>NY</td>\n",
       "    </tr>\n",
       "    <tr>\n",
       "      <th>32</th>\n",
       "      <td>North Carolina</td>\n",
       "      <td>NC</td>\n",
       "    </tr>\n",
       "    <tr>\n",
       "      <th>33</th>\n",
       "      <td>North Dakota</td>\n",
       "      <td>ND</td>\n",
       "    </tr>\n",
       "    <tr>\n",
       "      <th>34</th>\n",
       "      <td>Ohio</td>\n",
       "      <td>OH</td>\n",
       "    </tr>\n",
       "    <tr>\n",
       "      <th>35</th>\n",
       "      <td>Oklahoma</td>\n",
       "      <td>OK</td>\n",
       "    </tr>\n",
       "    <tr>\n",
       "      <th>36</th>\n",
       "      <td>Oregon</td>\n",
       "      <td>OR</td>\n",
       "    </tr>\n",
       "    <tr>\n",
       "      <th>37</th>\n",
       "      <td>Pennsylvania</td>\n",
       "      <td>PA</td>\n",
       "    </tr>\n",
       "    <tr>\n",
       "      <th>38</th>\n",
       "      <td>Rhode Island</td>\n",
       "      <td>RI</td>\n",
       "    </tr>\n",
       "    <tr>\n",
       "      <th>39</th>\n",
       "      <td>South Carolina</td>\n",
       "      <td>SC</td>\n",
       "    </tr>\n",
       "    <tr>\n",
       "      <th>40</th>\n",
       "      <td>South Dakota</td>\n",
       "      <td>SD</td>\n",
       "    </tr>\n",
       "    <tr>\n",
       "      <th>41</th>\n",
       "      <td>Tennessee</td>\n",
       "      <td>TN</td>\n",
       "    </tr>\n",
       "    <tr>\n",
       "      <th>42</th>\n",
       "      <td>Texas</td>\n",
       "      <td>TX</td>\n",
       "    </tr>\n",
       "    <tr>\n",
       "      <th>43</th>\n",
       "      <td>Utah</td>\n",
       "      <td>UT</td>\n",
       "    </tr>\n",
       "    <tr>\n",
       "      <th>44</th>\n",
       "      <td>Vermont</td>\n",
       "      <td>VT</td>\n",
       "    </tr>\n",
       "    <tr>\n",
       "      <th>45</th>\n",
       "      <td>Virginia</td>\n",
       "      <td>VA</td>\n",
       "    </tr>\n",
       "    <tr>\n",
       "      <th>46</th>\n",
       "      <td>Washington</td>\n",
       "      <td>WA</td>\n",
       "    </tr>\n",
       "    <tr>\n",
       "      <th>47</th>\n",
       "      <td>West Virginia</td>\n",
       "      <td>WV</td>\n",
       "    </tr>\n",
       "    <tr>\n",
       "      <th>48</th>\n",
       "      <td>Wisconsin</td>\n",
       "      <td>WI</td>\n",
       "    </tr>\n",
       "    <tr>\n",
       "      <th>49</th>\n",
       "      <td>Wyoming</td>\n",
       "      <td>WY</td>\n",
       "    </tr>\n",
       "    <tr>\n",
       "      <th>50</th>\n",
       "      <td>Puerto Rico</td>\n",
       "      <td>PR</td>\n",
       "    </tr>\n",
       "    <tr>\n",
       "      <th>51</th>\n",
       "      <td>Federal</td>\n",
       "      <td>FED</td>\n",
       "    </tr>\n",
       "  </tbody>\n",
       "</table>\n",
       "</div>"
      ],
      "text/plain": [
       "      Jurisdiction Jurisdiction Abbreviation\n",
       "0          Alabama                        AL\n",
       "1           Alaska                        AK\n",
       "2          Arizona                        AZ\n",
       "3         Arkansas                        AR\n",
       "4       California                        CA\n",
       "5         Colorado                        CO\n",
       "6      Connecticut                        CT\n",
       "7         Delaware                        DE\n",
       "8          Florida                        FL\n",
       "9          Georgia                        GA\n",
       "10          Hawaii                        HI\n",
       "11           Idaho                        ID\n",
       "12        Illinois                        IL\n",
       "13         Indiana                        IN\n",
       "14            Iowa                        IA\n",
       "15          Kansas                        KS\n",
       "16        Kentucky                        KY\n",
       "17       Louisiana                        LA\n",
       "18           Maine                        ME\n",
       "19        Maryland                        MD\n",
       "20   Massachusetts                        MA\n",
       "21        Michigan                        MI\n",
       "22       Minnesota                        MN\n",
       "23     Mississippi                        MS\n",
       "24        Missouri                        MO\n",
       "25         Montana                        MT\n",
       "26        Nebraska                        NE\n",
       "27          Nevada                        NV\n",
       "28   New Hampshire                        NH\n",
       "29      New Jersey                        NJ\n",
       "30      New Mexico                        NM\n",
       "31        New York                        NY\n",
       "32  North Carolina                        NC\n",
       "33    North Dakota                        ND\n",
       "34            Ohio                        OH\n",
       "35        Oklahoma                        OK\n",
       "36          Oregon                        OR\n",
       "37    Pennsylvania                        PA\n",
       "38    Rhode Island                        RI\n",
       "39  South Carolina                        SC\n",
       "40    South Dakota                        SD\n",
       "41       Tennessee                        TN\n",
       "42           Texas                        TX\n",
       "43            Utah                        UT\n",
       "44         Vermont                        VT\n",
       "45        Virginia                        VA\n",
       "46      Washington                        WA\n",
       "47   West Virginia                        WV\n",
       "48       Wisconsin                        WI\n",
       "49         Wyoming                        WY\n",
       "50     Puerto Rico                        PR\n",
       "51         Federal                       FED"
      ]
     },
     "execution_count": 3,
     "metadata": {},
     "output_type": "execute_result"
    }
   ],
   "source": [
    "states"
   ]
  },
  {
   "cell_type": "code",
   "execution_count": 4,
   "metadata": {},
   "outputs": [
    {
     "data": {
      "text/html": [
       "<div>\n",
       "<style scoped>\n",
       "    .dataframe tbody tr th:only-of-type {\n",
       "        vertical-align: middle;\n",
       "    }\n",
       "\n",
       "    .dataframe tbody tr th {\n",
       "        vertical-align: top;\n",
       "    }\n",
       "\n",
       "    .dataframe thead th {\n",
       "        text-align: right;\n",
       "    }\n",
       "</style>\n",
       "<table border=\"1\" class=\"dataframe\">\n",
       "  <thead>\n",
       "    <tr style=\"text-align: right;\">\n",
       "      <th></th>\n",
       "      <th>Jurisdiction</th>\n",
       "      <th>1978</th>\n",
       "      <th>1979</th>\n",
       "      <th>1980</th>\n",
       "      <th>1981</th>\n",
       "      <th>1982</th>\n",
       "      <th>1983</th>\n",
       "      <th>1984</th>\n",
       "      <th>1985</th>\n",
       "      <th>1986</th>\n",
       "      <th>...</th>\n",
       "      <th>2007</th>\n",
       "      <th>2008</th>\n",
       "      <th>2009</th>\n",
       "      <th>2010</th>\n",
       "      <th>2011</th>\n",
       "      <th>2012</th>\n",
       "      <th>2013</th>\n",
       "      <th>2014</th>\n",
       "      <th>2015</th>\n",
       "      <th>2016</th>\n",
       "    </tr>\n",
       "  </thead>\n",
       "  <tbody>\n",
       "    <tr>\n",
       "      <th>1</th>\n",
       "      <td>Federal</td>\n",
       "      <td>27975.0</td>\n",
       "      <td>24835.0</td>\n",
       "      <td>22964.0</td>\n",
       "      <td>26574.0</td>\n",
       "      <td>28046.0</td>\n",
       "      <td>30172.0</td>\n",
       "      <td>32267.0</td>\n",
       "      <td>37819.0</td>\n",
       "      <td>41575.0</td>\n",
       "      <td>...</td>\n",
       "      <td>186280</td>\n",
       "      <td>188007</td>\n",
       "      <td>194493</td>\n",
       "      <td>196222</td>\n",
       "      <td>202462</td>\n",
       "      <td>203766</td>\n",
       "      <td>201697</td>\n",
       "      <td>196568</td>\n",
       "      <td>183502</td>\n",
       "      <td>176495</td>\n",
       "    </tr>\n",
       "    <tr>\n",
       "      <th>3</th>\n",
       "      <td>Alabama</td>\n",
       "      <td>5368.0</td>\n",
       "      <td>5221.0</td>\n",
       "      <td>6278.0</td>\n",
       "      <td>7339.0</td>\n",
       "      <td>8757.0</td>\n",
       "      <td>9375.0</td>\n",
       "      <td>9961.0</td>\n",
       "      <td>10453.0</td>\n",
       "      <td>11094.0</td>\n",
       "      <td>...</td>\n",
       "      <td>27254</td>\n",
       "      <td>28277</td>\n",
       "      <td>29419</td>\n",
       "      <td>29261</td>\n",
       "      <td>29696</td>\n",
       "      <td>29782</td>\n",
       "      <td>29660</td>\n",
       "      <td>29182</td>\n",
       "      <td>28220</td>\n",
       "      <td>26506</td>\n",
       "    </tr>\n",
       "    <tr>\n",
       "      <th>4</th>\n",
       "      <td>Alaska</td>\n",
       "      <td>678.0</td>\n",
       "      <td>729.0</td>\n",
       "      <td>801.0</td>\n",
       "      <td>977.0</td>\n",
       "      <td>1276.0</td>\n",
       "      <td>1557.0</td>\n",
       "      <td>1888.0</td>\n",
       "      <td>2207.0</td>\n",
       "      <td>2344.0</td>\n",
       "      <td>...</td>\n",
       "      <td>4603</td>\n",
       "      <td>4511</td>\n",
       "      <td>4696</td>\n",
       "      <td>4782</td>\n",
       "      <td>4932</td>\n",
       "      <td>4934</td>\n",
       "      <td>4450</td>\n",
       "      <td>5091</td>\n",
       "      <td>4761</td>\n",
       "      <td>4024</td>\n",
       "    </tr>\n",
       "    <tr>\n",
       "      <th>5</th>\n",
       "      <td>Arizona</td>\n",
       "      <td>3275.0</td>\n",
       "      <td>3573.0</td>\n",
       "      <td>4153.0</td>\n",
       "      <td>4986.0</td>\n",
       "      <td>5788.0</td>\n",
       "      <td>6566.0</td>\n",
       "      <td>7482.0</td>\n",
       "      <td>8134.0</td>\n",
       "      <td>8948.0</td>\n",
       "      <td>...</td>\n",
       "      <td>34286</td>\n",
       "      <td>35739</td>\n",
       "      <td>36768</td>\n",
       "      <td>36521</td>\n",
       "      <td>36470</td>\n",
       "      <td>36447</td>\n",
       "      <td>37402</td>\n",
       "      <td>38295</td>\n",
       "      <td>38738</td>\n",
       "      <td>38323</td>\n",
       "    </tr>\n",
       "    <tr>\n",
       "      <th>6</th>\n",
       "      <td>Arkansas</td>\n",
       "      <td>2553.0</td>\n",
       "      <td>2927.0</td>\n",
       "      <td>2805.0</td>\n",
       "      <td>3197.0</td>\n",
       "      <td>3755.0</td>\n",
       "      <td>4050.0</td>\n",
       "      <td>4286.0</td>\n",
       "      <td>4394.0</td>\n",
       "      <td>4477.0</td>\n",
       "      <td>...</td>\n",
       "      <td>13248</td>\n",
       "      <td>13656</td>\n",
       "      <td>14147</td>\n",
       "      <td>15040</td>\n",
       "      <td>14995</td>\n",
       "      <td>13594</td>\n",
       "      <td>15904</td>\n",
       "      <td>16476</td>\n",
       "      <td>16305</td>\n",
       "      <td>16161</td>\n",
       "    </tr>\n",
       "  </tbody>\n",
       "</table>\n",
       "<p>5 rows × 40 columns</p>\n",
       "</div>"
      ],
      "text/plain": [
       "  Jurisdiction     1978     1979     1980     1981     1982     1983     1984  \\\n",
       "1      Federal  27975.0  24835.0  22964.0  26574.0  28046.0  30172.0  32267.0   \n",
       "3      Alabama   5368.0   5221.0   6278.0   7339.0   8757.0   9375.0   9961.0   \n",
       "4       Alaska    678.0    729.0    801.0    977.0   1276.0   1557.0   1888.0   \n",
       "5      Arizona   3275.0   3573.0   4153.0   4986.0   5788.0   6566.0   7482.0   \n",
       "6     Arkansas   2553.0   2927.0   2805.0   3197.0   3755.0   4050.0   4286.0   \n",
       "\n",
       "      1985     1986  ...    2007    2008    2009    2010    2011    2012  \\\n",
       "1  37819.0  41575.0  ...  186280  188007  194493  196222  202462  203766   \n",
       "3  10453.0  11094.0  ...   27254   28277   29419   29261   29696   29782   \n",
       "4   2207.0   2344.0  ...    4603    4511    4696    4782    4932    4934   \n",
       "5   8134.0   8948.0  ...   34286   35739   36768   36521   36470   36447   \n",
       "6   4394.0   4477.0  ...   13248   13656   14147   15040   14995   13594   \n",
       "\n",
       "     2013    2014    2015    2016  \n",
       "1  201697  196568  183502  176495  \n",
       "3   29660   29182   28220   26506  \n",
       "4    4450    5091    4761    4024  \n",
       "5   37402   38295   38738   38323  \n",
       "6   15904   16476   16305   16161  \n",
       "\n",
       "[5 rows x 40 columns]"
      ]
     },
     "execution_count": 4,
     "metadata": {},
     "output_type": "execute_result"
    }
   ],
   "source": [
    "malePrisonerPopulation = pd.read_excel(\"./messy_data/Prisoners under the jurisdiction of state or federal correctional authorities 1978-2016.xlsx\", sheet_name=\"Male\", header=9, nrows=54).dropna(1, \"all\").dropna(0)\n",
    "malePrisonerPopulation.head()"
   ]
  },
  {
   "cell_type": "code",
   "execution_count": 5,
   "metadata": {},
   "outputs": [],
   "source": [
    "def cleanPopulationTable(table, states):\n",
    "    \n",
    "    # add DC data to Federal, and delete it\n",
    "    table.loc[table.Jurisdiction == \"Federal\"].iloc[:, 1:] = table.loc[table.Jurisdiction == \"Federal\"].iloc[:, 1:] + table.loc[table.Jurisdiction == \"District of Columbia\"].iloc[:, 1:].replace(\"--\", 0)\n",
    "    table.drop(table.index[table.Jurisdiction == \"District of Columbia\"], inplace=True)\n",
    "    \n",
    "    table = states.merge(table, on=\"Jurisdiction\")\n",
    "    \n",
    "    return table"
   ]
  },
  {
   "cell_type": "code",
   "execution_count": 6,
   "metadata": {},
   "outputs": [
    {
     "name": "stderr",
     "output_type": "stream",
     "text": [
      "/anaconda3/envs/SpringBoard/lib/python3.7/site-packages/pandas/core/indexing.py:543: SettingWithCopyWarning: \n",
      "A value is trying to be set on a copy of a slice from a DataFrame.\n",
      "Try using .loc[row_indexer,col_indexer] = value instead\n",
      "\n",
      "See the caveats in the documentation: http://pandas.pydata.org/pandas-docs/stable/indexing.html#indexing-view-versus-copy\n",
      "  self.obj[item] = s\n"
     ]
    },
    {
     "data": {
      "text/html": [
       "<div>\n",
       "<style scoped>\n",
       "    .dataframe tbody tr th:only-of-type {\n",
       "        vertical-align: middle;\n",
       "    }\n",
       "\n",
       "    .dataframe tbody tr th {\n",
       "        vertical-align: top;\n",
       "    }\n",
       "\n",
       "    .dataframe thead th {\n",
       "        text-align: right;\n",
       "    }\n",
       "</style>\n",
       "<table border=\"1\" class=\"dataframe\">\n",
       "  <thead>\n",
       "    <tr style=\"text-align: right;\">\n",
       "      <th></th>\n",
       "      <th>Jurisdiction</th>\n",
       "      <th>Jurisdiction Abbreviation</th>\n",
       "      <th>1978</th>\n",
       "      <th>1979</th>\n",
       "      <th>1980</th>\n",
       "      <th>1981</th>\n",
       "      <th>1982</th>\n",
       "      <th>1983</th>\n",
       "      <th>1984</th>\n",
       "      <th>1985</th>\n",
       "      <th>...</th>\n",
       "      <th>2007</th>\n",
       "      <th>2008</th>\n",
       "      <th>2009</th>\n",
       "      <th>2010</th>\n",
       "      <th>2011</th>\n",
       "      <th>2012</th>\n",
       "      <th>2013</th>\n",
       "      <th>2014</th>\n",
       "      <th>2015</th>\n",
       "      <th>2016</th>\n",
       "    </tr>\n",
       "  </thead>\n",
       "  <tbody>\n",
       "    <tr>\n",
       "      <th>0</th>\n",
       "      <td>Alabama</td>\n",
       "      <td>AL</td>\n",
       "      <td>5368.0</td>\n",
       "      <td>5221.0</td>\n",
       "      <td>6278.0</td>\n",
       "      <td>7339.0</td>\n",
       "      <td>8757.0</td>\n",
       "      <td>9375.0</td>\n",
       "      <td>9961.0</td>\n",
       "      <td>10453.0</td>\n",
       "      <td>...</td>\n",
       "      <td>27254</td>\n",
       "      <td>28277</td>\n",
       "      <td>29419</td>\n",
       "      <td>29261</td>\n",
       "      <td>29696</td>\n",
       "      <td>29782</td>\n",
       "      <td>29660</td>\n",
       "      <td>29182</td>\n",
       "      <td>28220</td>\n",
       "      <td>26506</td>\n",
       "    </tr>\n",
       "    <tr>\n",
       "      <th>1</th>\n",
       "      <td>Alaska</td>\n",
       "      <td>AK</td>\n",
       "      <td>678.0</td>\n",
       "      <td>729.0</td>\n",
       "      <td>801.0</td>\n",
       "      <td>977.0</td>\n",
       "      <td>1276.0</td>\n",
       "      <td>1557.0</td>\n",
       "      <td>1888.0</td>\n",
       "      <td>2207.0</td>\n",
       "      <td>...</td>\n",
       "      <td>4603</td>\n",
       "      <td>4511</td>\n",
       "      <td>4696</td>\n",
       "      <td>4782</td>\n",
       "      <td>4932</td>\n",
       "      <td>4934</td>\n",
       "      <td>4450</td>\n",
       "      <td>5091</td>\n",
       "      <td>4761</td>\n",
       "      <td>4024</td>\n",
       "    </tr>\n",
       "    <tr>\n",
       "      <th>2</th>\n",
       "      <td>Arizona</td>\n",
       "      <td>AZ</td>\n",
       "      <td>3275.0</td>\n",
       "      <td>3573.0</td>\n",
       "      <td>4153.0</td>\n",
       "      <td>4986.0</td>\n",
       "      <td>5788.0</td>\n",
       "      <td>6566.0</td>\n",
       "      <td>7482.0</td>\n",
       "      <td>8134.0</td>\n",
       "      <td>...</td>\n",
       "      <td>34286</td>\n",
       "      <td>35739</td>\n",
       "      <td>36768</td>\n",
       "      <td>36521</td>\n",
       "      <td>36470</td>\n",
       "      <td>36447</td>\n",
       "      <td>37402</td>\n",
       "      <td>38295</td>\n",
       "      <td>38738</td>\n",
       "      <td>38323</td>\n",
       "    </tr>\n",
       "    <tr>\n",
       "      <th>3</th>\n",
       "      <td>Arkansas</td>\n",
       "      <td>AR</td>\n",
       "      <td>2553.0</td>\n",
       "      <td>2927.0</td>\n",
       "      <td>2805.0</td>\n",
       "      <td>3197.0</td>\n",
       "      <td>3755.0</td>\n",
       "      <td>4050.0</td>\n",
       "      <td>4286.0</td>\n",
       "      <td>4394.0</td>\n",
       "      <td>...</td>\n",
       "      <td>13248</td>\n",
       "      <td>13656</td>\n",
       "      <td>14147</td>\n",
       "      <td>15040</td>\n",
       "      <td>14995</td>\n",
       "      <td>13594</td>\n",
       "      <td>15904</td>\n",
       "      <td>16476</td>\n",
       "      <td>16305</td>\n",
       "      <td>16161</td>\n",
       "    </tr>\n",
       "    <tr>\n",
       "      <th>4</th>\n",
       "      <td>California</td>\n",
       "      <td>CA</td>\n",
       "      <td>20178.0</td>\n",
       "      <td>21400.0</td>\n",
       "      <td>23253.0</td>\n",
       "      <td>27775.0</td>\n",
       "      <td>32987.0</td>\n",
       "      <td>37353.0</td>\n",
       "      <td>40892.0</td>\n",
       "      <td>47248.0</td>\n",
       "      <td>...</td>\n",
       "      <td>162654</td>\n",
       "      <td>162050</td>\n",
       "      <td>160286</td>\n",
       "      <td>155104</td>\n",
       "      <td>141382</td>\n",
       "      <td>128436</td>\n",
       "      <td>129684</td>\n",
       "      <td>129703</td>\n",
       "      <td>123808</td>\n",
       "      <td>124487</td>\n",
       "    </tr>\n",
       "  </tbody>\n",
       "</table>\n",
       "<p>5 rows × 41 columns</p>\n",
       "</div>"
      ],
      "text/plain": [
       "  Jurisdiction Jurisdiction Abbreviation     1978     1979     1980     1981  \\\n",
       "0      Alabama                        AL   5368.0   5221.0   6278.0   7339.0   \n",
       "1       Alaska                        AK    678.0    729.0    801.0    977.0   \n",
       "2      Arizona                        AZ   3275.0   3573.0   4153.0   4986.0   \n",
       "3     Arkansas                        AR   2553.0   2927.0   2805.0   3197.0   \n",
       "4   California                        CA  20178.0  21400.0  23253.0  27775.0   \n",
       "\n",
       "      1982     1983     1984     1985  ...    2007    2008    2009    2010  \\\n",
       "0   8757.0   9375.0   9961.0  10453.0  ...   27254   28277   29419   29261   \n",
       "1   1276.0   1557.0   1888.0   2207.0  ...    4603    4511    4696    4782   \n",
       "2   5788.0   6566.0   7482.0   8134.0  ...   34286   35739   36768   36521   \n",
       "3   3755.0   4050.0   4286.0   4394.0  ...   13248   13656   14147   15040   \n",
       "4  32987.0  37353.0  40892.0  47248.0  ...  162654  162050  160286  155104   \n",
       "\n",
       "     2011    2012    2013    2014    2015    2016  \n",
       "0   29696   29782   29660   29182   28220   26506  \n",
       "1    4932    4934    4450    5091    4761    4024  \n",
       "2   36470   36447   37402   38295   38738   38323  \n",
       "3   14995   13594   15904   16476   16305   16161  \n",
       "4  141382  128436  129684  129703  123808  124487  \n",
       "\n",
       "[5 rows x 41 columns]"
      ]
     },
     "execution_count": 6,
     "metadata": {},
     "output_type": "execute_result"
    }
   ],
   "source": [
    "malePrisonerPopulation = cleanPopulationTable(malePrisonerPopulation, states)\n",
    "malePrisonerPopulation.head()"
   ]
  },
  {
   "cell_type": "code",
   "execution_count": 7,
   "metadata": {},
   "outputs": [],
   "source": [
    "maleAdmission = pd.read_excel(\"./messy_data/admissions.xlsx\", sheet_name=\"Male\").dropna().replace(\"/\", np.nan)\n",
    "maleRelease = pd.read_excel(\"./messy_data/releases.xlsx\", sheet_name=\"Male\").dropna().replace(\"/\", np.nan)"
   ]
  },
  {
   "cell_type": "code",
   "execution_count": 8,
   "metadata": {},
   "outputs": [],
   "source": [
    "def cleanCountTable(table, states):\n",
    "    \n",
    "    # add DC data to Federal, and delete it\n",
    "    table.loc[table.Jurisdiction == \"Federal\"].iloc[:, 1:] = table.loc[table.Jurisdiction == \"Federal\"].iloc[:, 1:] + table.loc[table.Jurisdiction == \"District of Columbia\"].iloc[:, 1:].replace(\"--\", 0)\n",
    "    table.drop(table.index[table.Jurisdiction == \"District of Columbia\"], inplace=True)\n",
    "    \n",
    "    table = states.merge(table, on=\"Jurisdiction\")\n",
    "    \n",
    "    return table"
   ]
  },
  {
   "cell_type": "code",
   "execution_count": 9,
   "metadata": {},
   "outputs": [],
   "source": [
    "maleAdmission = cleanCountTable(maleAdmission, states)\n",
    "maleRelease = cleanCountTable(maleRelease, states)"
   ]
  },
  {
   "cell_type": "code",
   "execution_count": 10,
   "metadata": {},
   "outputs": [
    {
     "data": {
      "text/html": [
       "<div>\n",
       "<style scoped>\n",
       "    .dataframe tbody tr th:only-of-type {\n",
       "        vertical-align: middle;\n",
       "    }\n",
       "\n",
       "    .dataframe tbody tr th {\n",
       "        vertical-align: top;\n",
       "    }\n",
       "\n",
       "    .dataframe thead th {\n",
       "        text-align: right;\n",
       "    }\n",
       "</style>\n",
       "<table border=\"1\" class=\"dataframe\">\n",
       "  <thead>\n",
       "    <tr style=\"text-align: right;\">\n",
       "      <th></th>\n",
       "      <th>Jurisdiction</th>\n",
       "      <th>Jurisdiction Abbreviation</th>\n",
       "      <th>1978</th>\n",
       "      <th>1979</th>\n",
       "      <th>1980</th>\n",
       "      <th>1981</th>\n",
       "      <th>1982</th>\n",
       "      <th>1983</th>\n",
       "      <th>1984</th>\n",
       "      <th>1985</th>\n",
       "      <th>...</th>\n",
       "      <th>2007</th>\n",
       "      <th>2008</th>\n",
       "      <th>2009</th>\n",
       "      <th>2010</th>\n",
       "      <th>2011</th>\n",
       "      <th>2012</th>\n",
       "      <th>2013</th>\n",
       "      <th>2014</th>\n",
       "      <th>2015</th>\n",
       "      <th>2016</th>\n",
       "    </tr>\n",
       "  </thead>\n",
       "  <tbody>\n",
       "    <tr>\n",
       "      <th>0</th>\n",
       "      <td>Alabama</td>\n",
       "      <td>AL</td>\n",
       "      <td>2404.0</td>\n",
       "      <td>2382.0</td>\n",
       "      <td>3576.0</td>\n",
       "      <td>3773.0</td>\n",
       "      <td>4121.0</td>\n",
       "      <td>4283.0</td>\n",
       "      <td>4342.0</td>\n",
       "      <td>4013.0</td>\n",
       "      <td>...</td>\n",
       "      <td>9384</td>\n",
       "      <td>9683</td>\n",
       "      <td>11429</td>\n",
       "      <td>10341</td>\n",
       "      <td>9919</td>\n",
       "      <td>9683</td>\n",
       "      <td>9683</td>\n",
       "      <td>9391</td>\n",
       "      <td>8888</td>\n",
       "      <td>9155</td>\n",
       "    </tr>\n",
       "    <tr>\n",
       "      <th>1</th>\n",
       "      <td>Alaska</td>\n",
       "      <td>AK</td>\n",
       "      <td>250.0</td>\n",
       "      <td>303.0</td>\n",
       "      <td>449.0</td>\n",
       "      <td>430.0</td>\n",
       "      <td>502.0</td>\n",
       "      <td>681.0</td>\n",
       "      <td>697.0</td>\n",
       "      <td>840.0</td>\n",
       "      <td>...</td>\n",
       "      <td>NaN</td>\n",
       "      <td>NaN</td>\n",
       "      <td>NaN</td>\n",
       "      <td>2287</td>\n",
       "      <td>3090</td>\n",
       "      <td>3199</td>\n",
       "      <td>3199</td>\n",
       "      <td>3145</td>\n",
       "      <td>3131</td>\n",
       "      <td>1502</td>\n",
       "    </tr>\n",
       "    <tr>\n",
       "      <th>2</th>\n",
       "      <td>Arizona</td>\n",
       "      <td>AZ</td>\n",
       "      <td>1504.0</td>\n",
       "      <td>1559.0</td>\n",
       "      <td>1935.0</td>\n",
       "      <td>2594.0</td>\n",
       "      <td>2730.0</td>\n",
       "      <td>3088.0</td>\n",
       "      <td>3193.0</td>\n",
       "      <td>3755.0</td>\n",
       "      <td>...</td>\n",
       "      <td>12369</td>\n",
       "      <td>13129</td>\n",
       "      <td>12883</td>\n",
       "      <td>11708</td>\n",
       "      <td>11576</td>\n",
       "      <td>11486</td>\n",
       "      <td>12069</td>\n",
       "      <td>12747</td>\n",
       "      <td>12994</td>\n",
       "      <td>11933</td>\n",
       "    </tr>\n",
       "    <tr>\n",
       "      <th>3</th>\n",
       "      <td>Arkansas</td>\n",
       "      <td>AR</td>\n",
       "      <td>1851.0</td>\n",
       "      <td>2079.0</td>\n",
       "      <td>2192.0</td>\n",
       "      <td>2305.0</td>\n",
       "      <td>2182.0</td>\n",
       "      <td>2027.0</td>\n",
       "      <td>2034.0</td>\n",
       "      <td>2110.0</td>\n",
       "      <td>...</td>\n",
       "      <td>5938</td>\n",
       "      <td>6267</td>\n",
       "      <td>6596</td>\n",
       "      <td>6797</td>\n",
       "      <td>6346</td>\n",
       "      <td>5181</td>\n",
       "      <td>7939</td>\n",
       "      <td>8314</td>\n",
       "      <td>8112</td>\n",
       "      <td>8549</td>\n",
       "    </tr>\n",
       "    <tr>\n",
       "      <th>4</th>\n",
       "      <td>California</td>\n",
       "      <td>CA</td>\n",
       "      <td>11263.0</td>\n",
       "      <td>14245.0</td>\n",
       "      <td>13558.0</td>\n",
       "      <td>16835.0</td>\n",
       "      <td>20744.0</td>\n",
       "      <td>25195.0</td>\n",
       "      <td>26858.0</td>\n",
       "      <td>34620.0</td>\n",
       "      <td>...</td>\n",
       "      <td>125814</td>\n",
       "      <td>126768</td>\n",
       "      <td>117136</td>\n",
       "      <td>108157</td>\n",
       "      <td>88702</td>\n",
       "      <td>32103</td>\n",
       "      <td>35562</td>\n",
       "      <td>36025</td>\n",
       "      <td>32474</td>\n",
       "      <td>33232</td>\n",
       "    </tr>\n",
       "  </tbody>\n",
       "</table>\n",
       "<p>5 rows × 41 columns</p>\n",
       "</div>"
      ],
      "text/plain": [
       "  Jurisdiction Jurisdiction Abbreviation     1978     1979     1980     1981  \\\n",
       "0      Alabama                        AL   2404.0   2382.0   3576.0   3773.0   \n",
       "1       Alaska                        AK    250.0    303.0    449.0    430.0   \n",
       "2      Arizona                        AZ   1504.0   1559.0   1935.0   2594.0   \n",
       "3     Arkansas                        AR   1851.0   2079.0   2192.0   2305.0   \n",
       "4   California                        CA  11263.0  14245.0  13558.0  16835.0   \n",
       "\n",
       "      1982     1983     1984     1985  ...    2007    2008    2009    2010  \\\n",
       "0   4121.0   4283.0   4342.0   4013.0  ...    9384    9683   11429   10341   \n",
       "1    502.0    681.0    697.0    840.0  ...     NaN     NaN     NaN    2287   \n",
       "2   2730.0   3088.0   3193.0   3755.0  ...   12369   13129   12883   11708   \n",
       "3   2182.0   2027.0   2034.0   2110.0  ...    5938    6267    6596    6797   \n",
       "4  20744.0  25195.0  26858.0  34620.0  ...  125814  126768  117136  108157   \n",
       "\n",
       "    2011   2012   2013   2014   2015   2016  \n",
       "0   9919   9683   9683   9391   8888   9155  \n",
       "1   3090   3199   3199   3145   3131   1502  \n",
       "2  11576  11486  12069  12747  12994  11933  \n",
       "3   6346   5181   7939   8314   8112   8549  \n",
       "4  88702  32103  35562  36025  32474  33232  \n",
       "\n",
       "[5 rows x 41 columns]"
      ]
     },
     "execution_count": 10,
     "metadata": {},
     "output_type": "execute_result"
    }
   ],
   "source": [
    "maleAdmission.head()"
   ]
  },
  {
   "cell_type": "code",
   "execution_count": 11,
   "metadata": {},
   "outputs": [
    {
     "data": {
      "text/html": [
       "<div>\n",
       "<style scoped>\n",
       "    .dataframe tbody tr th:only-of-type {\n",
       "        vertical-align: middle;\n",
       "    }\n",
       "\n",
       "    .dataframe tbody tr th {\n",
       "        vertical-align: top;\n",
       "    }\n",
       "\n",
       "    .dataframe thead th {\n",
       "        text-align: right;\n",
       "    }\n",
       "</style>\n",
       "<table border=\"1\" class=\"dataframe\">\n",
       "  <thead>\n",
       "    <tr style=\"text-align: right;\">\n",
       "      <th></th>\n",
       "      <th>Jurisdiction</th>\n",
       "      <th>Jurisdiction Abbreviation</th>\n",
       "      <th>1978</th>\n",
       "      <th>1979</th>\n",
       "      <th>1980</th>\n",
       "      <th>1981</th>\n",
       "      <th>1982</th>\n",
       "      <th>1983</th>\n",
       "      <th>1984</th>\n",
       "      <th>1985</th>\n",
       "      <th>...</th>\n",
       "      <th>2007</th>\n",
       "      <th>2008</th>\n",
       "      <th>2009</th>\n",
       "      <th>2010</th>\n",
       "      <th>2011</th>\n",
       "      <th>2012</th>\n",
       "      <th>2013</th>\n",
       "      <th>2014</th>\n",
       "      <th>2015</th>\n",
       "      <th>2016</th>\n",
       "    </tr>\n",
       "  </thead>\n",
       "  <tbody>\n",
       "    <tr>\n",
       "      <th>0</th>\n",
       "      <td>Alabama</td>\n",
       "      <td>AL</td>\n",
       "      <td>2568.0</td>\n",
       "      <td>2519.0</td>\n",
       "      <td>3008.0</td>\n",
       "      <td>2677.0</td>\n",
       "      <td>2639.0</td>\n",
       "      <td>2923.0</td>\n",
       "      <td>3527.0</td>\n",
       "      <td>3377.0</td>\n",
       "      <td>...</td>\n",
       "      <td>9679</td>\n",
       "      <td>10128</td>\n",
       "      <td>10730</td>\n",
       "      <td>10572</td>\n",
       "      <td>9629</td>\n",
       "      <td>9794</td>\n",
       "      <td>9983</td>\n",
       "      <td>9928</td>\n",
       "      <td>9901</td>\n",
       "      <td>10895</td>\n",
       "    </tr>\n",
       "    <tr>\n",
       "      <th>1</th>\n",
       "      <td>Alaska</td>\n",
       "      <td>AK</td>\n",
       "      <td>229.0</td>\n",
       "      <td>208.0</td>\n",
       "      <td>248.0</td>\n",
       "      <td>258.0</td>\n",
       "      <td>324.0</td>\n",
       "      <td>484.0</td>\n",
       "      <td>473.0</td>\n",
       "      <td>593.0</td>\n",
       "      <td>...</td>\n",
       "      <td>2824</td>\n",
       "      <td>3183</td>\n",
       "      <td>2707</td>\n",
       "      <td>2645</td>\n",
       "      <td>2953</td>\n",
       "      <td>3080</td>\n",
       "      <td>3080</td>\n",
       "      <td>3080</td>\n",
       "      <td>2966</td>\n",
       "      <td>1826</td>\n",
       "    </tr>\n",
       "    <tr>\n",
       "      <th>2</th>\n",
       "      <td>Arizona</td>\n",
       "      <td>AZ</td>\n",
       "      <td>1220.0</td>\n",
       "      <td>1510.0</td>\n",
       "      <td>1353.0</td>\n",
       "      <td>1733.0</td>\n",
       "      <td>1879.0</td>\n",
       "      <td>2096.0</td>\n",
       "      <td>2344.0</td>\n",
       "      <td>3130.0</td>\n",
       "      <td>...</td>\n",
       "      <td>11202</td>\n",
       "      <td>11655</td>\n",
       "      <td>12279</td>\n",
       "      <td>11944</td>\n",
       "      <td>11589</td>\n",
       "      <td>11580</td>\n",
       "      <td>11507</td>\n",
       "      <td>11973</td>\n",
       "      <td>12497</td>\n",
       "      <td>12197</td>\n",
       "    </tr>\n",
       "    <tr>\n",
       "      <th>3</th>\n",
       "      <td>Arkansas</td>\n",
       "      <td>AR</td>\n",
       "      <td>1772.0</td>\n",
       "      <td>1771.0</td>\n",
       "      <td>2229.0</td>\n",
       "      <td>1946.0</td>\n",
       "      <td>1618.0</td>\n",
       "      <td>1765.0</td>\n",
       "      <td>1801.0</td>\n",
       "      <td>1987.0</td>\n",
       "      <td>...</td>\n",
       "      <td>5357</td>\n",
       "      <td>5854</td>\n",
       "      <td>6203</td>\n",
       "      <td>5952</td>\n",
       "      <td>6468</td>\n",
       "      <td>5646</td>\n",
       "      <td>5752</td>\n",
       "      <td>7759</td>\n",
       "      <td>8427</td>\n",
       "      <td>8943</td>\n",
       "    </tr>\n",
       "    <tr>\n",
       "      <th>4</th>\n",
       "      <td>California</td>\n",
       "      <td>CA</td>\n",
       "      <td>9194.0</td>\n",
       "      <td>12647.0</td>\n",
       "      <td>11574.0</td>\n",
       "      <td>12180.0</td>\n",
       "      <td>14998.0</td>\n",
       "      <td>20743.0</td>\n",
       "      <td>23279.0</td>\n",
       "      <td>27936.0</td>\n",
       "      <td>...</td>\n",
       "      <td>122328</td>\n",
       "      <td>123585</td>\n",
       "      <td>115944</td>\n",
       "      <td>110464</td>\n",
       "      <td>100001</td>\n",
       "      <td>43413</td>\n",
       "      <td>33996</td>\n",
       "      <td>35922</td>\n",
       "      <td>38322</td>\n",
       "      <td>32199</td>\n",
       "    </tr>\n",
       "  </tbody>\n",
       "</table>\n",
       "<p>5 rows × 41 columns</p>\n",
       "</div>"
      ],
      "text/plain": [
       "  Jurisdiction Jurisdiction Abbreviation    1978     1979     1980     1981  \\\n",
       "0      Alabama                        AL  2568.0   2519.0   3008.0   2677.0   \n",
       "1       Alaska                        AK   229.0    208.0    248.0    258.0   \n",
       "2      Arizona                        AZ  1220.0   1510.0   1353.0   1733.0   \n",
       "3     Arkansas                        AR  1772.0   1771.0   2229.0   1946.0   \n",
       "4   California                        CA  9194.0  12647.0  11574.0  12180.0   \n",
       "\n",
       "      1982     1983     1984     1985  ...    2007    2008    2009    2010  \\\n",
       "0   2639.0   2923.0   3527.0   3377.0  ...    9679   10128   10730   10572   \n",
       "1    324.0    484.0    473.0    593.0  ...    2824    3183    2707    2645   \n",
       "2   1879.0   2096.0   2344.0   3130.0  ...   11202   11655   12279   11944   \n",
       "3   1618.0   1765.0   1801.0   1987.0  ...    5357    5854    6203    5952   \n",
       "4  14998.0  20743.0  23279.0  27936.0  ...  122328  123585  115944  110464   \n",
       "\n",
       "     2011   2012   2013   2014   2015   2016  \n",
       "0    9629   9794   9983   9928   9901  10895  \n",
       "1    2953   3080   3080   3080   2966   1826  \n",
       "2   11589  11580  11507  11973  12497  12197  \n",
       "3    6468   5646   5752   7759   8427   8943  \n",
       "4  100001  43413  33996  35922  38322  32199  \n",
       "\n",
       "[5 rows x 41 columns]"
      ]
     },
     "execution_count": 11,
     "metadata": {},
     "output_type": "execute_result"
    }
   ],
   "source": [
    "maleRelease.head()"
   ]
  },
  {
   "cell_type": "code",
   "execution_count": 12,
   "metadata": {},
   "outputs": [],
   "source": [
    "anualSentence = pd.read_excel(\"./messy_data/national sentencing.xlsx\").iloc[:, [0,1]]\n",
    "anualSentence.columns = [\"Year\", \"Sentence\"]\n",
    "anualSentence.set_index(\"Year\", inplace=True)\n",
    "anualSentence = anualSentence.iloc[:-1,0]"
   ]
  },
  {
   "cell_type": "code",
   "execution_count": 13,
   "metadata": {},
   "outputs": [
    {
     "data": {
      "text/plain": [
       "Text(0, 0.5, 'Sentence')"
      ]
     },
     "execution_count": 13,
     "metadata": {},
     "output_type": "execute_result"
    },
    {
     "data": {
      "image/png": "[encoded data removed]",
      "text/plain": [
       "<Figure size 432x288 with 1 Axes>"
      ]
     },
     "metadata": {
      "needs_background": "light"
     },
     "output_type": "display_data"
    }
   ],
   "source": [
    "anualSentence.plot()\n",
    "plt.xticks(np.array(range(1995, 2017, 3)))\n",
    "plt.ylabel(\"Sentence\")"
   ]
  },
  {
   "cell_type": "markdown",
   "metadata": {},
   "source": [
    "# Model implementation"
   ]
  },
  {
   "cell_type": "markdown",
   "metadata": {},
   "source": [
    "Using North Dokata data for example:"
   ]
  },
  {
   "cell_type": "code",
   "execution_count": 14,
   "metadata": {},
   "outputs": [],
   "source": [
    "def extractStatePopulationCount(table, jurisdiction, tableType, year_begin=1978,year_end=2016):\n",
    "    \n",
    "    jurisdictions = table.Jurisdiction\n",
    "    data = table.loc[jurisdictions==jurisdiction].iloc[0, 2:].astype(float)\n",
    "    data = data.interpolate() # linear interpolation to fill in missing data\n",
    "    data = data[np.logical_and(data.index <= year_end, data.index >= year_begin)]\n",
    "    data.name = tableType\n",
    "    data.index.name=\"Year\"\n",
    "    \n",
    "    return data"
   ]
  },
  {
   "cell_type": "code",
   "execution_count": 15,
   "metadata": {},
   "outputs": [],
   "source": [
    "jurisdiction = \"North Dakota\"\n",
    "\n",
    "population = extractStatePopulationCount(malePrisonerPopulation, jurisdiction, \"Population\")\n",
    "admission = extractStatePopulationCount(maleAdmission, jurisdiction, \"Admission\")\n",
    "release = extractStatePopulationCount(maleRelease, jurisdiction, \"Release\")"
   ]
  },
  {
   "cell_type": "code",
   "execution_count": 16,
   "metadata": {},
   "outputs": [
    {
     "data": {
      "text/plain": [
       "Text(0, 0.5, 'Count')"
      ]
     },
     "execution_count": 16,
     "metadata": {},
     "output_type": "execute_result"
    },
    {
     "data": {
      "image/png": "[encoded data removed]",
      "text/plain": [
       "<Figure size 432x288 with 1 Axes>"
      ]
     },
     "metadata": {
      "needs_background": "light"
     },
     "output_type": "display_data"
    }
   ],
   "source": [
    "population.plot()\n",
    "admission.plot()\n",
    "release.plot()\n",
    "plt.axvline(1995, color=\"red\")\n",
    "plt.legend()\n",
    "plt.ylabel(\"Count\")"
   ]
  },
  {
   "cell_type": "markdown",
   "metadata": {},
   "source": [
    "## Build model"
   ]
  },
  {
   "cell_type": "markdown",
   "metadata": {},
   "source": [
    "Estimate the error variance of prisoner population as increment of difference between admission and release.\n",
    "The error is proportional to the previous year's population.\n",
    "We use epsilon to denote this proportion, which is centered at **0**."
   ]
  },
  {
   "cell_type": "code",
   "execution_count": 17,
   "metadata": {},
   "outputs": [],
   "source": [
    "epsilon = (population.diff() - admission + release).values[1:] / population.values[:-1]"
   ]
  },
  {
   "cell_type": "code",
   "execution_count": 18,
   "metadata": {},
   "outputs": [
    {
     "name": "stderr",
     "output_type": "stream",
     "text": [
      "/anaconda3/envs/SpringBoard/lib/python3.7/site-packages/ipykernel_launcher.py:1: UserWarning: In Matplotlib 3.3 individual lines on a stem plot will be added as a LineCollection instead of individual lines. This significantly improves the performance of a stem plot. To remove this warning and switch to the new behaviour, set the \"use_line_collection\" keyword argument to True.\n",
      "  \"\"\"Entry point for launching an IPython kernel.\n"
     ]
    },
    {
     "data": {
      "text/plain": [
       "Text(0, 0.5, 'epsilon')"
      ]
     },
     "execution_count": 18,
     "metadata": {},
     "output_type": "execute_result"
    },
    {
     "data": {
      "image/png": "[encoded data removed]",
      "text/plain": [
       "<Figure size 432x288 with 1 Axes>"
      ]
     },
     "metadata": {
      "needs_background": "light"
     },
     "output_type": "display_data"
    }
   ],
   "source": [
    "plt.stem(np.array(range(1979, 2017)) - 0.5, epsilon)\n",
    "plt.xlabel(\"year\")\n",
    "plt.ylabel(\"epsilon\")"
   ]
  },
  {
   "cell_type": "code",
   "execution_count": 19,
   "metadata": {},
   "outputs": [
    {
     "data": {
      "text/plain": [
       "0.03633981416586145"
      ]
     },
     "execution_count": 19,
     "metadata": {},
     "output_type": "execute_result"
    }
   ],
   "source": [
    "epsilon_sd = epsilon.std()\n",
    "epsilon_sd"
   ]
  },
  {
   "cell_type": "markdown",
   "metadata": {},
   "source": [
    "Given a certain year, we use a normal distribution to model the time remaining years to serve for a random prisoner in the population. For year __t__, the we use **mu[t]** to denote the center of this distribution. As the center varies as years go by, we force the variance, **sigma**, to be invariant."
   ]
  },
  {
   "cell_type": "code",
   "execution_count": 20,
   "metadata": {},
   "outputs": [],
   "source": [
    "modernPopulation = extractStatePopulationCount(malePrisonerPopulation, jurisdiction, \"Population\", 1995,2016)\n",
    "modernAdmission = extractStatePopulationCount(maleAdmission, jurisdiction, \"Admission\", 1995,2016)\n",
    "modernRelease = extractStatePopulationCount(maleRelease, jurisdiction, \"Release\", 1995,2016)"
   ]
  },
  {
   "cell_type": "code",
   "execution_count": 21,
   "metadata": {},
   "outputs": [],
   "source": [
    "def extractInitialPopulation(table, jurisdiction):\n",
    "    \n",
    "    jurisdictions = table.Jurisdiction\n",
    "    population = table.loc[jurisdictions==jurisdiction].iloc[0, 2:].astype(float)\n",
    "    population = population.interpolate()\n",
    "    initialPopulation = population[population.index == 1994]\n",
    "    initialPopulation.name = \"Population\"\n",
    "    initialPopulation.index.name=\"Year\"\n",
    "    \n",
    "    return initialPopulation"
   ]
  },
  {
   "cell_type": "markdown",
   "metadata": {},
   "source": [
    "As we have the admission and release data, provided the initial value of mu and population, we can propogate the state using an equation that represents the equilibrium **population x mu**."
   ]
  },
  {
   "cell_type": "code",
   "execution_count": 22,
   "metadata": {},
   "outputs": [
    {
     "data": {
      "text/plain": [
       "Year\n",
       "1994    520.0\n",
       "Name: Population, dtype: float64"
      ]
     },
     "execution_count": 22,
     "metadata": {},
     "output_type": "execute_result"
    }
   ],
   "source": [
    "initialPopulation = extractInitialPopulation(malePrisonerPopulation, jurisdiction)\n",
    "initialPopulation"
   ]
  },
  {
   "cell_type": "code",
   "execution_count": 23,
   "metadata": {},
   "outputs": [],
   "source": [
    "initialMu = 20"
   ]
  },
  {
   "cell_type": "code",
   "execution_count": 24,
   "metadata": {},
   "outputs": [],
   "source": [
    "def propogateMu(past_mu,past_p, current_p, current_a,current_r, current_y):\n",
    "    # State propogation function\n",
    "    return (past_p * (past_mu - 1) + 0.5 * current_r + current_a * current_y - 0.5 * current_a) / current_p\n"
   ]
  },
  {
   "cell_type": "code",
   "execution_count": 25,
   "metadata": {},
   "outputs": [],
   "source": [
    "def solveMu(initialMu,initialPopulation, population, admission,release, anualSentence):\n",
    "    # Given the initial state of mu and populatin,\n",
    "    # this function can calculate the evolution of mu\n",
    "    # according to the revolution of population, admission, release, and average sentence\n",
    "    \n",
    "    mu = population * 0\n",
    "    mu.name = \"Mu\"\n",
    "\n",
    "    \n",
    "    for i, p in enumerate(population):\n",
    "    \n",
    "        if i == 0:\n",
    "            past_p = initialPopulation.values\n",
    "            past_mu = initialMu\n",
    "\n",
    "        mu.iloc[i] = propogateMu(past_mu, past_p, population.iloc[i], admission.iloc[i],release.iloc[i], anualSentence.iloc[i])\n",
    "        \n",
    "        past_mu = mu.iloc[i]\n",
    "        past_p = population.iloc[i]\n",
    "        \n",
    "    mu[1994] = initialMu\n",
    "    mu.sort_index(inplace=True)\n",
    "    \n",
    "    return mu"
   ]
  },
  {
   "cell_type": "code",
   "execution_count": 26,
   "metadata": {},
   "outputs": [],
   "source": [
    "mu = solveMu(initialMu,initialPopulation, modernPopulation, modernAdmission,modernRelease, anualSentence)"
   ]
  },
  {
   "cell_type": "code",
   "execution_count": 27,
   "metadata": {},
   "outputs": [
    {
     "data": {
      "text/plain": [
       "Text(0, 0.5, 'Mu')"
      ]
     },
     "execution_count": 27,
     "metadata": {},
     "output_type": "execute_result"
    },
    {
     "data": {
      "image/png": "[encoded data removed]",
      "text/plain": [
       "<Figure size 432x288 with 1 Axes>"
      ]
     },
     "metadata": {
      "needs_background": "light"
     },
     "output_type": "display_data"
    }
   ],
   "source": [
    "mu.plot()\n",
    "plt.xticks(np.array(range(1995, 2016, 4)))\n",
    "plt.ylabel(\"Mu\")"
   ]
  },
  {
   "cell_type": "markdown",
   "metadata": {},
   "source": [
    "We can model the anual release using the **CDF** of the above-mentioned normal distribution. The ratio of one year's release to the previous year's population should be **CDF(1 | mu[t-1], sigma)** given the previous year's **mu**. Using this relation, we can estimate the above-mentioned distribution's variance, and average over time to get a point estimation."
   ]
  },
  {
   "cell_type": "code",
   "execution_count": 28,
   "metadata": {},
   "outputs": [],
   "source": [
    "modernPopulation = pd.concat((initialPopulation, modernPopulation))"
   ]
  },
  {
   "cell_type": "code",
   "execution_count": 29,
   "metadata": {},
   "outputs": [],
   "source": [
    "def estimateSigmaOfNormalCDF(x,F, mu):\n",
    "    # This function can take vetor input\n",
    "    \n",
    "    # we have function F(x) as the CDF of N(mu, sigma^2)\n",
    "    # given function Phi(x) as the CDF of N(0, 1)\n",
    "    # F(x) = Phi((x - mu) / sigma)\n",
    "    \n",
    "    # the reverse function of Phi is norm.ppf()\n",
    "    \n",
    "    return (x - mu) / norm.ppf(F) \n",
    "    "
   ]
  },
  {
   "cell_type": "code",
   "execution_count": 30,
   "metadata": {},
   "outputs": [],
   "source": [
    "def estimateSigma(population, release, mu):\n",
    "    \n",
    "    mu = mu.values[: -1]\n",
    "    p = population.values[: -1]\n",
    "    r = release.values\n",
    "\n",
    "    \n",
    "    F = r / p\n",
    "    sigma = estimateSigmaOfNormalCDF(1,F, mu)\n",
    "    sigma = sigma[sigma >= 0]\n",
    "    \n",
    "    return sigma.mean()"
   ]
  },
  {
   "cell_type": "code",
   "execution_count": 31,
   "metadata": {},
   "outputs": [
    {
     "name": "stderr",
     "output_type": "stream",
     "text": [
      "/anaconda3/envs/SpringBoard/lib/python3.7/site-packages/ipykernel_launcher.py:12: RuntimeWarning: Mean of empty slice.\n",
      "  if sys.path[0] == '':\n",
      "/anaconda3/envs/SpringBoard/lib/python3.7/site-packages/numpy/core/_methods.py:85: RuntimeWarning: invalid value encountered in double_scalars\n",
      "  ret = ret.dtype.type(ret / rcount)\n"
     ]
    },
    {
     "data": {
      "text/plain": [
       "nan"
      ]
     },
     "execution_count": 31,
     "metadata": {},
     "output_type": "execute_result"
    }
   ],
   "source": [
    "sigma = estimateSigma(modernPopulation, modernRelease, mu)\n",
    "sigma"
   ]
  },
  {
   "cell_type": "markdown",
   "metadata": {},
   "source": [
    "Sigma returned as NaN. This happens when more than half of the prisoners was released every year. This does not occur very often unless the prisoner population is very small. However, it will create problem for projection because we cannot use the aboved CDF to propogate the release number. In such situation, we will use half of the previous year's population to estimate the current year's release."
   ]
  },
  {
   "cell_type": "markdown",
   "metadata": {},
   "source": [
    "## Model projection"
   ]
  },
  {
   "cell_type": "markdown",
   "metadata": {},
   "source": [
    "**Let's simulate one future trajectory.**"
   ]
  },
  {
   "cell_type": "markdown",
   "metadata": {},
   "source": [
    "We can model the anual admission and the average sentence using a normal distribution, where the center is the last-reported data."
   ]
  },
  {
   "cell_type": "code",
   "execution_count": 32,
   "metadata": {},
   "outputs": [],
   "source": [
    "admissionSD = modernAdmission.std()\n",
    "sentenceSD = anualSentence.std()"
   ]
  },
  {
   "cell_type": "markdown",
   "metadata": {},
   "source": [
    "First, simulate the anual admission and average sentence"
   ]
  },
  {
   "cell_type": "code",
   "execution_count": 33,
   "metadata": {},
   "outputs": [],
   "source": [
    "def sampleFutureAdmissionSentence(sampleMean,sampleSD, year_end, dataType):\n",
    "    \n",
    "    years = range(2017, year_end + 1)\n",
    "    simulated = normal(sampleMean,sampleSD, len(years))\n",
    "    simulated[simulated <= 0] = sampleMean\n",
    "    if dataType == \"Admission\":\n",
    "        simulated = np.round(simulated)\n",
    "    \n",
    "    simulated = pd.Series(simulated, index=years, name=dataType, dtype=int)\n",
    "    simulated.index.name = \"Year\"\n",
    "    \n",
    "    return simulated"
   ]
  },
  {
   "cell_type": "code",
   "execution_count": 34,
   "metadata": {},
   "outputs": [],
   "source": [
    "futureAdmission = sampleFutureAdmissionSentence(modernAdmission.iloc[-1],admissionSD, 2050, \"Admission\")\n",
    "futureSentence = sampleFutureAdmissionSentence(anualSentence.iloc[-1],sentenceSD, 2050, \"Sentence\")"
   ]
  },
  {
   "cell_type": "markdown",
   "metadata": {},
   "source": [
    "Given **mu[t-1]** and **sigma**, we can determine **release[t]** with **population[t-1]**."
   ]
  },
  {
   "cell_type": "markdown",
   "metadata": {},
   "source": [
    "Given **population[t-1]**, **admission[t]** and **release[t]**, we can sample **population[t]**."
   ]
  },
  {
   "cell_type": "markdown",
   "metadata": {},
   "source": [
    "Finally, we use function *propogateMu* to propogate the state of **mu[t]**"
   ]
  },
  {
   "cell_type": "code",
   "execution_count": 35,
   "metadata": {},
   "outputs": [],
   "source": [
    "def propogateState(past_mu,past_p, current_a,current_y, epsilon_sd, sigma):\n",
    "    \n",
    "    if np.isnan(sigma):\n",
    "        current_r = np.round(0.5 * past_p)\n",
    "    else:\n",
    "        current_r = np.round(norm(past_mu, sigma).cdf(1) * past_p)\n",
    "    current_p = np.round(past_p + current_a - current_r + normal(scale=epsilon_sd) * past_p)\n",
    "    current_mu = propogateMu(past_mu,past_p, current_p, current_a,current_r, current_y)\n",
    "    \n",
    "    return current_mu, current_p, current_r\n",
    "    "
   ]
  },
  {
   "cell_type": "code",
   "execution_count": 36,
   "metadata": {},
   "outputs": [],
   "source": [
    "initialMu = mu.iloc[-1]\n",
    "initialPopulation = modernPopulation.iloc[-1]"
   ]
  },
  {
   "cell_type": "code",
   "execution_count": 41,
   "metadata": {},
   "outputs": [],
   "source": [
    "def solvePopulation(initialMu,initialPopulation, futureAdmission,futureSentence, epsilon_sd, sigma):\n",
    "    \n",
    "    futurePopulation = futureAdmission * 0\n",
    "    futurePopulation.name = \"Population\"\n",
    "    \n",
    "    futureRelease = futureAdmission * 0\n",
    "    futureRelease.name = \"Release\"\n",
    "    \n",
    "    futureMu = futureSentence *0\n",
    "    futureMu.name = \"Mu\"\n",
    "    \n",
    "    for i, p in enumerate(futurePopulation):\n",
    "        \n",
    "        if i == 0:\n",
    "            past_mu = initialMu\n",
    "            past_p = initialPopulation\n",
    "            \n",
    "        futureMu.iloc[i], futurePopulation.iloc[i], futureRelease.iloc[i] = propogateState(past_mu,past_p, futureAdmission.iloc[i],futureSentence.iloc[i], epsilon_sd, sigma)\n",
    "        \n",
    "        past_mu = futureMu.iloc[i]\n",
    "        past_p = futurePopulation.iloc[i]\n",
    "        \n",
    "    return futureMu, futurePopulation, futureRelease"
   ]
  },
  {
   "cell_type": "code",
   "execution_count": 42,
   "metadata": {},
   "outputs": [],
   "source": [
    "futureMu, futurePopulation, futureRelease = solvePopulation(initialMu,initialPopulation, futureAdmission,futureSentence, epsilon_sd, sigma)"
   ]
  },
  {
   "cell_type": "code",
   "execution_count": 43,
   "metadata": {},
   "outputs": [
    {
     "data": {
      "text/plain": [
       "Text(0, 0.5, 'Count')"
      ]
     },
     "execution_count": 43,
     "metadata": {},
     "output_type": "execute_result"
    },
    {
     "data": {
      "image/png": "[encoded data removed]",
      "text/plain": [
       "<Figure size 432x288 with 1 Axes>"
      ]
     },
     "metadata": {
      "needs_background": "light"
     },
     "output_type": "display_data"
    }
   ],
   "source": [
    "futurePopulation.plot()\n",
    "futureAdmission.plot()\n",
    "futureRelease.plot()\n",
    "plt.legend()\n",
    "plt.ylabel(\"Count\")"
   ]
  },
  {
   "cell_type": "code",
   "execution_count": 44,
   "metadata": {},
   "outputs": [
    {
     "data": {
      "text/plain": [
       "Text(0, 0.5, 'Mu')"
      ]
     },
     "execution_count": 44,
     "metadata": {},
     "output_type": "execute_result"
    },
    {
     "data": {
      "image/png": "[encoded data removed]",
      "text/plain": [
       "<Figure size 432x288 with 1 Axes>"
      ]
     },
     "metadata": {
      "needs_background": "light"
     },
     "output_type": "display_data"
    }
   ],
   "source": [
    "futureMu.plot()\n",
    "plt.ylabel(\"Mu\")"
   ]
  },
  {
   "cell_type": "markdown",
   "metadata": {},
   "source": [
    "## Now let's generate and average a cluster of trajectories."
   ]
  },
  {
   "cell_type": "code",
   "execution_count": 45,
   "metadata": {},
   "outputs": [],
   "source": [
    "futureAdmissions = [sampleFutureAdmissionSentence(modernAdmission.iloc[-1],admissionSD, 2050, \"Admission\") for i in range(1000)]\n",
    "futureSentences = [sampleFutureAdmissionSentence(anualSentence.iloc[-1],sentenceSD, 2050, \"Sentence\") for i in range(1000)]\n",
    "\n",
    "futureMus, futurePopulations, futureReleases = zip(*map(solvePopulation, repeat(initialMu),repeat(initialPopulation), futureAdmissions,futureSentences, repeat(epsilon_sd), repeat(sigma)))\n"
   ]
  },
  {
   "cell_type": "code",
   "execution_count": null,
   "metadata": {},
   "outputs": [],
   "source": [
    "futureMu_mean = pd.concat(futureMus, axis=1).mean(axis=1)\n",
    "futureMu_sd = pd.concat(futureMus, axis=1).std(axis=1)\n",
    "\n",
    "pd.concat([mu, futureMu_mean]).plot()\n",
    "plt.fill_between(futureMu_mean.index, futureMu_mean-futureMu_sd, futureMu_mean+futureMu_sd, alpha=0.25)\n",
    "plt.ylabel(\"Mu\")"
   ]
  },
  {
   "cell_type": "code",
   "execution_count": null,
   "metadata": {},
   "outputs": [],
   "source": [
    "futurePopulation_mean = pd.concat(futurePopulations, axis=1).mean(axis=1)\n",
    "futurePopulation_mean.name = \"Population\"\n",
    "\n",
    "futurePopulation_sd = pd.concat(futurePopulations, axis=1).std(axis=1)"
   ]
  },
  {
   "cell_type": "code",
   "execution_count": null,
   "metadata": {},
   "outputs": [],
   "source": [
    "futureAdmission_mean = pd.concat(futureAdmissions, axis=1).mean(axis=1)\n",
    "futureAdmission_mean.name = \"Admission\"\n",
    "\n",
    "futureAdmission_sd = pd.concat(futureAdmissions, axis=1).std(axis=1)"
   ]
  },
  {
   "cell_type": "code",
   "execution_count": null,
   "metadata": {},
   "outputs": [],
   "source": [
    "futureRelease_mean = pd.concat(futureReleases, axis=1).mean(axis=1)\n",
    "futureRelease_mean.name = \"Release\"\n",
    "\n",
    "futureRelease_sd = pd.concat(futureReleases, axis=1).std(axis=1)"
   ]
  },
  {
   "cell_type": "code",
   "execution_count": null,
   "metadata": {},
   "outputs": [],
   "source": [
    "pd.concat([population, futurePopulation_mean]).plot(color=\"dodgerblue\")\n",
    "plt.fill_between(futurePopulation_mean.index, futurePopulation_mean - futurePopulation_sd, futurePopulation_mean + futurePopulation_sd, color=\"dodgerblue\", alpha=0.25)\n",
    "\n",
    "pd.concat([admission, futureAdmission_mean]).plot(color=\"orange\")\n",
    "plt.fill_between(futureAdmission_mean.index, futureAdmission_mean - futurePopulation_sd, futureAdmission_mean + futureAdmission_sd, color=\"orange\", alpha=0.25)\n",
    "\n",
    "pd.concat([release, futureRelease_mean]).plot(color=\"seagreen\")\n",
    "plt.fill_between(futureRelease_mean.index, futureRelease_mean - futureRelease_sd, futureRelease_mean + futureRelease_sd, color=\"seagreen\", alpha=0.25)\n",
    "\n",
    "plt.legend()\n",
    "plt.ylabel(\"Count\")"
   ]
  }
 ],
 "metadata": {
  "kernelspec": {
   "display_name": "Python 3",
   "language": "python",
   "name": "python3"
  },
  "language_info": {
   "codemirror_mode": {
    "name": "ipython",
    "version": 3
   },
   "file_extension": ".py",
   "mimetype": "text/x-python",
   "name": "python",
   "nbconvert_exporter": "python",
   "pygments_lexer": "ipython3",
   "version": "3.7.3"
  }
 },
 "nbformat": 4,
 "nbformat_minor": 2
}
