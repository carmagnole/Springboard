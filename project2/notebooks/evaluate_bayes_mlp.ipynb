{
 "cells": [
  {
   "cell_type": "code",
   "execution_count": 1,
   "metadata": {},
   "outputs": [],
   "source": [
    "import pandas as pd\n",
    "import numpy as np\n",
    "import matplotlib.pyplot as plt"
   ]
  },
  {
   "cell_type": "markdown",
   "metadata": {},
   "source": [
    "# Prepare the data"
   ]
  },
  {
   "cell_type": "markdown",
   "metadata": {},
   "source": [
    "Basic data cleaning includes deleting the puctuation marks in the titles, and convert text into lower case."
   ]
  },
  {
   "cell_type": "code",
   "execution_count": 2,
   "metadata": {},
   "outputs": [
    {
     "data": {
      "text/html": [
       "<div>\n",
       "<style scoped>\n",
       "    .dataframe tbody tr th:only-of-type {\n",
       "        vertical-align: middle;\n",
       "    }\n",
       "\n",
       "    .dataframe tbody tr th {\n",
       "        vertical-align: top;\n",
       "    }\n",
       "\n",
       "    .dataframe thead th {\n",
       "        text-align: right;\n",
       "    }\n",
       "</style>\n",
       "<table border=\"1\" class=\"dataframe\">\n",
       "  <thead>\n",
       "    <tr style=\"text-align: right;\">\n",
       "      <th></th>\n",
       "      <th>category</th>\n",
       "      <th>title</th>\n",
       "    </tr>\n",
       "  </thead>\n",
       "  <tbody>\n",
       "    <tr>\n",
       "      <th>0</th>\n",
       "      <td>work</td>\n",
       "      <td>21 conversations  a fun and easy game for team...</td>\n",
       "    </tr>\n",
       "    <tr>\n",
       "      <th>1</th>\n",
       "      <td>spirituality</td>\n",
       "      <td>biblical porn at mars hill</td>\n",
       "    </tr>\n",
       "    <tr>\n",
       "      <th>2</th>\n",
       "      <td>lgbtqia</td>\n",
       "      <td>cisgender is that a disease</td>\n",
       "    </tr>\n",
       "    <tr>\n",
       "      <th>3</th>\n",
       "      <td>equality</td>\n",
       "      <td>call me nat love black cowboys and the frontie...</td>\n",
       "    </tr>\n",
       "    <tr>\n",
       "      <th>4</th>\n",
       "      <td>artificial-intelligence</td>\n",
       "      <td>can i train my model on your computer</td>\n",
       "    </tr>\n",
       "  </tbody>\n",
       "</table>\n",
       "</div>"
      ],
      "text/plain": [
       "                  category                                              title\n",
       "0                     work  21 conversations  a fun and easy game for team...\n",
       "1             spirituality                         biblical porn at mars hill\n",
       "2                  lgbtqia                        cisgender is that a disease\n",
       "3                 equality  call me nat love black cowboys and the frontie...\n",
       "4  artificial-intelligence              can i train my model on your computer"
      ]
     },
     "execution_count": 2,
     "metadata": {},
     "output_type": "execute_result"
    }
   ],
   "source": [
    "import string\n",
    "\n",
    "titles = pd.read_csv(\"./data/medium_post_titles.csv\")\n",
    "titles.drop(columns=[\"subtitle\", \"subtitle_truncated_flag\"], inplace=True)\n",
    "\n",
    "titles.title = titles.title.str.replace('[{}]'.format(string.punctuation), '').str.lower()\n",
    "titles.title = titles.title.str.replace('‘', '')\n",
    "titles.title = titles.title.str.replace('’', '')\n",
    "titles.title = titles.title.str.replace('“', '')\n",
    "titles.title = titles.title.str.replace('”', '')\n",
    "titles.title = titles.title.str.replace('—', '')\n",
    "\n",
    "titles.head()"
   ]
  },
  {
   "cell_type": "markdown",
   "metadata": {},
   "source": [
    "Hold out 20% of data as the test set."
   ]
  },
  {
   "cell_type": "code",
   "execution_count": 3,
   "metadata": {},
   "outputs": [],
   "source": [
    "from sklearn.model_selection import train_test_split\n",
    "\n",
    "titles_train, titles_test = train_test_split(titles, train_size=0.8, stratify=titles.category.values)\n",
    "\n",
    "X_train = titles_train.title.values\n",
    "X_test = titles_test.title.values\n",
    "\n",
    "y_train = titles_train.category.values\n",
    "y_test = titles_test.category.values"
   ]
  },
  {
   "cell_type": "code",
   "execution_count": 4,
   "metadata": {},
   "outputs": [],
   "source": [
    "import warnings\n",
    "warnings.filterwarnings('ignore')"
   ]
  },
  {
   "cell_type": "markdown",
   "metadata": {},
   "source": [
    "The theme labels were converted to one hot representations."
   ]
  },
  {
   "cell_type": "code",
   "execution_count": 5,
   "metadata": {},
   "outputs": [],
   "source": [
    "from sklearn.preprocessing import LabelEncoder\n",
    "from sklearn.preprocessing import OneHotEncoder\n",
    "\n",
    "integer_encoder = LabelEncoder()\n",
    "integer_train = integer_encoder.fit_transform(y_train).reshape((-1, 1))\n",
    "integer_test = integer_encoder.transform(y_test).reshape((-1, 1))\n",
    "\n",
    "onehot_encoder = OneHotEncoder(sparse=False)\n",
    "onehot_train = onehot_encoder.fit_transform(integer_train)\n",
    "onehot_test = onehot_encoder.transform(integer_test)"
   ]
  },
  {
   "cell_type": "markdown",
   "metadata": {},
   "source": [
    "# Naive Bayess"
   ]
  },
  {
   "cell_type": "markdown",
   "metadata": {},
   "source": [
    "Use TF-IDF to perform bag-of-words vectorization."
   ]
  },
  {
   "cell_type": "markdown",
   "metadata": {},
   "source": [
    "We adopted the Penn Treebank Tokenizer. Terms that appear less than twice or occur in more than 10% of the docuemnts are rejected. Typically, with TF-IDF vectorization, we can still use a multinomial naive Bayess classifier. Let's take a look at a naive Bayess classifer with Lapalace smoohing at alpha = 0.1. "
   ]
  },
  {
   "cell_type": "code",
   "execution_count": 6,
   "metadata": {},
   "outputs": [],
   "source": [
    "import warnings\n",
    "warnings.filterwarnings('ignore')"
   ]
  },
  {
   "cell_type": "code",
   "execution_count": 7,
   "metadata": {},
   "outputs": [
    {
     "name": "stdout",
     "output_type": "stream",
     "text": [
      "accuracy = 0.3527922797025787\n"
     ]
    }
   ],
   "source": [
    "from sklearn.feature_extraction.text import TfidfVectorizer\n",
    "from nltk.tokenize import TreebankWordTokenizer\n",
    "from sklearn.naive_bayes import MultinomialNB\n",
    "from sklearn.pipeline import Pipeline\n",
    "\n",
    "tokenizer = TreebankWordTokenizer()\n",
    "vectorizer = TfidfVectorizer(tokenizer=tokenizer.tokenize, ngram_range=(1, 1), stop_words='english', min_df=2, max_df=0.1)\n",
    "\n",
    "NBclassifier = MultinomialNB(alpha=0.1)\n",
    "\n",
    "classifierNB = Pipeline([(\"TfIdf\", vectorizer), (\"NaiveBayess\", NBclassifier)])\n",
    "classifierNB.fit(X_train, y_train)\n",
    "\n",
    "accuracyNB = classifierNB.score(X_test, y_test)\n",
    "print(\"accuracy = {}\".format(accuracyNB))"
   ]
  },
  {
   "cell_type": "markdown",
   "metadata": {},
   "source": [
    "# Multilayer Perceptron Network"
   ]
  },
  {
   "cell_type": "code",
   "execution_count": 8,
   "metadata": {},
   "outputs": [
    {
     "name": "stderr",
     "output_type": "stream",
     "text": [
      "Using TensorFlow backend.\n"
     ]
    },
    {
     "name": "stdout",
     "output_type": "stream",
     "text": [
      "WARNING:tensorflow:From /Users/ZhaojieYao/opt/anaconda3/envs/Springboard/lib/python3.7/site-packages/keras/backend/tensorflow_backend.py:74: The name tf.get_default_graph is deprecated. Please use tf.compat.v1.get_default_graph instead.\n",
      "\n",
      "WARNING:tensorflow:From /Users/ZhaojieYao/opt/anaconda3/envs/Springboard/lib/python3.7/site-packages/keras/backend/tensorflow_backend.py:517: The name tf.placeholder is deprecated. Please use tf.compat.v1.placeholder instead.\n",
      "\n",
      "WARNING:tensorflow:From /Users/ZhaojieYao/opt/anaconda3/envs/Springboard/lib/python3.7/site-packages/keras/backend/tensorflow_backend.py:4138: The name tf.random_uniform is deprecated. Please use tf.random.uniform instead.\n",
      "\n",
      "WARNING:tensorflow:From /Users/ZhaojieYao/opt/anaconda3/envs/Springboard/lib/python3.7/site-packages/keras/optimizers.py:790: The name tf.train.Optimizer is deprecated. Please use tf.compat.v1.train.Optimizer instead.\n",
      "\n",
      "WARNING:tensorflow:From /Users/ZhaojieYao/opt/anaconda3/envs/Springboard/lib/python3.7/site-packages/keras/backend/tensorflow_backend.py:3295: The name tf.log is deprecated. Please use tf.math.log instead.\n",
      "\n",
      "WARNING:tensorflow:From /Users/ZhaojieYao/opt/anaconda3/envs/Springboard/lib/python3.7/site-packages/tensorflow_core/python/ops/math_grad.py:1424: where (from tensorflow.python.ops.array_ops) is deprecated and will be removed in a future version.\n",
      "Instructions for updating:\n",
      "Use tf.where in 2.0, which has the same broadcast rule as np.where\n",
      "WARNING:tensorflow:From /Users/ZhaojieYao/opt/anaconda3/envs/Springboard/lib/python3.7/site-packages/keras/backend/tensorflow_backend.py:986: The name tf.assign_add is deprecated. Please use tf.compat.v1.assign_add instead.\n",
      "\n",
      "WARNING:tensorflow:From /Users/ZhaojieYao/opt/anaconda3/envs/Springboard/lib/python3.7/site-packages/keras/backend/tensorflow_backend.py:973: The name tf.assign is deprecated. Please use tf.compat.v1.assign instead.\n",
      "\n",
      "WARNING:tensorflow:From /Users/ZhaojieYao/opt/anaconda3/envs/Springboard/lib/python3.7/site-packages/keras/backend/tensorflow_backend.py:2741: The name tf.Session is deprecated. Please use tf.compat.v1.Session instead.\n",
      "\n",
      "Train on 101134 samples, validate on 25284 samples\n",
      "Epoch 1/5000\n",
      "WARNING:tensorflow:From /Users/ZhaojieYao/opt/anaconda3/envs/Springboard/lib/python3.7/site-packages/keras/backend/tensorflow_backend.py:174: The name tf.get_default_session is deprecated. Please use tf.compat.v1.get_default_session instead.\n",
      "\n",
      "WARNING:tensorflow:From /Users/ZhaojieYao/opt/anaconda3/envs/Springboard/lib/python3.7/site-packages/keras/backend/tensorflow_backend.py:181: The name tf.ConfigProto is deprecated. Please use tf.compat.v1.ConfigProto instead.\n",
      "\n",
      "WARNING:tensorflow:From /Users/ZhaojieYao/opt/anaconda3/envs/Springboard/lib/python3.7/site-packages/keras/backend/tensorflow_backend.py:190: The name tf.global_variables is deprecated. Please use tf.compat.v1.global_variables instead.\n",
      "\n",
      "WARNING:tensorflow:From /Users/ZhaojieYao/opt/anaconda3/envs/Springboard/lib/python3.7/site-packages/keras/backend/tensorflow_backend.py:199: The name tf.is_variable_initialized is deprecated. Please use tf.compat.v1.is_variable_initialized instead.\n",
      "\n",
      "WARNING:tensorflow:From /Users/ZhaojieYao/opt/anaconda3/envs/Springboard/lib/python3.7/site-packages/keras/backend/tensorflow_backend.py:206: The name tf.variables_initializer is deprecated. Please use tf.compat.v1.variables_initializer instead.\n",
      "\n",
      " - 19s - loss: 4.2269 - acc: 0.0710 - val_loss: 3.9266 - val_acc: 0.1566\n",
      "\n",
      "Epoch 00001: val_acc improved from -inf to 0.15662, saving model to MLP_best_model.h5\n",
      "Epoch 2/5000\n",
      " - 20s - loss: 3.4308 - acc: 0.2551 - val_loss: 2.9971 - val_acc: 0.3214\n",
      "\n",
      "Epoch 00002: val_acc improved from 0.15662 to 0.32143, saving model to MLP_best_model.h5\n",
      "Epoch 3/5000\n",
      " - 20s - loss: 2.4521 - acc: 0.4295 - val_loss: 2.5389 - val_acc: 0.3922\n",
      "\n",
      "Epoch 00003: val_acc improved from 0.32143 to 0.39218, saving model to MLP_best_model.h5\n",
      "Epoch 4/5000\n",
      " - 22s - loss: 1.9151 - acc: 0.5322 - val_loss: 2.4632 - val_acc: 0.4076\n",
      "\n",
      "Epoch 00004: val_acc improved from 0.39218 to 0.40761, saving model to MLP_best_model.h5\n",
      "Epoch 5/5000\n",
      " - 21s - loss: 1.6008 - acc: 0.5997 - val_loss: 2.4968 - val_acc: 0.4050\n",
      "\n",
      "Epoch 00005: val_acc did not improve from 0.40761\n",
      "Epoch 6/5000\n",
      " - 19s - loss: 1.3798 - acc: 0.6506 - val_loss: 2.5780 - val_acc: 0.3979\n",
      "\n",
      "Epoch 00006: val_acc did not improve from 0.40761\n",
      "Epoch 7/5000\n",
      " - 20s - loss: 1.2156 - acc: 0.6886 - val_loss: 2.6814 - val_acc: 0.3912\n",
      "\n",
      "Epoch 00007: val_acc did not improve from 0.40761\n",
      "Epoch 8/5000\n",
      " - 21s - loss: 1.0879 - acc: 0.7184 - val_loss: 2.7912 - val_acc: 0.3830\n",
      "\n",
      "Epoch 00008: val_acc did not improve from 0.40761\n",
      "Epoch 9/5000\n",
      " - 25s - loss: 0.9854 - acc: 0.7434 - val_loss: 2.9177 - val_acc: 0.3751\n",
      "\n",
      "Epoch 00009: val_acc did not improve from 0.40761\n",
      "Epoch 10/5000\n",
      " - 23s - loss: 0.9026 - acc: 0.7631 - val_loss: 3.0322 - val_acc: 0.3710\n",
      "\n",
      "Epoch 00010: val_acc did not improve from 0.40761\n",
      "Epoch 11/5000\n",
      " - 21s - loss: 0.8316 - acc: 0.7811 - val_loss: 3.1499 - val_acc: 0.3660\n",
      "\n",
      "Epoch 00011: val_acc did not improve from 0.40761\n",
      "Epoch 12/5000\n",
      " - 24s - loss: 0.7718 - acc: 0.7956 - val_loss: 3.2619 - val_acc: 0.3598\n",
      "\n",
      "Epoch 00012: val_acc did not improve from 0.40761\n",
      "Epoch 13/5000\n",
      " - 27s - loss: 0.7181 - acc: 0.8100 - val_loss: 3.3894 - val_acc: 0.3558\n",
      "\n",
      "Epoch 00013: val_acc did not improve from 0.40761\n",
      "Epoch 14/5000\n",
      " - 25s - loss: 0.6717 - acc: 0.8207 - val_loss: 3.4934 - val_acc: 0.3520\n",
      "\n",
      "Epoch 00014: val_acc did not improve from 0.40761\n",
      "Epoch 15/5000\n",
      " - 22s - loss: 0.6302 - acc: 0.8323 - val_loss: 3.6066 - val_acc: 0.3483\n",
      "\n",
      "Epoch 00015: val_acc did not improve from 0.40761\n",
      "Epoch 16/5000\n",
      " - 24s - loss: 0.5944 - acc: 0.8420 - val_loss: 3.7174 - val_acc: 0.3467\n",
      "\n",
      "Epoch 00016: val_acc did not improve from 0.40761\n",
      "Epoch 17/5000\n",
      " - 26s - loss: 0.5607 - acc: 0.8503 - val_loss: 3.8242 - val_acc: 0.3405\n",
      "\n",
      "Epoch 00017: val_acc did not improve from 0.40761\n",
      "Epoch 18/5000\n",
      " - 27s - loss: 0.5308 - acc: 0.8585 - val_loss: 3.9335 - val_acc: 0.3407\n",
      "\n",
      "Epoch 00018: val_acc did not improve from 0.40761\n",
      "Epoch 19/5000\n",
      " - 25s - loss: 0.5027 - acc: 0.8657 - val_loss: 4.0302 - val_acc: 0.3359\n",
      "\n",
      "Epoch 00019: val_acc did not improve from 0.40761\n",
      "Epoch 20/5000\n",
      " - 27s - loss: 0.4745 - acc: 0.8733 - val_loss: 4.1342 - val_acc: 0.3354\n",
      "\n",
      "Epoch 00020: val_acc did not improve from 0.40761\n",
      "Epoch 21/5000\n",
      " - 31s - loss: 0.4506 - acc: 0.8806 - val_loss: 4.2324 - val_acc: 0.3318\n",
      "\n",
      "Epoch 00021: val_acc did not improve from 0.40761\n",
      "Epoch 22/5000\n",
      " - 39s - loss: 0.4281 - acc: 0.8859 - val_loss: 4.3277 - val_acc: 0.3320\n",
      "\n",
      "Epoch 00022: val_acc did not improve from 0.40761\n",
      "Epoch 23/5000\n",
      " - 34s - loss: 0.4082 - acc: 0.8914 - val_loss: 4.4205 - val_acc: 0.3299\n",
      "\n",
      "Epoch 00023: val_acc did not improve from 0.40761\n",
      "Epoch 24/5000\n",
      " - 29s - loss: 0.3883 - acc: 0.8978 - val_loss: 4.5141 - val_acc: 0.3307\n",
      "\n",
      "Epoch 00024: val_acc did not improve from 0.40761\n",
      "Epoch 25/5000\n",
      " - 27s - loss: 0.3706 - acc: 0.9028 - val_loss: 4.6091 - val_acc: 0.3274\n",
      "\n",
      "Epoch 00025: val_acc did not improve from 0.40761\n",
      "Epoch 26/5000\n",
      " - 26s - loss: 0.3540 - acc: 0.9072 - val_loss: 4.6983 - val_acc: 0.3258\n",
      "\n",
      "Epoch 00026: val_acc did not improve from 0.40761\n",
      "Epoch 27/5000\n",
      " - 28s - loss: 0.3383 - acc: 0.9113 - val_loss: 4.7715 - val_acc: 0.3240\n",
      "\n",
      "Epoch 00027: val_acc did not improve from 0.40761\n",
      "Epoch 28/5000\n",
      " - 31s - loss: 0.3227 - acc: 0.9155 - val_loss: 4.8570 - val_acc: 0.3234\n",
      "\n",
      "Epoch 00028: val_acc did not improve from 0.40761\n",
      "Epoch 29/5000\n",
      " - 39s - loss: 0.3083 - acc: 0.9200 - val_loss: 4.9392 - val_acc: 0.3208\n",
      "\n",
      "Epoch 00029: val_acc did not improve from 0.40761\n",
      "Epoch 30/5000\n",
      " - 34s - loss: 0.2945 - acc: 0.9232 - val_loss: 5.0155 - val_acc: 0.3218\n",
      "\n",
      "Epoch 00030: val_acc did not improve from 0.40761\n",
      "Epoch 31/5000\n",
      " - 37s - loss: 0.2819 - acc: 0.9274 - val_loss: 5.0989 - val_acc: 0.3194\n",
      "\n",
      "Epoch 00031: val_acc did not improve from 0.40761\n",
      "Epoch 32/5000\n",
      " - 31s - loss: 0.2702 - acc: 0.9305 - val_loss: 5.1644 - val_acc: 0.3196\n",
      "\n",
      "Epoch 00032: val_acc did not improve from 0.40761\n",
      "Epoch 33/5000\n",
      " - 33s - loss: 0.2591 - acc: 0.9334 - val_loss: 5.2390 - val_acc: 0.3162\n",
      "\n",
      "Epoch 00033: val_acc did not improve from 0.40761\n",
      "Epoch 34/5000\n",
      " - 34s - loss: 0.2500 - acc: 0.9357 - val_loss: 5.3061 - val_acc: 0.3163\n",
      "\n",
      "Epoch 00034: val_acc did not improve from 0.40761\n",
      "Epoch 35/5000\n"
     ]
    },
    {
     "name": "stdout",
     "output_type": "stream",
     "text": [
      " - 33s - loss: 0.2395 - acc: 0.9385 - val_loss: 5.3792 - val_acc: 0.3156\n",
      "\n",
      "Epoch 00035: val_acc did not improve from 0.40761\n",
      "Epoch 36/5000\n",
      " - 32s - loss: 0.2302 - acc: 0.9409 - val_loss: 5.4437 - val_acc: 0.3134\n",
      "\n",
      "Epoch 00036: val_acc did not improve from 0.40761\n",
      "Epoch 37/5000\n",
      " - 42s - loss: 0.2229 - acc: 0.9429 - val_loss: 5.5041 - val_acc: 0.3143\n",
      "\n",
      "Epoch 00037: val_acc did not improve from 0.40761\n",
      "Epoch 38/5000\n",
      " - 43s - loss: 0.2145 - acc: 0.9455 - val_loss: 5.5644 - val_acc: 0.3131\n",
      "\n",
      "Epoch 00038: val_acc did not improve from 0.40761\n",
      "Epoch 39/5000\n",
      " - 46s - loss: 0.2066 - acc: 0.9473 - val_loss: 5.6303 - val_acc: 0.3109\n",
      "\n",
      "Epoch 00039: val_acc did not improve from 0.40761\n",
      "Epoch 40/5000\n",
      " - 43s - loss: 0.1992 - acc: 0.9491 - val_loss: 5.6770 - val_acc: 0.3148\n",
      "\n",
      "Epoch 00040: val_acc did not improve from 0.40761\n",
      "Epoch 41/5000\n",
      " - 41s - loss: 0.1918 - acc: 0.9514 - val_loss: 5.7361 - val_acc: 0.3127\n",
      "\n",
      "Epoch 00041: val_acc did not improve from 0.40761\n",
      "Epoch 42/5000\n",
      " - 34s - loss: 0.1863 - acc: 0.9531 - val_loss: 5.7923 - val_acc: 0.3107\n",
      "\n",
      "Epoch 00042: val_acc did not improve from 0.40761\n",
      "Epoch 43/5000\n",
      " - 35s - loss: 0.1795 - acc: 0.9544 - val_loss: 5.8457 - val_acc: 0.3098\n",
      "\n",
      "Epoch 00043: val_acc did not improve from 0.40761\n",
      "Epoch 44/5000\n",
      " - 39s - loss: 0.1737 - acc: 0.9559 - val_loss: 5.8920 - val_acc: 0.3117\n",
      "\n",
      "Epoch 00044: val_acc did not improve from 0.40761\n",
      "Epoch 45/5000\n",
      " - 35s - loss: 0.1681 - acc: 0.9574 - val_loss: 5.9400 - val_acc: 0.3123\n",
      "\n",
      "Epoch 00045: val_acc did not improve from 0.40761\n",
      "Epoch 46/5000\n",
      " - 44s - loss: 0.1642 - acc: 0.9583 - val_loss: 5.9878 - val_acc: 0.3111\n",
      "\n",
      "Epoch 00046: val_acc did not improve from 0.40761\n",
      "Epoch 47/5000\n",
      " - 37s - loss: 0.1597 - acc: 0.9587 - val_loss: 6.0411 - val_acc: 0.3092\n",
      "\n",
      "Epoch 00047: val_acc did not improve from 0.40761\n",
      "Epoch 48/5000\n",
      " - 38s - loss: 0.1543 - acc: 0.9608 - val_loss: 6.0787 - val_acc: 0.3106\n",
      "\n",
      "Epoch 00048: val_acc did not improve from 0.40761\n",
      "Epoch 49/5000\n",
      " - 62s - loss: 0.1511 - acc: 0.9612 - val_loss: 6.1175 - val_acc: 0.3111\n",
      "\n",
      "Epoch 00049: val_acc did not improve from 0.40761\n",
      "Epoch 50/5000\n",
      " - 51s - loss: 0.1475 - acc: 0.9622 - val_loss: 6.1615 - val_acc: 0.3087\n",
      "\n",
      "Epoch 00050: val_acc did not improve from 0.40761\n",
      "Epoch 51/5000\n",
      " - 40s - loss: 0.1435 - acc: 0.9628 - val_loss: 6.1983 - val_acc: 0.3091\n",
      "\n",
      "Epoch 00051: val_acc did not improve from 0.40761\n",
      "Epoch 52/5000\n",
      " - 47s - loss: 0.1399 - acc: 0.9636 - val_loss: 6.2365 - val_acc: 0.3084\n",
      "\n",
      "Epoch 00052: val_acc did not improve from 0.40761\n",
      "Epoch 53/5000\n",
      " - 50s - loss: 0.1369 - acc: 0.9647 - val_loss: 6.2792 - val_acc: 0.3081\n",
      "\n",
      "Epoch 00053: val_acc did not improve from 0.40761\n",
      "Epoch 54/5000\n",
      " - 40s - loss: 0.1345 - acc: 0.9649 - val_loss: 6.3139 - val_acc: 0.3086\n",
      "\n",
      "Epoch 00054: val_acc did not improve from 0.40761\n",
      "Epoch 00054: early stopping\n",
      "Time elapsed during training: 1744.3312766551971\n",
      "Accuracy on training set: 0.603100836513932\n",
      "Accuracy on held-out test set: 0.40760955545008704\n"
     ]
    }
   ],
   "source": [
    "from keras.models import Sequential\n",
    "from keras.layers import Dense\n",
    "from keras.layers import Dropout\n",
    "from keras.callbacks import EarlyStopping\n",
    "from keras.callbacks import ModelCheckpoint\n",
    "from time import time\n",
    "from keras.models import load_model\n",
    "\n",
    "XMatrix_train = vectorizer.fit_transform(X_train)\n",
    "vocabulary = np.array(vectorizer.get_feature_names())\n",
    "vocabularySize = vocabulary.size\n",
    "\n",
    "XMatrix_test = vectorizer.transform(X_test)\n",
    "\n",
    "layer1 = Dense(256, activation=\"relu\", input_dim=vocabularySize)\n",
    "layer2 = Dense(256, activation=\"relu\")\n",
    "outputLayer = Dense(93, activation=\"softmax\")\n",
    "classifierMLP = Sequential([layer1, layer2, outputLayer])\n",
    "classifierMLP.compile(loss='categorical_crossentropy', optimizer=\"adam\", metrics=[\"acc\"])\n",
    "\n",
    "early_stopping = EarlyStopping(monitor=\"val_acc\", mode=\"max\", patience=50, verbose=2)\n",
    "best_model_saving = ModelCheckpoint(\"MLP_best_model.h5\", monitor=\"val_acc\", mode=\"max\", save_best_only=True, verbose=2)\n",
    "\n",
    "start_time = time()\n",
    "history = classifierMLP.fit(XMatrix_train,onehot_train, epochs=5000, batch_size=2048, validation_data=(XMatrix_test,onehot_test), callbacks=[early_stopping, best_model_saving], verbose=2)\n",
    "end_time = time()\n",
    "print(\"Time elapsed during training: {}\".format(end_time - start_time))\n",
    "\n",
    "classifierMLP = load_model(\"MLP_best_model.h5\")\n",
    "_, train_accuracy = classifierMLP.evaluate(XMatrix_train, onehot_train, verbose=0)\n",
    "print(\"Accuracy on training set: {}\".format(train_accuracy))\n",
    "_, test_accuracy = classifierMLP.evaluate(XMatrix_test, onehot_test, verbose=0)\n",
    "print(\"Accuracy on held-out test set: {}\".format(test_accuracy))"
   ]
  },
  {
   "cell_type": "code",
   "execution_count": 9,
   "metadata": {},
   "outputs": [
    {
     "data": {
      "image/png": "[encoded data removed]",
      "text/plain": [
       "<Figure size 432x288 with 1 Axes>"
      ]
     },
     "metadata": {
      "needs_background": "light"
     },
     "output_type": "display_data"
    }
   ],
   "source": [
    "def plotFittingAccuracy(history):\n",
    "    \n",
    "    plt.plot(history.history['acc'], label='train set')\n",
    "    plt.plot(history.history['val_acc'], label='test set')\n",
    "    \n",
    "    plt.title(\"Accuracy during training\")\n",
    "    plt.ylabel(\"accuracy\")\n",
    "    plt.xlabel(\"epoch\")\n",
    "    plt.legend()\n",
    "    plt.show()\n",
    "    \n",
    "plotFittingAccuracy(history)"
   ]
  },
  {
   "cell_type": "markdown",
   "metadata": {},
   "source": [
    "# Precision-recall"
   ]
  },
  {
   "cell_type": "code",
   "execution_count": 10,
   "metadata": {},
   "outputs": [],
   "source": [
    "probabilityNB = classifierNB.predict_proba(X_test)\n",
    "classListNB = classifierNB.classes_\n",
    "realLabelNB = np.equal(np.repeat(np.reshape(y_test, (-1, 1)), len(classListNB), axis=1), np.repeat(np.reshape(classListNB, (1, -1)), len(y_test), axis=0))\n",
    "\n",
    "probabilityMLP = classifierMLP.predict_proba(XMatrix_test)\n",
    "classListMLP = integer_encoder.classes_\n",
    "realLabelMLP = np.equal(np.repeat(np.reshape(y_test, (-1, 1)), len(classListMLP), axis=1), np.repeat(np.reshape(classListMLP, (1, -1)), len(y_test), axis=0))\n",
    "\n",
    "\n",
    "thresholds = np.arange(0, 1.001, 0.001)\n",
    "\n",
    "correctSuggestionRateNB = np.zeros(len(thresholds))\n",
    "correctSuggestionRateMLP = np.zeros(len(thresholds))\n",
    "\n",
    "for i, threshold in enumerate(thresholds):\n",
    "    \n",
    "    predictedLabelNB = probabilityNB >= threshold\n",
    "    correctSuggestionRateNB[i] = np.any((predictedLabelNB & realLabelNB), axis=1).mean()\n",
    "    \n",
    "    predictedLabelMLP = probabilityMLP >= threshold\n",
    "    correctSuggestionRateMLP[i] = np.any((predictedLabelMLP & realLabelMLP), axis=1).mean()"
   ]
  },
  {
   "cell_type": "code",
   "execution_count": 11,
   "metadata": {},
   "outputs": [
    {
     "data": {
      "text/plain": [
       "Text(0, 0.5, 'correct suggestion rate')"
      ]
     },
     "execution_count": 11,
     "metadata": {},
     "output_type": "execute_result"
    },
    {
     "data": {
      "image/png": "[encoded data removed]",
      "text/plain": [
       "<Figure size 648x648 with 1 Axes>"
      ]
     },
     "metadata": {
      "needs_background": "light"
     },
     "output_type": "display_data"
    }
   ],
   "source": [
    "plt.figure(figsize=(9,9))\n",
    "\n",
    "plt.plot(thresholds, correctSuggestionRateNB, label=\"naive Bayes\")\n",
    "plt.plot(thresholds, correctSuggestionRateMLP, label=\"multilayer perceptron network\")\n",
    "\n",
    "plt.xlim([0, 1])\n",
    "plt.ylim([0, 1])\n",
    "plt.gca().set_aspect('equal')\n",
    "plt.legend(loc=\"upper right\")\n",
    "plt.xlabel(\"threhold\")\n",
    "plt.ylabel(\"correct suggestion rate\")"
   ]
  },
  {
   "cell_type": "code",
   "execution_count": null,
   "metadata": {},
   "outputs": [],
   "source": []
  }
 ],
 "metadata": {
  "kernelspec": {
   "display_name": "Python 3",
   "language": "python",
   "name": "python3"
  },
  "language_info": {
   "codemirror_mode": {
    "name": "ipython",
    "version": 3
   },
   "file_extension": ".py",
   "mimetype": "text/x-python",
   "name": "python",
   "nbconvert_exporter": "python",
   "pygments_lexer": "ipython3",
   "version": "3.7.5"
  }
 },
 "nbformat": 4,
 "nbformat_minor": 2
}
