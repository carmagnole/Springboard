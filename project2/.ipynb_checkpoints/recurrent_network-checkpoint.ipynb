{
 "cells": [
  {
   "cell_type": "code",
   "execution_count": 1,
   "metadata": {},
   "outputs": [],
   "source": [
    "import pandas as pd\n",
    "import numpy as np\n",
    "import seaborn as sns\n",
    "import matplotlib.pyplot as plt"
   ]
  },
  {
   "cell_type": "markdown",
   "metadata": {},
   "source": [
    "# Prepare the data"
   ]
  },
  {
   "cell_type": "code",
   "execution_count": 2,
   "metadata": {},
   "outputs": [
    {
     "data": {
      "text/html": [
       "<div>\n",
       "<style scoped>\n",
       "    .dataframe tbody tr th:only-of-type {\n",
       "        vertical-align: middle;\n",
       "    }\n",
       "\n",
       "    .dataframe tbody tr th {\n",
       "        vertical-align: top;\n",
       "    }\n",
       "\n",
       "    .dataframe thead th {\n",
       "        text-align: right;\n",
       "    }\n",
       "</style>\n",
       "<table border=\"1\" class=\"dataframe\">\n",
       "  <thead>\n",
       "    <tr style=\"text-align: right;\">\n",
       "      <th></th>\n",
       "      <th>category</th>\n",
       "      <th>title</th>\n",
       "    </tr>\n",
       "  </thead>\n",
       "  <tbody>\n",
       "    <tr>\n",
       "      <td>0</td>\n",
       "      <td>work</td>\n",
       "      <td>21 conversations  a fun and easy game for team...</td>\n",
       "    </tr>\n",
       "    <tr>\n",
       "      <td>1</td>\n",
       "      <td>spirituality</td>\n",
       "      <td>biblical porn at mars hill</td>\n",
       "    </tr>\n",
       "    <tr>\n",
       "      <td>2</td>\n",
       "      <td>lgbtqia</td>\n",
       "      <td>cisgender is that a disease</td>\n",
       "    </tr>\n",
       "    <tr>\n",
       "      <td>3</td>\n",
       "      <td>equality</td>\n",
       "      <td>call me nat love black cowboys and the frontie...</td>\n",
       "    </tr>\n",
       "    <tr>\n",
       "      <td>4</td>\n",
       "      <td>artificial-intelligence</td>\n",
       "      <td>can i train my model on your computer</td>\n",
       "    </tr>\n",
       "  </tbody>\n",
       "</table>\n",
       "</div>"
      ],
      "text/plain": [
       "                  category                                              title\n",
       "0                     work  21 conversations  a fun and easy game for team...\n",
       "1             spirituality                         biblical porn at mars hill\n",
       "2                  lgbtqia                        cisgender is that a disease\n",
       "3                 equality  call me nat love black cowboys and the frontie...\n",
       "4  artificial-intelligence              can i train my model on your computer"
      ]
     },
     "execution_count": 2,
     "metadata": {},
     "output_type": "execute_result"
    }
   ],
   "source": [
    "import string\n",
    "\n",
    "titles = pd.read_csv(\"./data/medium_post_titles.csv\")\n",
    "titles.drop(columns=[\"subtitle\", \"subtitle_truncated_flag\"], inplace=True)\n",
    "\n",
    "titles.title = titles.title.str.replace('[{}]'.format(string.punctuation), '').str.lower()\n",
    "titles.title = titles.title.str.replace('‘', '')\n",
    "titles.title = titles.title.str.replace('’', '')\n",
    "titles.title = titles.title.str.replace('“', '')\n",
    "titles.title = titles.title.str.replace('”', '')\n",
    "titles.title = titles.title.str.replace('—', '')\n",
    "\n",
    "titles.head()"
   ]
  },
  {
   "cell_type": "code",
   "execution_count": 3,
   "metadata": {},
   "outputs": [],
   "source": [
    "from sklearn.model_selection import train_test_split\n",
    "\n",
    "\n",
    "titles_train, titles_test = train_test_split(titles, train_size=0.8, stratify=titles.category.values)\n",
    "\n",
    "X_train = titles_train.title.str.split().tolist()\n",
    "X_test = titles_test.title.str.split().tolist()\n",
    "\n",
    "y_train = titles_train.category.values\n",
    "y_test = titles_test.category.values"
   ]
  },
  {
   "cell_type": "markdown",
   "metadata": {},
   "source": [
    "# Recurrent neural network"
   ]
  },
  {
   "cell_type": "code",
   "execution_count": 56,
   "metadata": {},
   "outputs": [
    {
     "name": "stderr",
     "output_type": "stream",
     "text": [
      "/Users/zhaojieyao/anaconda3/envs/SpringBoard/lib/python3.7/site-packages/sklearn/preprocessing/_encoders.py:415: FutureWarning: The handling of integer data will change in version 0.22. Currently, the categories are determined based on the range [0, max(values)], while in the future they will be determined based on the unique values.\n",
      "If you want the future behaviour and silence this warning, you can specify \"categories='auto'\".\n",
      "In case you used a LabelEncoder before this OneHotEncoder to convert the categories to integers, then you can now use the OneHotEncoder directly.\n",
      "  warnings.warn(msg, FutureWarning)\n"
     ]
    }
   ],
   "source": [
    "from sklearn.preprocessing import LabelEncoder\n",
    "from sklearn.preprocessing import OneHotEncoder\n",
    "\n",
    "integer_encoder = LabelEncoder()\n",
    "integer_train = integer_encoder.fit_transform(y_train).reshape((-1, 1))\n",
    "integer_test = integer_encoder.transform(y_test).reshape((-1, 1))\n",
    "\n",
    "onehot_encoder = OneHotEncoder(sparse=False)\n",
    "onehot_train = onehot_encoder.fit_transform(integer_train)\n",
    "onehot_test = onehot_encoder.transform(integer_test)"
   ]
  },
  {
   "cell_type": "code",
   "execution_count": 76,
   "metadata": {},
   "outputs": [],
   "source": [
    "def reveseOneHot(prediction_output):\n",
    "    integer_encode = onehot_encoder.inverse_transform(prediction_output).flatten().astype(int)\n",
    "    return integer_encoder.inverse_transform(integer_encode)    "
   ]
  },
  {
   "cell_type": "code",
   "execution_count": 4,
   "metadata": {},
   "outputs": [],
   "source": [
    "from itertools import chain\n",
    "\n",
    "def extractVocabulary(titles, min_count):\n",
    "    \n",
    "    flatten_titles = list(chain(*titles))\n",
    "    \n",
    "    vocabulary, counts = np.unique(flatten_titles, return_counts=True)\n",
    "    vocabulary = vocabulary[counts >= 2]\n",
    "    \n",
    "    return vocabulary"
   ]
  },
  {
   "cell_type": "code",
   "execution_count": 52,
   "metadata": {},
   "outputs": [],
   "source": [
    "from gensim.sklearn_api import W2VTransformer\n",
    "\n",
    "vectorizer = W2VTransformer(size=128, window=5, min_count=2, null_word=1, workers=-2, iter=500)\n",
    "vectorizer.fit(X_train)\n",
    "vocabulary = extractVocabulary(X_train, 2)"
   ]
  },
  {
   "cell_type": "code",
   "execution_count": 49,
   "metadata": {},
   "outputs": [],
   "source": [
    "from tqdm import tqdm\n",
    "def mapTitles2Vectors(titles, vectorizer, vocabulary, vectorSize, maxLength=None):\n",
    "    \n",
    "    nTitles = len(titles)\n",
    "    representations = [[] for i in range(nTitles)]\n",
    "    for i, title in tqdm(enumerate(titles)):\n",
    "        representations[i] = mapTitle2Vectors(title, vectorizer, vocabulary, vectorSize, maxLength)\n",
    "    \n",
    "    return np.concatenate(list(map(lambda mat: mat[np.newaxis, :], representations)), axis=0)"
   ]
  },
  {
   "cell_type": "code",
   "execution_count": 7,
   "metadata": {},
   "outputs": [],
   "source": [
    "def mapTitle2Vectors(title, vectorizer, vocabulary, vectorSize, maxLength):\n",
    "    \n",
    "    vectorsMatrix = np.zeros((maxLength, vectorSize))\n",
    "    for i, word in enumerate(title):\n",
    "        if word in vocabulary:\n",
    "            vectorsMatrix[i, :] = vectorizer.transform(word)\n",
    "            \n",
    "    return vectorsMatrix"
   ]
  },
  {
   "cell_type": "code",
   "execution_count": 50,
   "metadata": {},
   "outputs": [
    {
     "name": "stderr",
     "output_type": "stream",
     "text": [
      "25284it [00:54, 459.93it/s]\n",
      "101134it [03:21, 502.27it/s]\n"
     ]
    }
   ],
   "source": [
    "maxTitleLength = max(map(len, X_train + X_test))\n",
    "vectors_train = mapTitles2Vectors(X_train, vectorizer, vocabulary, 128, maxTitleLength)\n",
    "vectors_test = mapTitles2Vectors(X_test, vectorizer, vocabulary, 128, maxTitleLength)"
   ]
  },
  {
   "cell_type": "code",
   "execution_count": null,
   "metadata": {},
   "outputs": [],
   "source": []
  },
  {
   "cell_type": "code",
   "execution_count": 59,
   "metadata": {},
   "outputs": [
    {
     "name": "stdout",
     "output_type": "stream",
     "text": [
      "WARNING:tensorflow:From /Users/zhaojieyao/anaconda3/envs/SpringBoard/lib/python3.7/site-packages/tensorflow/python/framework/op_def_library.py:263: colocate_with (from tensorflow.python.framework.ops) is deprecated and will be removed in a future version.\n",
      "Instructions for updating:\n",
      "Colocations handled automatically by placer.\n",
      "WARNING:tensorflow:From /Users/zhaojieyao/anaconda3/envs/SpringBoard/lib/python3.7/site-packages/tensorflow/python/ops/math_ops.py:3066: to_int32 (from tensorflow.python.ops.math_ops) is deprecated and will be removed in a future version.\n",
      "Instructions for updating:\n",
      "Use tf.cast instead.\n",
      "Epoch 1/2\n",
      " - 28s - loss: 4.2280\n",
      "Epoch 2/2\n",
      " - 24s - loss: 4.1593\n"
     ]
    },
    {
     "data": {
      "text/plain": [
       "<keras.callbacks.History at 0x1bb239a20>"
      ]
     },
     "execution_count": 59,
     "metadata": {},
     "output_type": "execute_result"
    }
   ],
   "source": [
    "from keras.models import Sequential\n",
    "from keras.layers import Dense\n",
    "from keras.layers import SimpleRNN\n",
    "\n",
    "# recurrentLayer = SimpleRNN(256, activation=\"relu\", input_shape=(maxTitleLength, 256))\n",
    "# fullyConnectedLayer = Dense(93, activation=\"softmax\")\n",
    "\n",
    "# classifier = Sequential([recurrentLayer, fullyConnectedLayer])\n",
    "# classifier.compile(loss='categorical_crossentropy', optimizer='adam')\n",
    "\n",
    "# classifier.fit(vectors_train,onehot_train, epochs=2, batch_size=1024, verbose=2)"
   ]
  },
  {
   "cell_type": "code",
   "execution_count": null,
   "metadata": {},
   "outputs": [],
   "source": []
  }
 ],
 "metadata": {
  "kernelspec": {
   "display_name": "Python 3",
   "language": "python",
   "name": "python3"
  },
  "language_info": {
   "codemirror_mode": {
    "name": "ipython",
    "version": 3
   },
   "file_extension": ".py",
   "mimetype": "text/x-python",
   "name": "python",
   "nbconvert_exporter": "python",
   "pygments_lexer": "ipython3",
   "version": "3.7.3"
  }
 },
 "nbformat": 4,
 "nbformat_minor": 2
}
