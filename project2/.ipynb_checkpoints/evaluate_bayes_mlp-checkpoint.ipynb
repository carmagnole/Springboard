{
 "cells": [
  {
   "cell_type": "code",
   "execution_count": 1,
   "metadata": {},
   "outputs": [],
   "source": [
    "import pandas as pd\n",
    "import numpy as np\n",
    "import matplotlib.pyplot as plt"
   ]
  },
  {
   "cell_type": "markdown",
   "metadata": {},
   "source": [
    "# Prepare the data"
   ]
  },
  {
   "cell_type": "markdown",
   "metadata": {},
   "source": [
    "Basic data cleaning includes deleting the puctuation marks in the titles, and convert text into lower case."
   ]
  },
  {
   "cell_type": "code",
   "execution_count": 2,
   "metadata": {},
   "outputs": [
    {
     "data": {
      "text/html": [
       "<div>\n",
       "<style scoped>\n",
       "    .dataframe tbody tr th:only-of-type {\n",
       "        vertical-align: middle;\n",
       "    }\n",
       "\n",
       "    .dataframe tbody tr th {\n",
       "        vertical-align: top;\n",
       "    }\n",
       "\n",
       "    .dataframe thead th {\n",
       "        text-align: right;\n",
       "    }\n",
       "</style>\n",
       "<table border=\"1\" class=\"dataframe\">\n",
       "  <thead>\n",
       "    <tr style=\"text-align: right;\">\n",
       "      <th></th>\n",
       "      <th>category</th>\n",
       "      <th>title</th>\n",
       "    </tr>\n",
       "  </thead>\n",
       "  <tbody>\n",
       "    <tr>\n",
       "      <th>0</th>\n",
       "      <td>work</td>\n",
       "      <td>21 conversations  a fun and easy game for team...</td>\n",
       "    </tr>\n",
       "    <tr>\n",
       "      <th>1</th>\n",
       "      <td>spirituality</td>\n",
       "      <td>biblical porn at mars hill</td>\n",
       "    </tr>\n",
       "    <tr>\n",
       "      <th>2</th>\n",
       "      <td>lgbtqia</td>\n",
       "      <td>cisgender is that a disease</td>\n",
       "    </tr>\n",
       "    <tr>\n",
       "      <th>3</th>\n",
       "      <td>equality</td>\n",
       "      <td>call me nat love black cowboys and the frontie...</td>\n",
       "    </tr>\n",
       "    <tr>\n",
       "      <th>4</th>\n",
       "      <td>artificial-intelligence</td>\n",
       "      <td>can i train my model on your computer</td>\n",
       "    </tr>\n",
       "  </tbody>\n",
       "</table>\n",
       "</div>"
      ],
      "text/plain": [
       "                  category                                              title\n",
       "0                     work  21 conversations  a fun and easy game for team...\n",
       "1             spirituality                         biblical porn at mars hill\n",
       "2                  lgbtqia                        cisgender is that a disease\n",
       "3                 equality  call me nat love black cowboys and the frontie...\n",
       "4  artificial-intelligence              can i train my model on your computer"
      ]
     },
     "execution_count": 2,
     "metadata": {},
     "output_type": "execute_result"
    }
   ],
   "source": [
    "import string\n",
    "\n",
    "titles = pd.read_csv(\"./data/medium_post_titles.csv\")\n",
    "titles.drop(columns=[\"subtitle\", \"subtitle_truncated_flag\"], inplace=True)\n",
    "\n",
    "titles.title = titles.title.str.replace('[{}]'.format(string.punctuation), '').str.lower()\n",
    "titles.title = titles.title.str.replace('‘', '')\n",
    "titles.title = titles.title.str.replace('’', '')\n",
    "titles.title = titles.title.str.replace('“', '')\n",
    "titles.title = titles.title.str.replace('”', '')\n",
    "titles.title = titles.title.str.replace('—', '')\n",
    "\n",
    "titles.head()"
   ]
  },
  {
   "cell_type": "markdown",
   "metadata": {},
   "source": [
    "Hold out 20% of data as the test set."
   ]
  },
  {
   "cell_type": "code",
   "execution_count": 3,
   "metadata": {},
   "outputs": [],
   "source": [
    "from sklearn.model_selection import train_test_split\n",
    "\n",
    "titles_train, titles_test = train_test_split(titles, train_size=0.8, stratify=titles.category.values)\n",
    "\n",
    "X_train = titles_train.title.values\n",
    "X_test = titles_test.title.values\n",
    "\n",
    "y_train = titles_train.category.values\n",
    "y_test = titles_test.category.values"
   ]
  },
  {
   "cell_type": "code",
   "execution_count": 4,
   "metadata": {},
   "outputs": [],
   "source": [
    "import warnings\n",
    "warnings.filterwarnings('ignore')"
   ]
  },
  {
   "cell_type": "markdown",
   "metadata": {},
   "source": [
    "The theme labels were converted to one hot representations."
   ]
  },
  {
   "cell_type": "code",
   "execution_count": 5,
   "metadata": {},
   "outputs": [],
   "source": [
    "from sklearn.preprocessing import LabelEncoder\n",
    "from sklearn.preprocessing import OneHotEncoder\n",
    "\n",
    "integer_encoder = LabelEncoder()\n",
    "integer_train = integer_encoder.fit_transform(y_train).reshape((-1, 1))\n",
    "integer_test = integer_encoder.transform(y_test).reshape((-1, 1))\n",
    "\n",
    "onehot_encoder = OneHotEncoder(sparse=False)\n",
    "onehot_train = onehot_encoder.fit_transform(integer_train)\n",
    "onehot_test = onehot_encoder.transform(integer_test)"
   ]
  },
  {
   "cell_type": "markdown",
   "metadata": {},
   "source": [
    "# Naive Bayess"
   ]
  },
  {
   "cell_type": "markdown",
   "metadata": {},
   "source": [
    "Use TF-IDF to perform bag-of-words vectorization."
   ]
  },
  {
   "cell_type": "markdown",
   "metadata": {},
   "source": [
    "We adopted the Penn Treebank Tokenizer. Terms that appear less than twice or occur in more than 10% of the docuemnts are rejected. Typically, with TF-IDF vectorization, we can still use a multinomial naive Bayess classifier. Let's take a look at a naive Bayess classifer with Lapalace smoohing at alpha = 0.1. "
   ]
  },
  {
   "cell_type": "code",
   "execution_count": 6,
   "metadata": {},
   "outputs": [],
   "source": [
    "import warnings\n",
    "warnings.filterwarnings('ignore')"
   ]
  },
  {
   "cell_type": "code",
   "execution_count": 7,
   "metadata": {},
   "outputs": [
    {
     "name": "stdout",
     "output_type": "stream",
     "text": [
      "accuracy = 0.3521594684385382\n"
     ]
    }
   ],
   "source": [
    "from sklearn.feature_extraction.text import TfidfVectorizer\n",
    "from nltk.tokenize import TreebankWordTokenizer\n",
    "from sklearn.naive_bayes import MultinomialNB\n",
    "from sklearn.pipeline import Pipeline\n",
    "\n",
    "tokenizer = TreebankWordTokenizer()\n",
    "vectorizer = TfidfVectorizer(tokenizer=tokenizer.tokenize, ngram_range=(1, 1), stop_words='english', min_df=2, max_df=0.1)\n",
    "\n",
    "NBclassifier = MultinomialNB(alpha=0.1)\n",
    "\n",
    "classifierNB = Pipeline([(\"TfIdf\", vectorizer), (\"NaiveBayess\", NBclassifier)])\n",
    "classifierNB.fit(X_train, y_train)\n",
    "\n",
    "accuracyNB = classifierNB.score(X_test, y_test)\n",
    "print(\"accuracy = {}\".format(accuracyNB))"
   ]
  },
  {
   "cell_type": "markdown",
   "metadata": {},
   "source": [
    "# Multilayer Perceptron Network"
   ]
  },
  {
   "cell_type": "code",
   "execution_count": 8,
   "metadata": {},
   "outputs": [
    {
     "name": "stderr",
     "output_type": "stream",
     "text": [
      "Using TensorFlow backend.\n",
      "WARNING: Logging before flag parsing goes to stderr.\n",
      "W1022 20:00:34.482877 4511360448 deprecation_wrapper.py:119] From /anaconda3/envs/SpringBoard/lib/python3.7/site-packages/keras/backend/tensorflow_backend.py:74: The name tf.get_default_graph is deprecated. Please use tf.compat.v1.get_default_graph instead.\n",
      "\n",
      "W1022 20:00:34.513689 4511360448 deprecation_wrapper.py:119] From /anaconda3/envs/SpringBoard/lib/python3.7/site-packages/keras/backend/tensorflow_backend.py:517: The name tf.placeholder is deprecated. Please use tf.compat.v1.placeholder instead.\n",
      "\n",
      "W1022 20:00:34.518306 4511360448 deprecation_wrapper.py:119] From /anaconda3/envs/SpringBoard/lib/python3.7/site-packages/keras/backend/tensorflow_backend.py:4138: The name tf.random_uniform is deprecated. Please use tf.random.uniform instead.\n",
      "\n",
      "W1022 20:00:34.554073 4511360448 deprecation_wrapper.py:119] From /anaconda3/envs/SpringBoard/lib/python3.7/site-packages/keras/optimizers.py:790: The name tf.train.Optimizer is deprecated. Please use tf.compat.v1.train.Optimizer instead.\n",
      "\n",
      "W1022 20:00:34.573904 4511360448 deprecation_wrapper.py:119] From /anaconda3/envs/SpringBoard/lib/python3.7/site-packages/keras/backend/tensorflow_backend.py:3295: The name tf.log is deprecated. Please use tf.math.log instead.\n",
      "\n",
      "W1022 20:00:34.665524 4511360448 deprecation.py:323] From /anaconda3/envs/SpringBoard/lib/python3.7/site-packages/tensorflow/python/ops/math_grad.py:1250: add_dispatch_support.<locals>.wrapper (from tensorflow.python.ops.array_ops) is deprecated and will be removed in a future version.\n",
      "Instructions for updating:\n",
      "Use tf.where in 2.0, which has the same broadcast rule as np.where\n",
      "W1022 20:00:34.710897 4511360448 deprecation_wrapper.py:119] From /anaconda3/envs/SpringBoard/lib/python3.7/site-packages/keras/backend/tensorflow_backend.py:986: The name tf.assign_add is deprecated. Please use tf.compat.v1.assign_add instead.\n",
      "\n"
     ]
    },
    {
     "name": "stdout",
     "output_type": "stream",
     "text": [
      "Train on 101134 samples, validate on 25284 samples\n",
      "Epoch 1/5000\n",
      " - 18s - loss: 4.2289 - acc: 0.0700 - val_loss: 3.9350 - val_acc: 0.1493\n",
      "\n",
      "Epoch 00001: val_acc improved from -inf to 0.14926, saving model to MLP_best_model.h5\n",
      "Epoch 2/5000\n",
      " - 17s - loss: 3.4450 - acc: 0.2534 - val_loss: 2.9933 - val_acc: 0.3280\n",
      "\n",
      "Epoch 00002: val_acc improved from 0.14926 to 0.32795, saving model to MLP_best_model.h5\n",
      "Epoch 3/5000\n",
      " - 17s - loss: 2.4456 - acc: 0.4328 - val_loss: 2.5427 - val_acc: 0.3940\n",
      "\n",
      "Epoch 00003: val_acc improved from 0.32795 to 0.39396, saving model to MLP_best_model.h5\n",
      "Epoch 4/5000\n",
      " - 17s - loss: 1.9166 - acc: 0.5325 - val_loss: 2.4721 - val_acc: 0.4045\n",
      "\n",
      "Epoch 00004: val_acc improved from 0.39396 to 0.40452, saving model to MLP_best_model.h5\n",
      "Epoch 5/5000\n",
      " - 17s - loss: 1.6056 - acc: 0.5999 - val_loss: 2.5049 - val_acc: 0.4063\n",
      "\n",
      "Epoch 00005: val_acc improved from 0.40452 to 0.40634, saving model to MLP_best_model.h5\n",
      "Epoch 6/5000\n",
      " - 19s - loss: 1.3857 - acc: 0.6489 - val_loss: 2.5855 - val_acc: 0.3993\n",
      "\n",
      "Epoch 00006: val_acc did not improve from 0.40634\n",
      "Epoch 7/5000\n",
      " - 18s - loss: 1.2199 - acc: 0.6872 - val_loss: 2.6890 - val_acc: 0.3915\n",
      "\n",
      "Epoch 00007: val_acc did not improve from 0.40634\n",
      "Epoch 8/5000\n",
      " - 20s - loss: 1.0898 - acc: 0.7184 - val_loss: 2.7994 - val_acc: 0.3842\n",
      "\n",
      "Epoch 00008: val_acc did not improve from 0.40634\n",
      "Epoch 9/5000\n",
      " - 19s - loss: 0.9856 - acc: 0.7433 - val_loss: 2.9108 - val_acc: 0.3770\n",
      "\n",
      "Epoch 00009: val_acc did not improve from 0.40634\n",
      "Epoch 10/5000\n",
      " - 18s - loss: 0.9004 - acc: 0.7648 - val_loss: 3.0394 - val_acc: 0.3692\n",
      "\n",
      "Epoch 00010: val_acc did not improve from 0.40634\n",
      "Epoch 11/5000\n",
      " - 17s - loss: 0.8288 - acc: 0.7818 - val_loss: 3.1510 - val_acc: 0.3653\n",
      "\n",
      "Epoch 00011: val_acc did not improve from 0.40634\n",
      "Epoch 12/5000\n",
      " - 17s - loss: 0.7674 - acc: 0.7972 - val_loss: 3.2712 - val_acc: 0.3593\n",
      "\n",
      "Epoch 00012: val_acc did not improve from 0.40634\n",
      "Epoch 13/5000\n",
      " - 18s - loss: 0.7136 - acc: 0.8109 - val_loss: 3.3884 - val_acc: 0.3579\n",
      "\n",
      "Epoch 00013: val_acc did not improve from 0.40634\n",
      "Epoch 14/5000\n",
      " - 21s - loss: 0.6678 - acc: 0.8226 - val_loss: 3.4944 - val_acc: 0.3535\n",
      "\n",
      "Epoch 00014: val_acc did not improve from 0.40634\n",
      "Epoch 15/5000\n",
      " - 20s - loss: 0.6258 - acc: 0.8328 - val_loss: 3.6118 - val_acc: 0.3524\n",
      "\n",
      "Epoch 00015: val_acc did not improve from 0.40634\n",
      "Epoch 16/5000\n",
      " - 20s - loss: 0.5893 - acc: 0.8420 - val_loss: 3.7273 - val_acc: 0.3455\n",
      "\n",
      "Epoch 00016: val_acc did not improve from 0.40634\n",
      "Epoch 17/5000\n",
      " - 18s - loss: 0.5549 - acc: 0.8525 - val_loss: 3.8270 - val_acc: 0.3452\n",
      "\n",
      "Epoch 00017: val_acc did not improve from 0.40634\n",
      "Epoch 18/5000\n",
      " - 21s - loss: 0.5239 - acc: 0.8609 - val_loss: 3.9307 - val_acc: 0.3416\n",
      "\n",
      "Epoch 00018: val_acc did not improve from 0.40634\n",
      "Epoch 19/5000\n",
      " - 24s - loss: 0.4957 - acc: 0.8691 - val_loss: 4.0377 - val_acc: 0.3403\n",
      "\n",
      "Epoch 00019: val_acc did not improve from 0.40634\n",
      "Epoch 20/5000\n",
      " - 20s - loss: 0.4704 - acc: 0.8759 - val_loss: 4.1457 - val_acc: 0.3377\n",
      "\n",
      "Epoch 00020: val_acc did not improve from 0.40634\n",
      "Epoch 21/5000\n",
      " - 19s - loss: 0.4461 - acc: 0.8821 - val_loss: 4.2448 - val_acc: 0.3352\n",
      "\n",
      "Epoch 00021: val_acc did not improve from 0.40634\n",
      "Epoch 22/5000\n",
      " - 20s - loss: 0.4238 - acc: 0.8887 - val_loss: 4.3447 - val_acc: 0.3372\n",
      "\n",
      "Epoch 00022: val_acc did not improve from 0.40634\n",
      "Epoch 23/5000\n",
      " - 21s - loss: 0.4030 - acc: 0.8942 - val_loss: 4.4475 - val_acc: 0.3296\n",
      "\n",
      "Epoch 00023: val_acc did not improve from 0.40634\n",
      "Epoch 24/5000\n",
      " - 19s - loss: 0.3839 - acc: 0.8992 - val_loss: 4.5322 - val_acc: 0.3285\n",
      "\n",
      "Epoch 00024: val_acc did not improve from 0.40634\n",
      "Epoch 25/5000\n",
      " - 18s - loss: 0.3654 - acc: 0.9046 - val_loss: 4.6280 - val_acc: 0.3299\n",
      "\n",
      "Epoch 00025: val_acc did not improve from 0.40634\n",
      "Epoch 26/5000\n",
      " - 18s - loss: 0.3484 - acc: 0.9091 - val_loss: 4.7066 - val_acc: 0.3291\n",
      "\n",
      "Epoch 00026: val_acc did not improve from 0.40634\n",
      "Epoch 27/5000\n",
      " - 19s - loss: 0.3323 - acc: 0.9133 - val_loss: 4.8027 - val_acc: 0.3270\n",
      "\n",
      "Epoch 00027: val_acc did not improve from 0.40634\n",
      "Epoch 28/5000\n",
      " - 19s - loss: 0.3188 - acc: 0.9168 - val_loss: 4.8788 - val_acc: 0.3245\n",
      "\n",
      "Epoch 00028: val_acc did not improve from 0.40634\n",
      "Epoch 29/5000\n",
      " - 18s - loss: 0.3028 - acc: 0.9213 - val_loss: 4.9590 - val_acc: 0.3244\n",
      "\n",
      "Epoch 00029: val_acc did not improve from 0.40634\n",
      "Epoch 30/5000\n",
      " - 17s - loss: 0.2898 - acc: 0.9251 - val_loss: 5.0390 - val_acc: 0.3239\n",
      "\n",
      "Epoch 00030: val_acc did not improve from 0.40634\n",
      "Epoch 31/5000\n",
      " - 19s - loss: 0.2777 - acc: 0.9283 - val_loss: 5.1123 - val_acc: 0.3234\n",
      "\n",
      "Epoch 00031: val_acc did not improve from 0.40634\n",
      "Epoch 32/5000\n",
      " - 20s - loss: 0.2662 - acc: 0.9318 - val_loss: 5.1949 - val_acc: 0.3208\n",
      "\n",
      "Epoch 00032: val_acc did not improve from 0.40634\n",
      "Epoch 33/5000\n",
      " - 20s - loss: 0.2544 - acc: 0.9349 - val_loss: 5.2614 - val_acc: 0.3205\n",
      "\n",
      "Epoch 00033: val_acc did not improve from 0.40634\n",
      "Epoch 34/5000\n",
      " - 19s - loss: 0.2442 - acc: 0.9374 - val_loss: 5.3314 - val_acc: 0.3201\n",
      "\n",
      "Epoch 00034: val_acc did not improve from 0.40634\n",
      "Epoch 35/5000\n",
      " - 19s - loss: 0.2342 - acc: 0.9402 - val_loss: 5.3973 - val_acc: 0.3197\n",
      "\n",
      "Epoch 00035: val_acc did not improve from 0.40634\n",
      "Epoch 36/5000\n",
      " - 20s - loss: 0.2254 - acc: 0.9433 - val_loss: 5.4683 - val_acc: 0.3171\n",
      "\n",
      "Epoch 00036: val_acc did not improve from 0.40634\n",
      "Epoch 37/5000\n",
      " - 20s - loss: 0.2160 - acc: 0.9448 - val_loss: 5.5244 - val_acc: 0.3170\n",
      "\n",
      "Epoch 00037: val_acc did not improve from 0.40634\n",
      "Epoch 38/5000\n",
      " - 17s - loss: 0.2081 - acc: 0.9476 - val_loss: 5.5873 - val_acc: 0.3176\n",
      "\n",
      "Epoch 00038: val_acc did not improve from 0.40634\n",
      "Epoch 39/5000\n",
      " - 18s - loss: 0.2011 - acc: 0.9492 - val_loss: 5.6459 - val_acc: 0.3159\n",
      "\n",
      "Epoch 00039: val_acc did not improve from 0.40634\n",
      "Epoch 40/5000\n",
      " - 21s - loss: 0.1951 - acc: 0.9508 - val_loss: 5.7063 - val_acc: 0.3130\n",
      "\n",
      "Epoch 00040: val_acc did not improve from 0.40634\n",
      "Epoch 41/5000\n",
      " - 19s - loss: 0.1879 - acc: 0.9528 - val_loss: 5.7601 - val_acc: 0.3145\n",
      "\n",
      "Epoch 00041: val_acc did not improve from 0.40634\n",
      "Epoch 42/5000\n",
      " - 19s - loss: 0.1823 - acc: 0.9541 - val_loss: 5.8149 - val_acc: 0.3126\n",
      "\n",
      "Epoch 00042: val_acc did not improve from 0.40634\n",
      "Epoch 43/5000\n",
      " - 18s - loss: 0.1761 - acc: 0.9552 - val_loss: 5.8635 - val_acc: 0.3149\n",
      "\n",
      "Epoch 00043: val_acc did not improve from 0.40634\n",
      "Epoch 44/5000\n",
      " - 18s - loss: 0.1700 - acc: 0.9572 - val_loss: 5.9170 - val_acc: 0.3122\n",
      "\n",
      "Epoch 00044: val_acc did not improve from 0.40634\n",
      "Epoch 45/5000\n",
      " - 18s - loss: 0.1652 - acc: 0.9580 - val_loss: 5.9596 - val_acc: 0.3155\n",
      "\n",
      "Epoch 00045: val_acc did not improve from 0.40634\n",
      "Epoch 46/5000\n",
      " - 18s - loss: 0.1602 - acc: 0.9594 - val_loss: 6.0065 - val_acc: 0.3138\n",
      "\n",
      "Epoch 00046: val_acc did not improve from 0.40634\n",
      "Epoch 47/5000\n",
      " - 19s - loss: 0.1558 - acc: 0.9598 - val_loss: 6.0547 - val_acc: 0.3134\n",
      "\n",
      "Epoch 00047: val_acc did not improve from 0.40634\n",
      "Epoch 48/5000\n",
      " - 18s - loss: 0.1520 - acc: 0.9608 - val_loss: 6.0958 - val_acc: 0.3129\n",
      "\n",
      "Epoch 00048: val_acc did not improve from 0.40634\n",
      "Epoch 49/5000\n",
      " - 18s - loss: 0.1486 - acc: 0.9618 - val_loss: 6.1321 - val_acc: 0.3121\n",
      "\n",
      "Epoch 00049: val_acc did not improve from 0.40634\n",
      "Epoch 50/5000\n",
      " - 18s - loss: 0.1439 - acc: 0.9628 - val_loss: 6.1810 - val_acc: 0.3110\n",
      "\n",
      "Epoch 00050: val_acc did not improve from 0.40634\n",
      "Epoch 51/5000\n",
      " - 19s - loss: 0.1421 - acc: 0.9630 - val_loss: 6.2128 - val_acc: 0.3121\n",
      "\n",
      "Epoch 00051: val_acc did not improve from 0.40634\n",
      "Epoch 52/5000\n",
      " - 17s - loss: 0.1378 - acc: 0.9643 - val_loss: 6.2542 - val_acc: 0.3121\n",
      "\n",
      "Epoch 00052: val_acc did not improve from 0.40634\n",
      "Epoch 53/5000\n",
      " - 18s - loss: 0.1354 - acc: 0.9648 - val_loss: 6.2843 - val_acc: 0.3126\n",
      "\n",
      "Epoch 00053: val_acc did not improve from 0.40634\n",
      "Epoch 54/5000\n",
      " - 17s - loss: 0.1330 - acc: 0.9650 - val_loss: 6.3292 - val_acc: 0.3102\n",
      "\n",
      "Epoch 00054: val_acc did not improve from 0.40634\n",
      "Epoch 55/5000\n",
      " - 17s - loss: 0.1309 - acc: 0.9655 - val_loss: 6.3587 - val_acc: 0.3110\n",
      "\n",
      "Epoch 00055: val_acc did not improve from 0.40634\n",
      "Epoch 00055: early stopping\n",
      "Time elapsed during training: 1028.5020470619202\n",
      "Accuracy on training set: 0.6593331619423813\n",
      "Accuracy on held-out test set: 0.406343932922006\n"
     ]
    }
   ],
   "source": [
    "from keras.models import Sequential\n",
    "from keras.layers import Dense\n",
    "from keras.layers import Dropout\n",
    "from keras.callbacks import EarlyStopping\n",
    "from keras.callbacks import ModelCheckpoint\n",
    "from time import time\n",
    "from keras.models import load_model\n",
    "\n",
    "XMatrix_train = vectorizer.fit_transform(X_train)\n",
    "vocabulary = np.array(vectorizer.get_feature_names())\n",
    "vocabularySize = vocabulary.size\n",
    "\n",
    "XMatrix_test = vectorizer.transform(X_test)\n",
    "\n",
    "layer1 = Dense(256, activation=\"relu\", input_dim=vocabularySize)\n",
    "layer2 = Dense(256, activation=\"relu\")\n",
    "outputLayer = Dense(93, activation=\"softmax\")\n",
    "classifierMLP = Sequential([layer1, layer2, outputLayer])\n",
    "classifierMLP.compile(loss='categorical_crossentropy', optimizer=\"adam\", metrics=[\"acc\"])\n",
    "\n",
    "early_stopping = EarlyStopping(monitor=\"val_acc\", mode=\"max\", patience=50, verbose=2)\n",
    "best_model_saving = ModelCheckpoint(\"MLP_best_model.h5\", monitor=\"val_acc\", mode=\"max\", save_best_only=True, verbose=2)\n",
    "\n",
    "start_time = time()\n",
    "history = classifierMLP.fit(XMatrix_train,onehot_train, epochs=5000, batch_size=2048, validation_data=(XMatrix_test,onehot_test), callbacks=[early_stopping, best_model_saving], verbose=2)\n",
    "end_time = time()\n",
    "print(\"Time elapsed during training: {}\".format(end_time - start_time))\n",
    "\n",
    "classifierMLP = load_model(\"MLP_best_model.h5\")\n",
    "_, train_accuracy = classifierMLP.evaluate(XMatrix_train, onehot_train, verbose=0)\n",
    "print(\"Accuracy on training set: {}\".format(train_accuracy))\n",
    "_, test_accuracy = classifierMLP.evaluate(XMatrix_test, onehot_test, verbose=0)\n",
    "print(\"Accuracy on held-out test set: {}\".format(test_accuracy))"
   ]
  },
  {
   "cell_type": "code",
   "execution_count": 9,
   "metadata": {},
   "outputs": [
    {
     "data": {
      "image/png": "[encoded data removed]",
      "text/plain": [
       "<Figure size 432x288 with 1 Axes>"
      ]
     },
     "metadata": {
      "needs_background": "light"
     },
     "output_type": "display_data"
    }
   ],
   "source": [
    "def plotFittingAccuracy(history):\n",
    "    \n",
    "    plt.plot(history.history['acc'], label='train set')\n",
    "    plt.plot(history.history['val_acc'], label='test set')\n",
    "    \n",
    "    plt.title(\"Accuracy during training\")\n",
    "    plt.ylabel(\"accuracy\")\n",
    "    plt.xlabel(\"epoch\")\n",
    "    plt.legend()\n",
    "    plt.show()\n",
    "    \n",
    "plotFittingAccuracy(history)"
   ]
  },
  {
   "cell_type": "markdown",
   "metadata": {},
   "source": [
    "# Precision-recall"
   ]
  },
  {
   "cell_type": "code",
   "execution_count": 10,
   "metadata": {},
   "outputs": [],
   "source": [
    "probabilityNB = classifierNB.predict_proba(X_test)\n",
    "classListNB = classifierNB.classes_\n",
    "realLabelNB = np.equal(np.repeat(np.reshape(y_test, (-1, 1)), len(classListNB), axis=1), np.repeat(np.reshape(classListNB, (1, -1)), len(y_test), axis=0))\n",
    "\n",
    "probabilityMLP = classifierMLP.predict_proba(XMatrix_test)\n",
    "classListMLP = integer_encoder.classes_\n",
    "realLabelMLP = np.equal(np.repeat(np.reshape(y_test, (-1, 1)), len(classListMLP), axis=1), np.repeat(np.reshape(classListMLP, (1, -1)), len(y_test), axis=0))\n",
    "\n",
    "\n",
    "thresholds = np.arange(0, 1.001, 0.001)\n",
    "\n",
    "correctSuggestionRateNB = np.zeros(len(thresholds))\n",
    "correctSuggestionRateMLP = np.zeros(len(thresholds))\n",
    "\n",
    "for i, threshold in enumerate(thresholds):\n",
    "    \n",
    "    predictedLabelNB = probabilityNB >= threshold\n",
    "    correctSuggestionRateNB[i] = np.any((predictedLabelNB & realLabelNB), axis=1).mean()\n",
    "    \n",
    "    predictedLabelMLP = probabilityMLP >= threshold\n",
    "    correctSuggestionRateMLP[i] = np.any((predictedLabelMLP & realLabelMLP), axis=1).mean()"
   ]
  },
  {
   "cell_type": "code",
   "execution_count": 11,
   "metadata": {},
   "outputs": [
    {
     "data": {
      "text/plain": [
       "Text(0, 0.5, 'correct suggestion rate')"
      ]
     },
     "execution_count": 11,
     "metadata": {},
     "output_type": "execute_result"
    },
    {
     "data": {
      "image/png": "[encoded data removed]",
      "text/plain": [
       "<Figure size 648x648 with 1 Axes>"
      ]
     },
     "metadata": {
      "needs_background": "light"
     },
     "output_type": "display_data"
    }
   ],
   "source": [
    "plt.figure(figsize=(9,9))\n",
    "\n",
    "plt.plot(thresholds, correctSuggestionRateNB, label=\"naive Bayes\")\n",
    "plt.plot(thresholds, correctSuggestionRateMLP, label=\"multilayer perceptron network\")\n",
    "\n",
    "plt.xlim([0, 1])\n",
    "plt.ylim([0, 1])\n",
    "plt.gca().set_aspect('equal')\n",
    "plt.legend(loc=\"upper right\")\n",
    "plt.xlabel(\"threhold\")\n",
    "plt.ylabel(\"correct suggestion rate\")"
   ]
  }
 ],
 "metadata": {
  "kernelspec": {
   "display_name": "Python 3",
   "language": "python",
   "name": "python3"
  },
  "language_info": {
   "codemirror_mode": {
    "name": "ipython",
    "version": 3
   },
   "file_extension": ".py",
   "mimetype": "text/x-python",
   "name": "python",
   "nbconvert_exporter": "python",
   "pygments_lexer": "ipython3",
   "version": "3.7.3"
  }
 },
 "nbformat": 4,
 "nbformat_minor": 2
}
